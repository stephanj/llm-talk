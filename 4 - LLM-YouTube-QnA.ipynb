{
 "cells": [
  {
   "cell_type": "code",
   "execution_count": 1,
   "id": "5d26558c-2ca4-4c6c-86fc-e97771468713",
   "metadata": {
    "tags": []
   },
   "outputs": [
    {
     "name": "stdout",
     "output_type": "stream",
     "text": [
      "Requirement already satisfied: youtube-transcript-api==0.5.0 in /Users/stephan/miniforge3/envs/jupyter/lib/python3.9/site-packages (0.5.0)\n",
      "Requirement already satisfied: requests in /Users/stephan/miniforge3/envs/jupyter/lib/python3.9/site-packages (from youtube-transcript-api==0.5.0) (2.28.2)\n",
      "Requirement already satisfied: urllib3<1.27,>=1.21.1 in /Users/stephan/miniforge3/envs/jupyter/lib/python3.9/site-packages (from requests->youtube-transcript-api==0.5.0) (1.26.14)\n",
      "Requirement already satisfied: certifi>=2017.4.17 in /Users/stephan/miniforge3/envs/jupyter/lib/python3.9/site-packages (from requests->youtube-transcript-api==0.5.0) (2022.12.7)\n",
      "Requirement already satisfied: idna<4,>=2.5 in /Users/stephan/miniforge3/envs/jupyter/lib/python3.9/site-packages (from requests->youtube-transcript-api==0.5.0) (3.4)\n",
      "Requirement already satisfied: charset-normalizer<4,>=2 in /Users/stephan/miniforge3/envs/jupyter/lib/python3.9/site-packages (from requests->youtube-transcript-api==0.5.0) (2.1.1)\n",
      "Note: you may need to restart the kernel to use updated packages.\n",
      "Requirement already satisfied: pytube==12.1.2 in /Users/stephan/miniforge3/envs/jupyter/lib/python3.9/site-packages (12.1.2)\n",
      "Note: you may need to restart the kernel to use updated packages.\n",
      "Requirement already satisfied: transformers==4.26.1 in /Users/stephan/miniforge3/envs/jupyter/lib/python3.9/site-packages (4.26.1)\n",
      "Requirement already satisfied: tqdm>=4.27 in /Users/stephan/miniforge3/envs/jupyter/lib/python3.9/site-packages (from transformers==4.26.1) (4.65.0)\n",
      "Requirement already satisfied: pyyaml>=5.1 in /Users/stephan/miniforge3/envs/jupyter/lib/python3.9/site-packages (from transformers==4.26.1) (6.0)\n",
      "Requirement already satisfied: huggingface-hub<1.0,>=0.11.0 in /Users/stephan/miniforge3/envs/jupyter/lib/python3.9/site-packages (from transformers==4.26.1) (0.12.1)\n",
      "Requirement already satisfied: requests in /Users/stephan/miniforge3/envs/jupyter/lib/python3.9/site-packages (from transformers==4.26.1) (2.28.2)\n",
      "Requirement already satisfied: tokenizers!=0.11.3,<0.14,>=0.11.1 in /Users/stephan/miniforge3/envs/jupyter/lib/python3.9/site-packages (from transformers==4.26.1) (0.13.2)\n",
      "Requirement already satisfied: packaging>=20.0 in /Users/stephan/miniforge3/envs/jupyter/lib/python3.9/site-packages (from transformers==4.26.1) (23.0)\n",
      "Requirement already satisfied: numpy>=1.17 in /Users/stephan/miniforge3/envs/jupyter/lib/python3.9/site-packages (from transformers==4.26.1) (1.21.6)\n",
      "Requirement already satisfied: regex!=2019.12.17 in /Users/stephan/miniforge3/envs/jupyter/lib/python3.9/site-packages (from transformers==4.26.1) (2022.10.31)\n",
      "Requirement already satisfied: filelock in /Users/stephan/miniforge3/envs/jupyter/lib/python3.9/site-packages (from transformers==4.26.1) (3.9.0)\n",
      "Requirement already satisfied: typing-extensions>=3.7.4.3 in /Users/stephan/miniforge3/envs/jupyter/lib/python3.9/site-packages (from huggingface-hub<1.0,>=0.11.0->transformers==4.26.1) (4.4.0)\n",
      "Requirement already satisfied: charset-normalizer<4,>=2 in /Users/stephan/miniforge3/envs/jupyter/lib/python3.9/site-packages (from requests->transformers==4.26.1) (2.1.1)\n",
      "Requirement already satisfied: certifi>=2017.4.17 in /Users/stephan/miniforge3/envs/jupyter/lib/python3.9/site-packages (from requests->transformers==4.26.1) (2022.12.7)\n",
      "Requirement already satisfied: idna<4,>=2.5 in /Users/stephan/miniforge3/envs/jupyter/lib/python3.9/site-packages (from requests->transformers==4.26.1) (3.4)\n",
      "Requirement already satisfied: urllib3<1.27,>=1.21.1 in /Users/stephan/miniforge3/envs/jupyter/lib/python3.9/site-packages (from requests->transformers==4.26.1) (1.26.14)\n",
      "Note: you may need to restart the kernel to use updated packages.\n",
      "Requirement already satisfied: tiktoken==0.3.3 in /Users/stephan/miniforge3/envs/jupyter/lib/python3.9/site-packages (0.3.3)\n",
      "Requirement already satisfied: requests>=2.26.0 in /Users/stephan/miniforge3/envs/jupyter/lib/python3.9/site-packages (from tiktoken==0.3.3) (2.28.2)\n",
      "Requirement already satisfied: regex>=2022.1.18 in /Users/stephan/miniforge3/envs/jupyter/lib/python3.9/site-packages (from tiktoken==0.3.3) (2022.10.31)\n",
      "Requirement already satisfied: certifi>=2017.4.17 in /Users/stephan/miniforge3/envs/jupyter/lib/python3.9/site-packages (from requests>=2.26.0->tiktoken==0.3.3) (2022.12.7)\n",
      "Requirement already satisfied: charset-normalizer<4,>=2 in /Users/stephan/miniforge3/envs/jupyter/lib/python3.9/site-packages (from requests>=2.26.0->tiktoken==0.3.3) (2.1.1)\n",
      "Requirement already satisfied: idna<4,>=2.5 in /Users/stephan/miniforge3/envs/jupyter/lib/python3.9/site-packages (from requests>=2.26.0->tiktoken==0.3.3) (3.4)\n",
      "Requirement already satisfied: urllib3<1.27,>=1.21.1 in /Users/stephan/miniforge3/envs/jupyter/lib/python3.9/site-packages (from requests>=2.26.0->tiktoken==0.3.3) (1.26.14)\n",
      "Note: you may need to restart the kernel to use updated packages.\n",
      "Requirement already satisfied: openai==0.27.2 in /Users/stephan/miniforge3/envs/jupyter/lib/python3.9/site-packages (0.27.2)\n",
      "Requirement already satisfied: tqdm in /Users/stephan/miniforge3/envs/jupyter/lib/python3.9/site-packages (from openai==0.27.2) (4.65.0)\n",
      "Requirement already satisfied: requests>=2.20 in /Users/stephan/miniforge3/envs/jupyter/lib/python3.9/site-packages (from openai==0.27.2) (2.28.2)\n",
      "Requirement already satisfied: aiohttp in /Users/stephan/miniforge3/envs/jupyter/lib/python3.9/site-packages (from openai==0.27.2) (3.8.4)\n",
      "Requirement already satisfied: certifi>=2017.4.17 in /Users/stephan/miniforge3/envs/jupyter/lib/python3.9/site-packages (from requests>=2.20->openai==0.27.2) (2022.12.7)\n",
      "Requirement already satisfied: charset-normalizer<4,>=2 in /Users/stephan/miniforge3/envs/jupyter/lib/python3.9/site-packages (from requests>=2.20->openai==0.27.2) (2.1.1)\n",
      "Requirement already satisfied: urllib3<1.27,>=1.21.1 in /Users/stephan/miniforge3/envs/jupyter/lib/python3.9/site-packages (from requests>=2.20->openai==0.27.2) (1.26.14)\n",
      "Requirement already satisfied: idna<4,>=2.5 in /Users/stephan/miniforge3/envs/jupyter/lib/python3.9/site-packages (from requests>=2.20->openai==0.27.2) (3.4)\n",
      "Requirement already satisfied: aiosignal>=1.1.2 in /Users/stephan/miniforge3/envs/jupyter/lib/python3.9/site-packages (from aiohttp->openai==0.27.2) (1.3.1)\n",
      "Requirement already satisfied: yarl<2.0,>=1.0 in /Users/stephan/miniforge3/envs/jupyter/lib/python3.9/site-packages (from aiohttp->openai==0.27.2) (1.8.2)\n",
      "Requirement already satisfied: frozenlist>=1.1.1 in /Users/stephan/miniforge3/envs/jupyter/lib/python3.9/site-packages (from aiohttp->openai==0.27.2) (1.3.3)\n",
      "Requirement already satisfied: multidict<7.0,>=4.5 in /Users/stephan/miniforge3/envs/jupyter/lib/python3.9/site-packages (from aiohttp->openai==0.27.2) (6.0.4)\n",
      "Requirement already satisfied: async-timeout<5.0,>=4.0.0a3 in /Users/stephan/miniforge3/envs/jupyter/lib/python3.9/site-packages (from aiohttp->openai==0.27.2) (4.0.2)\n",
      "Requirement already satisfied: attrs>=17.3.0 in /Users/stephan/miniforge3/envs/jupyter/lib/python3.9/site-packages (from aiohttp->openai==0.27.2) (22.2.0)\n",
      "Note: you may need to restart the kernel to use updated packages.\n",
      "Requirement already satisfied: langchain==0.0.134 in /Users/stephan/miniforge3/envs/jupyter/lib/python3.9/site-packages (0.0.134)\n",
      "Requirement already satisfied: SQLAlchemy<2,>=1 in /Users/stephan/miniforge3/envs/jupyter/lib/python3.9/site-packages (from langchain==0.0.134) (1.4.46)\n",
      "Requirement already satisfied: dataclasses-json<0.6.0,>=0.5.7 in /Users/stephan/miniforge3/envs/jupyter/lib/python3.9/site-packages (from langchain==0.0.134) (0.5.7)\n",
      "Requirement already satisfied: tenacity<9.0.0,>=8.1.0 in /Users/stephan/miniforge3/envs/jupyter/lib/python3.9/site-packages (from langchain==0.0.134) (8.2.2)\n",
      "Requirement already satisfied: numpy<2,>=1 in /Users/stephan/miniforge3/envs/jupyter/lib/python3.9/site-packages (from langchain==0.0.134) (1.21.6)\n",
      "Requirement already satisfied: openapi-schema-pydantic<2.0,>=1.2 in /Users/stephan/miniforge3/envs/jupyter/lib/python3.9/site-packages (from langchain==0.0.134) (1.2.4)\n",
      "Requirement already satisfied: requests<3,>=2 in /Users/stephan/miniforge3/envs/jupyter/lib/python3.9/site-packages (from langchain==0.0.134) (2.28.2)\n",
      "Requirement already satisfied: async-timeout<5.0.0,>=4.0.0 in /Users/stephan/miniforge3/envs/jupyter/lib/python3.9/site-packages (from langchain==0.0.134) (4.0.2)\n",
      "Requirement already satisfied: pydantic<2,>=1 in /Users/stephan/miniforge3/envs/jupyter/lib/python3.9/site-packages (from langchain==0.0.134) (1.10.5)\n",
      "Requirement already satisfied: PyYAML>=5.4.1 in /Users/stephan/miniforge3/envs/jupyter/lib/python3.9/site-packages (from langchain==0.0.134) (6.0)\n",
      "Requirement already satisfied: aiohttp<4.0.0,>=3.8.3 in /Users/stephan/miniforge3/envs/jupyter/lib/python3.9/site-packages (from langchain==0.0.134) (3.8.4)\n",
      "Requirement already satisfied: attrs>=17.3.0 in /Users/stephan/miniforge3/envs/jupyter/lib/python3.9/site-packages (from aiohttp<4.0.0,>=3.8.3->langchain==0.0.134) (22.2.0)\n",
      "Requirement already satisfied: aiosignal>=1.1.2 in /Users/stephan/miniforge3/envs/jupyter/lib/python3.9/site-packages (from aiohttp<4.0.0,>=3.8.3->langchain==0.0.134) (1.3.1)\n",
      "Requirement already satisfied: yarl<2.0,>=1.0 in /Users/stephan/miniforge3/envs/jupyter/lib/python3.9/site-packages (from aiohttp<4.0.0,>=3.8.3->langchain==0.0.134) (1.8.2)\n",
      "Requirement already satisfied: frozenlist>=1.1.1 in /Users/stephan/miniforge3/envs/jupyter/lib/python3.9/site-packages (from aiohttp<4.0.0,>=3.8.3->langchain==0.0.134) (1.3.3)\n",
      "Requirement already satisfied: charset-normalizer<4.0,>=2.0 in /Users/stephan/miniforge3/envs/jupyter/lib/python3.9/site-packages (from aiohttp<4.0.0,>=3.8.3->langchain==0.0.134) (2.1.1)\n",
      "Requirement already satisfied: multidict<7.0,>=4.5 in /Users/stephan/miniforge3/envs/jupyter/lib/python3.9/site-packages (from aiohttp<4.0.0,>=3.8.3->langchain==0.0.134) (6.0.4)\n",
      "Requirement already satisfied: typing-inspect>=0.4.0 in /Users/stephan/miniforge3/envs/jupyter/lib/python3.9/site-packages (from dataclasses-json<0.6.0,>=0.5.7->langchain==0.0.134) (0.8.0)\n",
      "Requirement already satisfied: marshmallow-enum<2.0.0,>=1.5.1 in /Users/stephan/miniforge3/envs/jupyter/lib/python3.9/site-packages (from dataclasses-json<0.6.0,>=0.5.7->langchain==0.0.134) (1.5.1)\n",
      "Requirement already satisfied: marshmallow<4.0.0,>=3.3.0 in /Users/stephan/miniforge3/envs/jupyter/lib/python3.9/site-packages (from dataclasses-json<0.6.0,>=0.5.7->langchain==0.0.134) (3.19.0)\n",
      "Requirement already satisfied: typing-extensions>=4.2.0 in /Users/stephan/miniforge3/envs/jupyter/lib/python3.9/site-packages (from pydantic<2,>=1->langchain==0.0.134) (4.4.0)\n",
      "Requirement already satisfied: certifi>=2017.4.17 in /Users/stephan/miniforge3/envs/jupyter/lib/python3.9/site-packages (from requests<3,>=2->langchain==0.0.134) (2022.12.7)\n",
      "Requirement already satisfied: urllib3<1.27,>=1.21.1 in /Users/stephan/miniforge3/envs/jupyter/lib/python3.9/site-packages (from requests<3,>=2->langchain==0.0.134) (1.26.14)\n",
      "Requirement already satisfied: idna<4,>=2.5 in /Users/stephan/miniforge3/envs/jupyter/lib/python3.9/site-packages (from requests<3,>=2->langchain==0.0.134) (3.4)\n",
      "Requirement already satisfied: packaging>=17.0 in /Users/stephan/miniforge3/envs/jupyter/lib/python3.9/site-packages (from marshmallow<4.0.0,>=3.3.0->dataclasses-json<0.6.0,>=0.5.7->langchain==0.0.134) (23.0)\n",
      "Requirement already satisfied: mypy-extensions>=0.3.0 in /Users/stephan/miniforge3/envs/jupyter/lib/python3.9/site-packages (from typing-inspect>=0.4.0->dataclasses-json<0.6.0,>=0.5.7->langchain==0.0.134) (1.0.0)\n",
      "Note: you may need to restart the kernel to use updated packages.\n",
      "Requirement already satisfied: python-dotenv==1.0.0 in /Users/stephan/miniforge3/envs/jupyter/lib/python3.9/site-packages (1.0.0)\n",
      "Note: you may need to restart the kernel to use updated packages.\n",
      "Requirement already satisfied: faiss-cpu==1.7.3 in /Users/stephan/miniforge3/envs/jupyter/lib/python3.9/site-packages (1.7.3)\n",
      "Note: you may need to restart the kernel to use updated packages.\n"
     ]
    }
   ],
   "source": [
    "%pip install youtube-transcript-api==0.5.0  # YouTube lib to get transcript\n",
    "%pip install pytube==12.1.2                 # YouTube lib\n",
    "%pip install transformers==4.26.1           # Used to know the token size\n",
    "%pip install tiktoken==0.3.3\n",
    "%pip install openai==0.27.2\n",
    "%pip install langchain==0.0.134\n",
    "%pip install python-dotenv==1.0.0\n",
    "%pip install faiss-cpu==1.7.3"
   ]
  },
  {
   "cell_type": "code",
   "execution_count": 2,
   "id": "df59412c-a416-44d4-9a21-2888cf229954",
   "metadata": {
    "tags": []
   },
   "outputs": [],
   "source": [
    "from dotenv import dotenv_values\n",
    "import os\n",
    "\n",
    "api_keys = dotenv_values('keys.txt')\n",
    "os.environ['OPENAI_API_KEY']=api_keys['OPENAI_API_KEY']"
   ]
  },
  {
   "cell_type": "code",
   "execution_count": 3,
   "id": "c73fff4b-677a-47f8-bfba-3070a78fc6ac",
   "metadata": {
    "tags": []
   },
   "outputs": [],
   "source": [
    "from langchain.llms import OpenAI\n",
    "\n",
    "llm = OpenAI()"
   ]
  },
  {
   "cell_type": "code",
   "execution_count": 16,
   "id": "9870bbac-f351-4e75-8288-2d801ae14550",
   "metadata": {},
   "outputs": [],
   "source": [
    "from langchain.text_splitter import RecursiveCharacterTextSplitter\n",
    "\n",
    "text_splitter = RecursiveCharacterTextSplitter(chunk_size=2000, chunk_overlap=0)"
   ]
  },
  {
   "cell_type": "code",
   "execution_count": 17,
   "id": "94bdc6db-156f-413a-b75c-e88360dc4676",
   "metadata": {
    "tags": []
   },
   "outputs": [],
   "source": [
    "from langchain.document_loaders.unstructured import UnstructuredFileLoader\n",
    "from langchain.document_loaders import YoutubeLoader\n",
    "\n",
    "loader = YoutubeLoader(\"FtyKgybYkaE\", False)\n",
    "result = loader.load()"
   ]
  },
  {
   "cell_type": "code",
   "execution_count": 6,
   "id": "4a81cca2-8136-41bf-b55c-ce1249e04dd3",
   "metadata": {},
   "outputs": [
    {
     "data": {
      "text/plain": [
       "14"
      ]
     },
     "execution_count": 6,
     "metadata": {},
     "output_type": "execute_result"
    }
   ],
   "source": [
    "from langchain.text_splitter import RecursiveCharacterTextSplitter\n",
    "text_splitter = RecursiveCharacterTextSplitter(chunk_size=2000, chunk_overlap=0)\n",
    "\n",
    "docs = text_splitter.split_documents(result)\n",
    "len(docs)"
   ]
  },
  {
   "cell_type": "code",
   "execution_count": 18,
   "id": "d25017e0-c9e4-42a8-a70f-263cf5367331",
   "metadata": {
    "tags": []
   },
   "outputs": [],
   "source": [
    "from langchain.embeddings.openai import OpenAIEmbeddings\n",
    "\n",
    "embeddings = OpenAIEmbeddings()"
   ]
  },
  {
   "cell_type": "code",
   "execution_count": 19,
   "id": "8b9b0da8-ef4c-49cc-82d0-d0849a0dc97f",
   "metadata": {
    "tags": []
   },
   "outputs": [],
   "source": [
    "# Embed and store the texts\n",
    "from langchain.vectorstores import FAISS\n",
    "\n",
    "vectorstore = FAISS.from_documents(docs, embeddings)"
   ]
  },
  {
   "cell_type": "code",
   "execution_count": 11,
   "id": "e8a3b14e-fb79-4f96-8757-9c30c516fbe2",
   "metadata": {},
   "outputs": [
    {
     "data": {
      "text/plain": [
       "4"
      ]
     },
     "execution_count": 11,
     "metadata": {},
     "output_type": "execute_result"
    }
   ],
   "source": [
    "query = \"How many tickets were sold?\"\n",
    "search_results = vectorstore.similarity_search(query)\n",
    "len(search_results)"
   ]
  },
  {
   "cell_type": "code",
   "execution_count": 20,
   "id": "75244020-118e-4d51-8c88-6ad9f2d48b94",
   "metadata": {},
   "outputs": [
    {
     "data": {
      "text/plain": [
       "[Document(page_content=\"so but if you look at it it's been three years basically and it was obviously from the beginning that people really want to get back into person events so we were assuming or we were anticipating that it would sell out fast and I will be so for devops France I think it was 11 hours Nicola 11 hours they've experience was so loud so we said like I was guessing like three days and but I said like just to play it safe we'll do two batches so we had one batch of 2000 tickets and another batch of 750 tickets and of course there's a lot of other extra tickets out just to give you the real number we are with 3200 unique developers here uh during the week so so that's the total number um and so we said the first batch we open it up we use the a very a nice registration application which I'll talk about later on and there was 1 600 tickets gone in five minutes in five minutes these were all the combi and the Deep dive sorry the combi and the conference tickets those were all gone in five minutes I was like refreshing and the first reflex was oh damn there's a bug in the system but it's an open source platform so I knew it was a battle grounded so I was like what what was happening is like five minutes seriously that's not fair for a lot of people and like Christina and I we were like excited and then in the afternoon we were actually I was actually shaking seriously I was like what's happening this is like it's like a techno event or like Tomorrowland people were tweeting it's like what the hell but then the other in the afternoon yeah we started to get calls like companies like I won't say any names but there were like lots of companies like what happens my guy was in the traffic jam he was there at 9 30 and everything was gone so we had to do a bit of damage control and luckily we had the second batch and so we were basically taking some tickets from that and giving it to this about selling it to the sponsors but we need to think about that for next year because I really\", metadata={'source': 'FtyKgybYkaE'}),\n",
       " Document(page_content=\"hope this was just a pandemic effect right next year hopefully it will not go that fast I don't know let's see so but we said like well Christine was like literally going like this and Christine is my wife I mean without her I would not be able to organize this I would have been broke already 10 times right everything would really run in chaos Etc I'm more creative she does all the administration and she's a great great help and my partner in crime so let's give it a close to her as well but uh our printers she she has to print it because we're working with an accountancy which needs to have the paper the printer was really going like that it was like what all day printing the invoices and we're using spigots spigot was running on a kubernetes cluster it it didn't bind I mean it was really nicely scalable so it could handle as many as we want so that that was fine so great job by celestino who also organizes the scanning if you ever want to organize an event you need an open source registration app it's free you can use it it's great products and and I really appreciate Celestino's work so thank you and so we said like even the printer was saying like please cool down Yeah we actually had the taste of the toner in our mouth the first day because we're just printing constantly so that was like Wow and then yeah then of course the phone calls came in and said like well we need more tickets Etc I said no problem no problem we have a second batch we'll have a second back towards it 15 of September no problem uh just just registered there and you'll be fine so in the theme of Top Gun um this wasn't this is what happened and it was gone two seconds and I was like I was refreshing I was like what two seconds how's that possible two seconds so they were really there were no bots so it was real persons actually there was a company with 10 people who were refreshing to make sure they got the ticket so it's like bloody hell so it looks it's obvious everybody wants to be back\", metadata={'source': 'FtyKgybYkaE'}),\n",
       " Document(page_content=\"need to know everything he said no no no just focus on the small part you don't need to know everything right so make sure you don't scare them off either right but get your copy we will have them at the registration desk and so this year I deliberately decided not to stream the talks because I said like I had enough of this virtual streaming stuff I will do it only on demand because it's also an extra stress as you can see sometimes things can go wrong and with streaming all these talks something can go wrong so I wanted to eliminate that risk so we are recording all of the talks all the talks from Monday are already on our YouTube channel um we will release the talks from yesterday later after the screen Hotel I'll put them public but basically all the talks which are happening in the cinema rooms are made available on our YouTube channel so make sure you don't have to miss anything if there is a room which is full just turn go to another session and then watch that talk later on you know tomorrow or during the weekends when it starts raining again and the the channel is really growing and we have 134 000 people subscribing and I tell that to a lot of speakers like there's some speakers who you know like yesterday there was a few talks which didn't have that many attendees because they were all going to vent cut of course right and said don't worry I mean doing the talk in front of a few people that's totally fine because prime time is online right there are talks which only had a few people and then you have a hundred or two hundred thousand views on on YouTube so even for the speaker you know it is shared with the community and and we make that available for everybody to enjoy so that's where you need to go a bit of information of the proposals just to give you a bit of context we actually received 736 stocks in our cfp and we actually limit it to three talks per speaker if we would not have done that we probably would have had double the talks because a lot of\", metadata={'source': 'FtyKgybYkaE'}),\n",
       " Document(page_content=\"[Music] thank you good morning devoxx finally it's my slider I'm good after three years this pandemic stuff and so I'm so happy to be back so welcome welcome uh yeah I just want to take this in give me a second so you've probably noticed hopefully the movie Will Not Crash tomorrow evening but uh of course we have Top Gun the Maverick uh tomorrow evening at uh at in this room at eight o'clock so make sure you're here we're gonna have free popcorn for everybody so that should be a good one it was actually a bit difficult because um yeah we've moved it to beginning of October for obvious reasons and to be clear it was for the sunshine right um but um yeah all the big blockbuster movies actually get out in December so I had to actually really dig and see which movie it would be and we were able from Sony to still show this one which isn't actually displayed anymore in the cinemas who hasn't seen the movie yet okay so I think there's gonna be enough people I've I've been told it's a really great movie so anyway so welcome to the 19th Edition 19. it's actually 22 years now because we skipped a few years but I just Nicola tweeted like I need to ask who's here for the very first time wow still a lot so well you I'll talk about that later on we had a bit of a rush on the registration tickets and people are telling like yeah but you should have some kind of mechanism to make it more fair so my question is who's been here for 19 Editions one two okay so we'll just use that like you know if you come to all the additions you get pre-registration I think that's going to be easy to solve you know problem solved next up so our um our theme for this here is obviously you know it's strange times that we're living in and I like to focus on the positive things and the positive is of course you know the signs are what smart people can do with technology and we have this you know space web telescope doing circles and having drones as well don't worry about that but I just want to get\", metadata={'source': 'FtyKgybYkaE'})]"
      ]
     },
     "execution_count": 20,
     "metadata": {},
     "output_type": "execute_result"
    }
   ],
   "source": [
    "search_results"
   ]
  },
  {
   "cell_type": "code",
   "execution_count": 12,
   "id": "187aac36-b549-4d5a-9514-7132068b8804",
   "metadata": {},
   "outputs": [
    {
     "data": {
      "text/plain": [
       "' 3200 tickets were sold.'"
      ]
     },
     "execution_count": 12,
     "metadata": {},
     "output_type": "execute_result"
    }
   ],
   "source": [
    "from langchain.chains.question_answering import load_qa_chain\n",
    "\n",
    "chain = load_qa_chain(llm, chain_type=\"stuff\")\n",
    "chain.run(input_documents=search_results, question=query)"
   ]
  },
  {
   "cell_type": "code",
   "execution_count": 13,
   "id": "e3fd77e1-39a5-4505-ba80-f23481ad6300",
   "metadata": {},
   "outputs": [
    {
     "data": {
      "text/plain": [
       "(Document(page_content=\"so but if you look at it it's been three years basically and it was obviously from the beginning that people really want to get back into person events so we were assuming or we were anticipating that it would sell out fast and I will be so for devops France I think it was 11 hours Nicola 11 hours they've experience was so loud so we said like I was guessing like three days and but I said like just to play it safe we'll do two batches so we had one batch of 2000 tickets and another batch of 750 tickets and of course there's a lot of other extra tickets out just to give you the real number we are with 3200 unique developers here uh during the week so so that's the total number um and so we said the first batch we open it up we use the a very a nice registration application which I'll talk about later on and there was 1 600 tickets gone in five minutes in five minutes these were all the combi and the Deep dive sorry the combi and the conference tickets those were all gone in five minutes I was like refreshing and the first reflex was oh damn there's a bug in the system but it's an open source platform so I knew it was a battle grounded so I was like what what was happening is like five minutes seriously that's not fair for a lot of people and like Christina and I we were like excited and then in the afternoon we were actually I was actually shaking seriously I was like what's happening this is like it's like a techno event or like Tomorrowland people were tweeting it's like what the hell but then the other in the afternoon yeah we started to get calls like companies like I won't say any names but there were like lots of companies like what happens my guy was in the traffic jam he was there at 9 30 and everything was gone so we had to do a bit of damage control and luckily we had the second batch and so we were basically taking some tickets from that and giving it to this about selling it to the sponsors but we need to think about that for next year because I really\", metadata={'source': 'FtyKgybYkaE'}),\n",
       " 0.3362362)"
      ]
     },
     "execution_count": 13,
     "metadata": {},
     "output_type": "execute_result"
    }
   ],
   "source": [
    "docs_and_scores = vectorstore.similarity_search_with_score(query)\n",
    "docs_and_scores[0]"
   ]
  },
  {
   "cell_type": "code",
   "execution_count": 15,
   "id": "a50a9cb1-6ff1-4f9c-8073-b675203235ac",
   "metadata": {
    "tags": []
   },
   "outputs": [
    {
     "data": {
      "text/plain": [
       "[{'answer': ' This document does not answer the question.', 'score': '0'},\n",
       " {'answer': ' This document does not answer the question.', 'score': '0'},\n",
       " {'answer': ' 3200 tickets were sold.', 'score': '100'},\n",
       " {'answer': ' This document does not answer the question.', 'score': '0'},\n",
       " {'answer': ' This document does not answer the question', 'score': '0'},\n",
       " {'answer': ' This document does not answer the question.', 'score': '0'},\n",
       " {'answer': ' This document does not answer the question.', 'score': '0'},\n",
       " {'answer': ' This document does not answer the question.', 'score': '0'},\n",
       " {'answer': ' This document does not answer the question.', 'score': '0'},\n",
       " {'answer': ' This document does not answer the question.', 'score': '0'},\n",
       " {'answer': ' This document does not answer the question.', 'score': '0'},\n",
       " {'answer': ' This document does not answer the question.', 'score': '0'},\n",
       " {'answer': ' This document does not answer the question.', 'score': '0'},\n",
       " {'answer': ' This document does not answer the question.', 'score': '0'}]"
      ]
     },
     "execution_count": 15,
     "metadata": {},
     "output_type": "execute_result"
    }
   ],
   "source": [
    "#\n",
    "# Load QnA with intermediate steps & map rerank\n",
    "#\n",
    "# Map-Rerank:\n",
    "# This method involves running an initial prompt on each chunk of data, \n",
    "# that not only tries to complete a task but also gives a score for how certain it is in its answer. \n",
    "# The responses are then ranked according to this score, and the HIGHEST SCORE IS RETURNED.\n",
    "#\n",
    "from langchain.chains.qa_with_sources import load_qa_with_sources_chain\n",
    "\n",
    "chain = load_qa_with_sources_chain(\n",
    "    OpenAI(temperature=0), \n",
    "    chain_type=\"map_rerank\", \n",
    "    metadata_keys=['source'], \n",
    "    return_intermediate_steps=True\n",
    ")\n",
    "\n",
    "result = chain({\"input_documents\": docs, \"question\": query}, return_only_outputs=True)\n",
    "\n",
    "result[\"intermediate_steps\"]"
   ]
  },
  {
   "cell_type": "code",
   "execution_count": null,
   "id": "e8fe19c3-4899-4afc-9367-13811d651694",
   "metadata": {
    "tags": []
   },
   "outputs": [],
   "source": [
    "len(docs)"
   ]
  }
 ],
 "metadata": {
  "kernelspec": {
   "display_name": "Python 3 (ipykernel)",
   "language": "python",
   "name": "python3"
  },
  "language_info": {
   "codemirror_mode": {
    "name": "ipython",
    "version": 3
   },
   "file_extension": ".py",
   "mimetype": "text/x-python",
   "name": "python",
   "nbconvert_exporter": "python",
   "pygments_lexer": "ipython3",
   "version": "3.9.4"
  }
 },
 "nbformat": 4,
 "nbformat_minor": 5
}
