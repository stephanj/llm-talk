{
 "cells": [
  {
   "cell_type": "code",
   "execution_count": 1,
   "id": "4cc7e1aa-ae30-4ef2-9415-6a41bdc4f596",
   "metadata": {},
   "outputs": [
    {
     "name": "stdout",
     "output_type": "stream",
     "text": [
      "Requirement already satisfied: openai==0.27.2 in /Users/stephan/miniforge3/envs/jupyter/lib/python3.9/site-packages (0.27.2)\n",
      "Requirement already satisfied: aiohttp in /Users/stephan/miniforge3/envs/jupyter/lib/python3.9/site-packages (from openai==0.27.2) (3.8.4)\n",
      "Requirement already satisfied: requests>=2.20 in /Users/stephan/miniforge3/envs/jupyter/lib/python3.9/site-packages (from openai==0.27.2) (2.28.2)\n",
      "Requirement already satisfied: tqdm in /Users/stephan/miniforge3/envs/jupyter/lib/python3.9/site-packages (from openai==0.27.2) (4.65.0)\n",
      "Requirement already satisfied: charset-normalizer<4,>=2 in /Users/stephan/miniforge3/envs/jupyter/lib/python3.9/site-packages (from requests>=2.20->openai==0.27.2) (2.1.1)\n",
      "Requirement already satisfied: urllib3<1.27,>=1.21.1 in /Users/stephan/miniforge3/envs/jupyter/lib/python3.9/site-packages (from requests>=2.20->openai==0.27.2) (1.26.14)\n",
      "Requirement already satisfied: idna<4,>=2.5 in /Users/stephan/miniforge3/envs/jupyter/lib/python3.9/site-packages (from requests>=2.20->openai==0.27.2) (3.4)\n",
      "Requirement already satisfied: certifi>=2017.4.17 in /Users/stephan/miniforge3/envs/jupyter/lib/python3.9/site-packages (from requests>=2.20->openai==0.27.2) (2022.12.7)\n",
      "Requirement already satisfied: multidict<7.0,>=4.5 in /Users/stephan/miniforge3/envs/jupyter/lib/python3.9/site-packages (from aiohttp->openai==0.27.2) (6.0.4)\n",
      "Requirement already satisfied: frozenlist>=1.1.1 in /Users/stephan/miniforge3/envs/jupyter/lib/python3.9/site-packages (from aiohttp->openai==0.27.2) (1.3.3)\n",
      "Requirement already satisfied: aiosignal>=1.1.2 in /Users/stephan/miniforge3/envs/jupyter/lib/python3.9/site-packages (from aiohttp->openai==0.27.2) (1.3.1)\n",
      "Requirement already satisfied: yarl<2.0,>=1.0 in /Users/stephan/miniforge3/envs/jupyter/lib/python3.9/site-packages (from aiohttp->openai==0.27.2) (1.8.2)\n",
      "Requirement already satisfied: async-timeout<5.0,>=4.0.0a3 in /Users/stephan/miniforge3/envs/jupyter/lib/python3.9/site-packages (from aiohttp->openai==0.27.2) (4.0.2)\n",
      "Requirement already satisfied: attrs>=17.3.0 in /Users/stephan/miniforge3/envs/jupyter/lib/python3.9/site-packages (from aiohttp->openai==0.27.2) (22.2.0)\n",
      "Note: you may need to restart the kernel to use updated packages.\n"
     ]
    }
   ],
   "source": [
    "%pip install openai==0.27.2"
   ]
  },
  {
   "cell_type": "code",
   "execution_count": 2,
   "id": "76a24345-92a7-41ea-a6ef-bcd98042b04c",
   "metadata": {},
   "outputs": [],
   "source": [
    "import os\n",
    "from dotenv import dotenv_values\n",
    "\n",
    "api_keys = dotenv_values('keys.txt')\n",
    "os.environ['OPENAI_API_KEY'] = api_keys['OPENAI_API_KEY']"
   ]
  },
  {
   "cell_type": "code",
   "execution_count": 3,
   "id": "3eb15d64-118c-4db6-9c25-259125dd798f",
   "metadata": {},
   "outputs": [],
   "source": [
    "who_am_i = \"You are a helpful conference organiser.  Answer truthfully, if you don't know then say 'I don't know'\"\n",
    "\n",
    "context = \"\"\"\n",
    "Devoxx Belgium 2023 takes place on the 20th edition will start on Monday October 2nd until Friday the 6th.\n",
    "Registrations: We’ll release two batches of tickets, one on August 16th at 9h00 AM CEST and another on September 4th again at 9h00 am CEST.\n",
    "We’ll contact all existing sponsors from February 13th 2023 onwards. First signed, first served. Drop us an email if you want to be included in the sponsor emailing.\n",
    "Call For Papers: CFP will open in June and run until mid July 2023.\n",
    "Ticket types and prices:  Combi ticket are 950 euro excluding 21% VAT (one week from Monday til Friday) , Conference tickets are 600 Euro excluding 21% VAT (from Wednesday until Friday), Deep-Dive tickets are 400 Euro excluding 21% VAT (2 days from Monday till Tuesday).\n",
    "Venue is Kinepolis Antwerp Groenendaallaan 394 2030 Antwerp Belgium. Make sure you use the Business Center entrance and NOT the movie entrance.\n",
    "Different types of sessions: Conference talks are 50 minutes and take place on Wednesday, Thursday and Friday\n",
    "Deep Dive talks are in depth presentations of 3 hours taking place on Monday and Tuesday (speaker can split the deep dive into two parts of 75 minutes with a 30 minutes break)\n",
    "Tools–in-action are 30 minutes presentations demonstrating a programming tool on Mon/Tue (*)\n",
    "Hands-on Labs are 3 hours hands-on sessions and can take place on Monday, Tuesday, Wednesday and Thursday. Speakers need to bring their own portable!\n",
    "BOF sessions are 60 minutes long, scheduled in the evening and are informal taking place on Monday, Tuesday, Wednesday and Thursday\n",
    "Code of Conduct: All attendees, speakers, sponsors, and volunteers at our conference are required to agree and follow our code of conduct.\n",
    "Ticket cancellations, substitutions, and refunds Policy: Cancellation of your Devoxx conference registration for any reason, must be received in writing and sent to our registration department via email payment@devoxx.com. For a full refund (minus 25 Euro admin costs), notification must be received by July 31st 2019. During August 2019, a 50% refund will be given. No refunds will be made after September 1st 2019. No credits are given for late notices or no shows. Registrants may send a substitute attendee if written notice is received prior to the conference. Conference planners reserves the right to rescind any registration and in that event will return 100% of the registration fee.\n",
    "Car parking at Kinepolis, the venue has many hundreds of free parking spaces around the venue which are available all week long. IMPORTANT NOTE : Don’t leave any valuable things (like portable, smartphone etc) in the car while attending Devoxx!\n",
    "Newsletter: You can subscribe to the Devoxx Newsletter on our home page https://devoxx.be to receive the latest updates on our event.\n",
    "Twitter: You can follow Devoxx on Twitter at @Devoxx for real-time updates.\n",
    "Mobile App: Make sure to install our official Devoxx mobile app on Android or iOS. If you’ve favourited talks on our website then make sure to authenticate on the mobile apps using the same email.  This will allow you to sync your schedule!\n",
    "eTicket: The eTickets will get emailed one week before the conference takes place.\n",
    "Kinepolis is accessible by tram. The tram runs from the south of the city, via the central station – route. Please note that the tram runs underground in the city center. Tickets, and a 3 or 5 day pass, are available on the underground platform. The destination for Metropolis is ‘Luchtbal’ – tram 6, exit Kinepolis.\n",
    "For those staying in the Holiday Inn Express or Docklands hotels, bus 31 is recommended. Also buses 123 and 7xx.\n",
    "\"\"\""
   ]
  },
  {
   "cell_type": "code",
   "execution_count": 4,
   "id": "4d78a886-8a56-477d-b1f0-ec11586eb4d8",
   "metadata": {},
   "outputs": [],
   "source": [
    "import openai\n",
    "\n",
    "def ask_chatgpt(query, context, who_am_i):\n",
    "  \n",
    "    response = openai.ChatCompletion.create(\n",
    "    model=\"gpt-3.5-turbo-0301\",\n",
    "    messages=[\n",
    "          {\"role\": \"system\", \"content\": who_am_i},\n",
    "          {\"role\": \"system\", \"content\": context},\n",
    "          {\"role\": \"user\", \"content\": query}\n",
    "        ]\n",
    "    )\n",
    "    print(query)\n",
    "    print(response[\"choices\"][0][\"message\"][\"content\"])"
   ]
  },
  {
   "cell_type": "code",
   "execution_count": 5,
   "id": "17314651-7c99-496d-bd47-71544137872e",
   "metadata": {},
   "outputs": [
    {
     "name": "stdout",
     "output_type": "stream",
     "text": [
      "Where is Devoxx organised?\n",
      "Devoxx is organized in Belgium, specifically in Antwerp.\n"
     ]
    }
   ],
   "source": [
    "ask_chatgpt(\"Where is Devoxx organised?\", context, who_am_i) "
   ]
  },
  {
   "cell_type": "code",
   "execution_count": 6,
   "id": "36910863-41cc-4f93-83d6-2d252aeb9ca3",
   "metadata": {},
   "outputs": [
    {
     "name": "stdout",
     "output_type": "stream",
     "text": [
      "Where is Devoxx Hawaii organised?\n",
      "I'm sorry, I don't have information on Devoxx Hawaii. Devoxx events are held in several locations worldwide, but I don't have information on specific events scheduled for Hawaii.\n"
     ]
    }
   ],
   "source": [
    "ask_chatgpt(\"Where is Devoxx Hawaii organised?\", context, who_am_i)"
   ]
  },
  {
   "cell_type": "code",
   "execution_count": 7,
   "id": "b56cfaee",
   "metadata": {},
   "outputs": [
    {
     "name": "stdout",
     "output_type": "stream",
     "text": [
      "Which bus should I take for Devoxx Belgium?\n",
      "It depends on your location and where you will be staying in Belgium. However, bus 31 is recommended for those staying in the Holiday Inn Express or Docklands hotels. Additionally, buses 123 and 7xx can also be taken to the venue.\n"
     ]
    }
   ],
   "source": [
    "ask_chatgpt(\"Which bus should I take for Devoxx Belgium?\", context, who_am_i) "
   ]
  },
  {
   "cell_type": "code",
   "execution_count": null,
   "id": "082ce7b0",
   "metadata": {},
   "outputs": [],
   "source": []
  }
 ],
 "metadata": {
  "kernelspec": {
   "display_name": "Python 3 (ipykernel)",
   "language": "python",
   "name": "python3"
  },
  "language_info": {
   "codemirror_mode": {
    "name": "ipython",
    "version": 3
   },
   "file_extension": ".py",
   "mimetype": "text/x-python",
   "name": "python",
   "nbconvert_exporter": "python",
   "pygments_lexer": "ipython3",
   "version": "3.9.4"
  }
 },
 "nbformat": 4,
 "nbformat_minor": 5
}
