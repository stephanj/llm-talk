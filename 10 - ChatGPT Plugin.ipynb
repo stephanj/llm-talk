{
 "cells": [
  {
   "cell_type": "code",
   "execution_count": 3,
   "metadata": {},
   "outputs": [
    {
     "name": "stdout",
     "output_type": "stream",
     "text": [
      "Requirement already satisfied: openai==0.27.2 in /Users/stephan/miniforge3/envs/jupyter/lib/python3.9/site-packages (0.27.2)\n",
      "Requirement already satisfied: aiohttp in /Users/stephan/miniforge3/envs/jupyter/lib/python3.9/site-packages (from openai==0.27.2) (3.8.4)\n",
      "Requirement already satisfied: tqdm in /Users/stephan/miniforge3/envs/jupyter/lib/python3.9/site-packages (from openai==0.27.2) (4.65.0)\n",
      "Requirement already satisfied: requests>=2.20 in /Users/stephan/miniforge3/envs/jupyter/lib/python3.9/site-packages (from openai==0.27.2) (2.28.2)\n",
      "Requirement already satisfied: certifi>=2017.4.17 in /Users/stephan/miniforge3/envs/jupyter/lib/python3.9/site-packages (from requests>=2.20->openai==0.27.2) (2022.12.7)\n",
      "Requirement already satisfied: urllib3<1.27,>=1.21.1 in /Users/stephan/miniforge3/envs/jupyter/lib/python3.9/site-packages (from requests>=2.20->openai==0.27.2) (1.26.14)\n",
      "Requirement already satisfied: charset-normalizer<4,>=2 in /Users/stephan/miniforge3/envs/jupyter/lib/python3.9/site-packages (from requests>=2.20->openai==0.27.2) (2.1.1)\n",
      "Requirement already satisfied: idna<4,>=2.5 in /Users/stephan/miniforge3/envs/jupyter/lib/python3.9/site-packages (from requests>=2.20->openai==0.27.2) (3.4)\n",
      "Requirement already satisfied: frozenlist>=1.1.1 in /Users/stephan/miniforge3/envs/jupyter/lib/python3.9/site-packages (from aiohttp->openai==0.27.2) (1.3.3)\n",
      "Requirement already satisfied: async-timeout<5.0,>=4.0.0a3 in /Users/stephan/miniforge3/envs/jupyter/lib/python3.9/site-packages (from aiohttp->openai==0.27.2) (4.0.2)\n",
      "Requirement already satisfied: attrs>=17.3.0 in /Users/stephan/miniforge3/envs/jupyter/lib/python3.9/site-packages (from aiohttp->openai==0.27.2) (22.2.0)\n",
      "Requirement already satisfied: multidict<7.0,>=4.5 in /Users/stephan/miniforge3/envs/jupyter/lib/python3.9/site-packages (from aiohttp->openai==0.27.2) (6.0.4)\n",
      "Requirement already satisfied: aiosignal>=1.1.2 in /Users/stephan/miniforge3/envs/jupyter/lib/python3.9/site-packages (from aiohttp->openai==0.27.2) (1.3.1)\n",
      "Requirement already satisfied: yarl<2.0,>=1.0 in /Users/stephan/miniforge3/envs/jupyter/lib/python3.9/site-packages (from aiohttp->openai==0.27.2) (1.8.2)\n",
      "Note: you may need to restart the kernel to use updated packages.\n",
      "Requirement already satisfied: langchain==0.0.134 in /Users/stephan/miniforge3/envs/jupyter/lib/python3.9/site-packages (0.0.134)\n",
      "Requirement already satisfied: dataclasses-json<0.6.0,>=0.5.7 in /Users/stephan/miniforge3/envs/jupyter/lib/python3.9/site-packages (from langchain==0.0.134) (0.5.7)\n",
      "Requirement already satisfied: PyYAML>=5.4.1 in /Users/stephan/miniforge3/envs/jupyter/lib/python3.9/site-packages (from langchain==0.0.134) (6.0)\n",
      "Requirement already satisfied: openapi-schema-pydantic<2.0,>=1.2 in /Users/stephan/miniforge3/envs/jupyter/lib/python3.9/site-packages (from langchain==0.0.134) (1.2.4)\n",
      "Requirement already satisfied: numpy<2,>=1 in /Users/stephan/miniforge3/envs/jupyter/lib/python3.9/site-packages (from langchain==0.0.134) (1.21.6)\n",
      "Requirement already satisfied: requests<3,>=2 in /Users/stephan/miniforge3/envs/jupyter/lib/python3.9/site-packages (from langchain==0.0.134) (2.28.2)\n",
      "Requirement already satisfied: tenacity<9.0.0,>=8.1.0 in /Users/stephan/miniforge3/envs/jupyter/lib/python3.9/site-packages (from langchain==0.0.134) (8.2.2)\n",
      "Requirement already satisfied: aiohttp<4.0.0,>=3.8.3 in /Users/stephan/miniforge3/envs/jupyter/lib/python3.9/site-packages (from langchain==0.0.134) (3.8.4)\n",
      "Requirement already satisfied: async-timeout<5.0.0,>=4.0.0 in /Users/stephan/miniforge3/envs/jupyter/lib/python3.9/site-packages (from langchain==0.0.134) (4.0.2)\n",
      "Requirement already satisfied: pydantic<2,>=1 in /Users/stephan/miniforge3/envs/jupyter/lib/python3.9/site-packages (from langchain==0.0.134) (1.10.5)\n",
      "Requirement already satisfied: SQLAlchemy<2,>=1 in /Users/stephan/miniforge3/envs/jupyter/lib/python3.9/site-packages (from langchain==0.0.134) (1.4.46)\n",
      "Requirement already satisfied: multidict<7.0,>=4.5 in /Users/stephan/miniforge3/envs/jupyter/lib/python3.9/site-packages (from aiohttp<4.0.0,>=3.8.3->langchain==0.0.134) (6.0.4)\n",
      "Requirement already satisfied: charset-normalizer<4.0,>=2.0 in /Users/stephan/miniforge3/envs/jupyter/lib/python3.9/site-packages (from aiohttp<4.0.0,>=3.8.3->langchain==0.0.134) (2.1.1)\n",
      "Requirement already satisfied: yarl<2.0,>=1.0 in /Users/stephan/miniforge3/envs/jupyter/lib/python3.9/site-packages (from aiohttp<4.0.0,>=3.8.3->langchain==0.0.134) (1.8.2)\n",
      "Requirement already satisfied: aiosignal>=1.1.2 in /Users/stephan/miniforge3/envs/jupyter/lib/python3.9/site-packages (from aiohttp<4.0.0,>=3.8.3->langchain==0.0.134) (1.3.1)\n",
      "Requirement already satisfied: attrs>=17.3.0 in /Users/stephan/miniforge3/envs/jupyter/lib/python3.9/site-packages (from aiohttp<4.0.0,>=3.8.3->langchain==0.0.134) (22.2.0)\n",
      "Requirement already satisfied: frozenlist>=1.1.1 in /Users/stephan/miniforge3/envs/jupyter/lib/python3.9/site-packages (from aiohttp<4.0.0,>=3.8.3->langchain==0.0.134) (1.3.3)\n",
      "Requirement already satisfied: marshmallow<4.0.0,>=3.3.0 in /Users/stephan/miniforge3/envs/jupyter/lib/python3.9/site-packages (from dataclasses-json<0.6.0,>=0.5.7->langchain==0.0.134) (3.19.0)\n",
      "Requirement already satisfied: marshmallow-enum<2.0.0,>=1.5.1 in /Users/stephan/miniforge3/envs/jupyter/lib/python3.9/site-packages (from dataclasses-json<0.6.0,>=0.5.7->langchain==0.0.134) (1.5.1)\n",
      "Requirement already satisfied: typing-inspect>=0.4.0 in /Users/stephan/miniforge3/envs/jupyter/lib/python3.9/site-packages (from dataclasses-json<0.6.0,>=0.5.7->langchain==0.0.134) (0.8.0)\n",
      "Requirement already satisfied: typing-extensions>=4.2.0 in /Users/stephan/miniforge3/envs/jupyter/lib/python3.9/site-packages (from pydantic<2,>=1->langchain==0.0.134) (4.4.0)\n",
      "Requirement already satisfied: idna<4,>=2.5 in /Users/stephan/miniforge3/envs/jupyter/lib/python3.9/site-packages (from requests<3,>=2->langchain==0.0.134) (3.4)\n",
      "Requirement already satisfied: certifi>=2017.4.17 in /Users/stephan/miniforge3/envs/jupyter/lib/python3.9/site-packages (from requests<3,>=2->langchain==0.0.134) (2022.12.7)\n",
      "Requirement already satisfied: urllib3<1.27,>=1.21.1 in /Users/stephan/miniforge3/envs/jupyter/lib/python3.9/site-packages (from requests<3,>=2->langchain==0.0.134) (1.26.14)\n",
      "Requirement already satisfied: packaging>=17.0 in /Users/stephan/miniforge3/envs/jupyter/lib/python3.9/site-packages (from marshmallow<4.0.0,>=3.3.0->dataclasses-json<0.6.0,>=0.5.7->langchain==0.0.134) (23.0)\n",
      "Requirement already satisfied: mypy-extensions>=0.3.0 in /Users/stephan/miniforge3/envs/jupyter/lib/python3.9/site-packages (from typing-inspect>=0.4.0->dataclasses-json<0.6.0,>=0.5.7->langchain==0.0.134) (1.0.0)\n",
      "Note: you may need to restart the kernel to use updated packages.\n"
     ]
    }
   ],
   "source": [
    "%pip install openai==0.27.2\n",
    "%pip install langchain==0.0.134"
   ]
  },
  {
   "cell_type": "code",
   "execution_count": 4,
   "metadata": {},
   "outputs": [],
   "source": [
    "import os\n",
    "from dotenv import dotenv_values\n",
    "\n",
    "api_keys = dotenv_values('keys.txt')\n",
    "os.environ['OPENAI_API_KEY'] = api_keys['OPENAI_API_KEY']"
   ]
  },
  {
   "cell_type": "code",
   "execution_count": 19,
   "metadata": {},
   "outputs": [],
   "source": [
    "from langchain.chat_models import ChatOpenAI\n",
    "from langchain.agents import load_tools, initialize_agent\n",
    "from langchain.agents import AgentType\n",
    "from langchain.tools import AIPluginTool\n",
    "\n",
    "tools = load_tools([\"requests\"] )\n",
    "tools += [AIPluginTool.from_plugin_url(\"https://insights.devoxx.com/.well-known/ai-plugin.json\")]\n"
   ]
  },
  {
   "cell_type": "code",
   "execution_count": 20,
   "metadata": {},
   "outputs": [],
   "source": [
    "llm = ChatOpenAI(temperature=0)"
   ]
  },
  {
   "cell_type": "code",
   "execution_count": 22,
   "metadata": {},
   "outputs": [
    {
     "name": "stdout",
     "output_type": "stream",
     "text": [
      "\n",
      "\n",
      "\u001b[1m> Entering new AgentExecutor chain...\u001b[0m\n",
      "\u001b[32;1m\u001b[1;3mI need to use Devoxx Insights to search for programming books and then filter for unit test books. \n",
      "Action: DevoxxInsights\n",
      "Action Input: (none)\u001b[0m\n",
      "Observation: \u001b[33;1m\u001b[1;3mUsage Guide: Use the Devoxx Insights plugin to get relevant presentations, speaker and book details for any search query. The api works best when searching for words that are related to presentation and book titles or speaker names, like their firstname, lastname. Links will always be returned and should be shown to the user.\n",
      "\n",
      "OpenAPI Spec: {'openapi': '3.0.1', 'info': {'title': 'Devoxx Insights', 'description': 'Use the Devoxx Insights plugin to search for given presentation and speakers.', 'version': 'v1'}, 'servers': [{'url': 'https://insights.devoxx.com/api/public'}], 'paths': {'/search': {'description': 'Search for Devoxx presentations and speakers', 'get': {'operationId': 'searchPresentations', 'summary': 'Search for Devoxx presentations and speakers', 'parameters': [{'in': 'query', 'name': 'query', 'schema': {'type': 'string'}, 'required': True, 'description': 'This is this query to search for'}], 'responses': {'200': {'description': 'OK', 'content': {'application/json': {'schema': {'$ref': '#/components/schemas/searchPresentationsResponse'}}}}}}}, '/search-books': {'description': 'Search for programming books', 'get': {'operationId': 'searchBooks', 'summary': 'Search technology and programming books', 'parameters': [{'in': 'query', 'name': 'query', 'schema': {'type': 'string'}, 'required': True, 'description': 'This is this query to search for'}], 'responses': {'200': {'description': 'OK', 'content': {'application/json': {'schema': {'$ref': '#/components/schemas/searchBooksResponse'}}}}}}}}, 'components': {'schemas': {'searchPresentationsResponse': {'type': 'array', 'properties': {'answer': {'type': 'object', 'properties': {'id': {'type': 'string', 'description': 'The id of the presentation'}, 'title': {'type': 'string', 'description': 'The title of the presentation'}, 'description': {'type': 'string', 'description': 'The title of the presentation'}, 'eventName': {'type': 'string', 'description': 'The name of the event'}, 'presentedOn': {'type': 'string', 'description': 'The date of the presentation'}, 'score': {'type': 'number', 'description': 'The similarity score of the presentation'}, 'videoUrl': {'type': 'string', 'description': 'The url of the video of the presentation'}, 'speakers': {'type': 'array', 'items': {'type': 'object', 'properties': {'firstName': {'type': 'string', 'description': 'The first name of the speaker'}, 'lastName': {'type': 'string', 'description': 'The last name of the speaker'}}}}}, 'description': 'The list of presentations matching the search'}}}, 'searchBooksResponse': {'type': 'array', 'properties': {'answer': {'type': 'object', 'properties': {'authors': {'type': 'string', 'description': 'The authors of the book'}, 'description': {'type': 'string', 'description': 'The description of the book'}, 'isbn': {'type': 'string', 'description': 'The isbn of the book'}, 'score': {'type': 'number', 'description': 'The similarity score of the book'}, 'title': {'type': 'string', 'description': 'The title of the book'}, 'year': {'type': 'string', 'description': 'The year of the book'}}}}}}}}\u001b[0m\n",
      "Thought:\u001b[32;1m\u001b[1;3mI should use the Devoxx Insights API and call the search-books endpoint, passing in the search query for unit test books.\n",
      "Action: requests_get\n",
      "Action Input: https://insights.devoxx.com/api/public/search-books?query=unit%20test%20books\u001b[0m\n",
      "Observation: \u001b[36;1m\u001b[1;3m[{\"score\":0.15172428913958957,\"year\":2013,\"isbn\":\"9781617290893\",\"description\":\"\\nYou know you should be unit testing, so why aren't you doing it? If you're new to unit testing, if you find unit testing tedious, or if you're just not getting enough payoff for the effort you put into it, keep reading.\\n\\r\\nThe Art of Unit Testing, Second Edition guides you step by step from writing your first simple unit tests to building complete test sets that are maintainable, readable, and trustworthy. You'll move quickly to more complicated subjects like mocks and stubs, while learning to use isolation (mocking) frameworks like Moq, FakeItEasy, and Typemock Isolator. You'll explore test patterns and organization, refactor code applications, and learn how to test \\\"untestable\\\" code. Along the way, you'll learn about integration testing and techniques for testing with databases.    \",\"title\":\"The Art of Unit Testing, 2nd Edition\",\"authors\":\"Roy Osherove\"},{\"score\":0.15770529507181485,\"year\":2015,\"isbn\":\"9781484297001\",\"description\":\"\\nThis concise book walks you through how to get unit testing and test driven development done on Android, specifically using JUnit 4. You'll learn how to do agile development quickly and correctly, with a significant increase in development efficiency and a reduction in the number of defects.\\n\\r\\nUp until now getting JUnit testing up and running in Android was not for the faint hearted. However, \\\"now it's in Android Studio, there is no excuse,\\\" according to author Godfrey Nolan, president of RIIS LLC. Android developers are faced with their own set of problems such as tightly coupled code, fragmentation, and immature testing tools, all of which can be solved using existing agile tools and techniques that this short book will teach you.    \",\"title\":\"Agile Android\",\"authors\":\"Godfrey Nolan\"},{\"score\":0.16230134301288257,\"year\":2015,\"isbn\":\"9781782166603\",\"description\":\"\\nJUnit has matured to become the most important tool when it comes to automated developer tests in Java. Supported by all IDEs and build systems, it empowers programmers to deliver software features reliably and efficiently. However, writing good unit tests is a skill that needs to be learned; otherwise it's all too easy to end up in gridlocked development due to messed up production and testing code. Acquiring the best practices for unit testing will help you to prevent such problems and lead your projects to success with respect to quality and costs.\\n\\r\\nThis book explains JUnit concepts and best practices applied to the test first approach, a foundation for high quality Java components delivered in time and budget.\\n\\r\\nFrom the beginning you'll be guided continuously through a practically relevant example and pick up background knowledge and development techniques step by step. Starting with the basics of tests organization you'll soon comprehend the necessity of well structured tests and delve into the relationship of requirement decomposition and the many-faceted world of test double usage.    \",\"title\":\"Testing with JUnit\",\"authors\":\"Frank Appel\"}]\u001b[0m\n",
      "Thought:\u001b[32;1m\u001b[1;3mI found the requested information, so I can now give the final answer.\n",
      "Final Answer: Three unit test books from Devoxx Insights are \"The Art of Unit Testing, 2nd Edition\" by Roy Osherove, \"Agile Android\" by Godfrey Nolan, and \"Testing with JUnit\" by Frank Appel.\u001b[0m\n",
      "\n",
      "\u001b[1m> Finished chain.\u001b[0m\n"
     ]
    },
    {
     "data": {
      "text/plain": [
       "'Three unit test books from Devoxx Insights are \"The Art of Unit Testing, 2nd Edition\" by Roy Osherove, \"Agile Android\" by Godfrey Nolan, and \"Testing with JUnit\" by Frank Appel.'"
      ]
     },
     "execution_count": 22,
     "metadata": {},
     "output_type": "execute_result"
    }
   ],
   "source": [
    "agent_chain = initialize_agent(tools, llm, agent=AgentType.ZERO_SHOT_REACT_DESCRIPTION, verbose=True)\n",
    "agent_chain.run(\"Show me 3 unit test books from Devoxx Insights\")"
   ]
  },
  {
   "cell_type": "code",
   "execution_count": null,
   "metadata": {},
   "outputs": [],
   "source": []
  }
 ],
 "metadata": {
  "kernelspec": {
   "display_name": "jupyter",
   "language": "python",
   "name": "python3"
  },
  "language_info": {
   "codemirror_mode": {
    "name": "ipython",
    "version": 3
   },
   "file_extension": ".py",
   "mimetype": "text/x-python",
   "name": "python",
   "nbconvert_exporter": "python",
   "pygments_lexer": "ipython3",
   "version": "3.9.4"
  },
  "orig_nbformat": 4
 },
 "nbformat": 4,
 "nbformat_minor": 2
}
