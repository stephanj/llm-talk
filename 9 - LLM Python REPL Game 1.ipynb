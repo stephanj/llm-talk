{
 "cells": [
  {
   "cell_type": "code",
   "execution_count": 4,
   "id": "d6fdae47-6253-4699-82c1-d8654cf89b54",
   "metadata": {},
   "outputs": [],
   "source": [
    "import os\n",
    "from dotenv import dotenv_values\n",
    "\n",
    "api_keys = dotenv_values('keys.txt')\n",
    "os.environ['OPENAI_API_KEY'] = api_keys['OPENAI_API_KEY']"
   ]
  },
  {
   "cell_type": "code",
   "execution_count": 2,
   "id": "03129ff6-ec9a-4244-b12a-7dd6b11d450d",
   "metadata": {},
   "outputs": [],
   "source": [
    "from langchain.agents import tool\n",
    "from langchain.agents import initialize_agent\n",
    "from langchain.python import PythonREPL\n",
    "from langchain.llms import OpenAI"
   ]
  },
  {
   "cell_type": "code",
   "execution_count": 7,
   "id": "77b60fd3-e326-4264-9bdd-d890fdb2dbc3",
   "metadata": {},
   "outputs": [],
   "source": [
    "@tool\n",
    "def GuessingGame(query:str) -> str:\n",
    "    \"\"\"Guessing game, this method returns the length of the query\"\"\"\n",
    "    try:\n",
    "        return len(query)\n",
    "    except Exception as e:\n",
    "        return e"
   ]
  },
  {
   "cell_type": "code",
   "execution_count": 8,
   "id": "13a960a0-389d-4f3d-b4fc-0bb5057a8cf6",
   "metadata": {},
   "outputs": [],
   "source": [
    "llm = OpenAI()"
   ]
  },
  {
   "cell_type": "code",
   "execution_count": 9,
   "id": "2a51687f-935b-4547-ab14-d8856aaa33b3",
   "metadata": {},
   "outputs": [],
   "source": [
    "tools = [GuessingGame]"
   ]
  },
  {
   "cell_type": "code",
   "execution_count": 16,
   "id": "dbd7d828-286b-427e-98ba-bdc73f33d9b4",
   "metadata": {},
   "outputs": [],
   "source": [
    "agent = initialize_agent(tools, llm, \"zero-shot-react-description\", verbose = True)"
   ]
  },
  {
   "cell_type": "code",
   "execution_count": 19,
   "id": "de030320-bec1-4fd4-a999-8265dbd269a1",
   "metadata": {},
   "outputs": [
    {
     "name": "stdout",
     "output_type": "stream",
     "text": [
      "\n",
      "\n",
      "\u001b[1m> Entering new AgentExecutor chain...\u001b[0m\n",
      "\u001b[32;1m\u001b[1;3m I need to find an input that will return the length of 10\n",
      "Action: GuessingGame\n",
      "Action Input: \"Hello World\"\u001b[0m\n",
      "Observation: \u001b[36;1m\u001b[1;3m11\u001b[0m\n",
      "Thought:\u001b[32;1m\u001b[1;3m That's not quite what I'm looking for\n",
      "Action: GuessingGame\n",
      "Action Input: \"1234567890\"\u001b[0m\n",
      "Observation: \u001b[36;1m\u001b[1;3m10\u001b[0m\n",
      "Thought:\u001b[32;1m\u001b[1;3m That's the right length\n",
      "Final Answer: \"1234567890\"\u001b[0m\n",
      "\n",
      "\u001b[1m> Finished chain.\u001b[0m\n"
     ]
    },
    {
     "data": {
      "text/plain": [
       "'\"1234567890\"'"
      ]
     },
     "execution_count": 19,
     "metadata": {},
     "output_type": "execute_result"
    }
   ],
   "source": [
    "agent.run(\"What input to GuessingGame will return 10\")"
   ]
  },
  {
   "cell_type": "code",
   "execution_count": null,
   "id": "29204d3f-cf54-4371-973e-2d28f3b8c247",
   "metadata": {},
   "outputs": [],
   "source": []
  }
 ],
 "metadata": {
  "kernelspec": {
   "display_name": "Python 3 (ipykernel)",
   "language": "python",
   "name": "python3"
  },
  "language_info": {
   "codemirror_mode": {
    "name": "ipython",
    "version": 3
   },
   "file_extension": ".py",
   "mimetype": "text/x-python",
   "name": "python",
   "nbconvert_exporter": "python",
   "pygments_lexer": "ipython3",
   "version": "3.9.4"
  }
 },
 "nbformat": 4,
 "nbformat_minor": 5
}
