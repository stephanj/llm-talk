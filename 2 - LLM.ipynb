{
 "cells": [
  {
   "cell_type": "code",
   "execution_count": null,
   "id": "5d26558c-2ca4-4c6c-86fc-e97771468713",
   "metadata": {
    "tags": []
   },
   "outputs": [],
   "source": [
    "#\n",
    "# Simple OpenAI LLM question\n",
    "#\n",
    "%pip install openai==0.27.2\n",
    "%pip install python-dotenv\n",
    "%pip install langchain==0.0.134"
   ]
  },
  {
   "cell_type": "code",
   "execution_count": 3,
   "id": "df59412c-a416-44d4-9a21-2888cf229954",
   "metadata": {
    "tags": []
   },
   "outputs": [],
   "source": [
    "#\n",
    "# Setup OpenAI the API keys\n",
    "#\n",
    "from dotenv import dotenv_values\n",
    "api_keys = dotenv_values('keys.txt')\n",
    "\n",
    "import os\n",
    "os.environ['OPENAI_API_KEY'] = api_keys['OPENAI_API_KEY']"
   ]
  },
  {
   "cell_type": "code",
   "execution_count": 5,
   "id": "2df1f8d8-0921-416e-9b80-fc9e1facdb02",
   "metadata": {},
   "outputs": [],
   "source": [
    "from langchain.llms import OpenAI\n",
    "\n",
    "llm = OpenAI(verbose=True)"
   ]
  },
  {
   "cell_type": "code",
   "execution_count": 6,
   "id": "205a3e6d-b82e-45af-8e8a-3203c622458d",
   "metadata": {
    "tags": []
   },
   "outputs": [
    {
     "data": {
      "text/plain": [
       "'\\n\\nThe exact meaning of life is a subjective matter, as it can mean different things to different people. Generally, people use the phrase \"the meaning of life\" to refer to the purpose of life, or the reason why we exist. Some people find this purpose in religious or spiritual beliefs, while others may find meaning in spending time with family and friends, pursuing their passions, or helping others. Ultimately, it is up to each individual to decide what the meaning of life is for them.'"
      ]
     },
     "execution_count": 6,
     "metadata": {},
     "output_type": "execute_result"
    }
   ],
   "source": [
    "# Call OpenAI with a question\n",
    "llm(\"What is the meaning of life?\")"
   ]
  },
  {
   "cell_type": "code",
   "execution_count": null,
   "id": "e79e0307-d01c-4698-a028-5498cafb05df",
   "metadata": {},
   "outputs": [],
   "source": [
    "llm(\"When is the next Devoxx Belgium?\")"
   ]
  }
 ],
 "metadata": {
  "kernelspec": {
   "display_name": "Python 3 (ipykernel)",
   "language": "python",
   "name": "python3"
  },
  "language_info": {
   "codemirror_mode": {
    "name": "ipython",
    "version": 3
   },
   "file_extension": ".py",
   "mimetype": "text/x-python",
   "name": "python",
   "nbconvert_exporter": "python",
   "pygments_lexer": "ipython3",
   "version": "3.9.4"
  }
 },
 "nbformat": 4,
 "nbformat_minor": 5
}
