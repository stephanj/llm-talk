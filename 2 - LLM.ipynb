{
 "cells": [
  {
   "cell_type": "code",
   "execution_count": 2,
   "id": "5d26558c-2ca4-4c6c-86fc-e97771468713",
   "metadata": {
    "tags": []
   },
   "outputs": [
    {
     "name": "stdout",
     "output_type": "stream",
     "text": [
      "Requirement already satisfied: openai==0.27.2 in /Users/stephan/miniforge3/envs/jupyter/lib/python3.9/site-packages (0.27.2)\n",
      "Requirement already satisfied: requests>=2.20 in /Users/stephan/miniforge3/envs/jupyter/lib/python3.9/site-packages (from openai==0.27.2) (2.28.2)\n",
      "Requirement already satisfied: aiohttp in /Users/stephan/miniforge3/envs/jupyter/lib/python3.9/site-packages (from openai==0.27.2) (3.8.4)\n",
      "Requirement already satisfied: tqdm in /Users/stephan/miniforge3/envs/jupyter/lib/python3.9/site-packages (from openai==0.27.2) (4.65.0)\n",
      "Requirement already satisfied: urllib3<1.27,>=1.21.1 in /Users/stephan/miniforge3/envs/jupyter/lib/python3.9/site-packages (from requests>=2.20->openai==0.27.2) (1.26.14)\n",
      "Requirement already satisfied: charset-normalizer<4,>=2 in /Users/stephan/miniforge3/envs/jupyter/lib/python3.9/site-packages (from requests>=2.20->openai==0.27.2) (2.1.1)\n",
      "Requirement already satisfied: certifi>=2017.4.17 in /Users/stephan/miniforge3/envs/jupyter/lib/python3.9/site-packages (from requests>=2.20->openai==0.27.2) (2022.12.7)\n",
      "Requirement already satisfied: idna<4,>=2.5 in /Users/stephan/miniforge3/envs/jupyter/lib/python3.9/site-packages (from requests>=2.20->openai==0.27.2) (3.4)\n",
      "Requirement already satisfied: aiosignal>=1.1.2 in /Users/stephan/miniforge3/envs/jupyter/lib/python3.9/site-packages (from aiohttp->openai==0.27.2) (1.3.1)\n",
      "Requirement already satisfied: yarl<2.0,>=1.0 in /Users/stephan/miniforge3/envs/jupyter/lib/python3.9/site-packages (from aiohttp->openai==0.27.2) (1.8.2)\n",
      "Requirement already satisfied: frozenlist>=1.1.1 in /Users/stephan/miniforge3/envs/jupyter/lib/python3.9/site-packages (from aiohttp->openai==0.27.2) (1.3.3)\n",
      "Requirement already satisfied: attrs>=17.3.0 in /Users/stephan/miniforge3/envs/jupyter/lib/python3.9/site-packages (from aiohttp->openai==0.27.2) (22.2.0)\n",
      "Requirement already satisfied: async-timeout<5.0,>=4.0.0a3 in /Users/stephan/miniforge3/envs/jupyter/lib/python3.9/site-packages (from aiohttp->openai==0.27.2) (4.0.2)\n",
      "Requirement already satisfied: multidict<7.0,>=4.5 in /Users/stephan/miniforge3/envs/jupyter/lib/python3.9/site-packages (from aiohttp->openai==0.27.2) (6.0.4)\n",
      "Note: you may need to restart the kernel to use updated packages.\n",
      "Requirement already satisfied: python-dotenv in /Users/stephan/miniforge3/envs/jupyter/lib/python3.9/site-packages (1.0.0)\n",
      "Note: you may need to restart the kernel to use updated packages.\n",
      "Collecting langchain==0.0.134\n",
      "  Downloading langchain-0.0.134-py3-none-any.whl (510 kB)\n",
      "\u001b[2K     \u001b[90m━━━━━━━━━━━━━━━━━━━━━━━━━━━━━━━━━━━━━━━\u001b[0m \u001b[32m510.7/510.7 kB\u001b[0m \u001b[31m5.4 MB/s\u001b[0m eta \u001b[36m0:00:00\u001b[0ma \u001b[36m0:00:01\u001b[0m\n",
      "\u001b[?25hRequirement already satisfied: dataclasses-json<0.6.0,>=0.5.7 in /Users/stephan/miniforge3/envs/jupyter/lib/python3.9/site-packages (from langchain==0.0.134) (0.5.7)\n",
      "Requirement already satisfied: aiohttp<4.0.0,>=3.8.3 in /Users/stephan/miniforge3/envs/jupyter/lib/python3.9/site-packages (from langchain==0.0.134) (3.8.4)\n",
      "Requirement already satisfied: requests<3,>=2 in /Users/stephan/miniforge3/envs/jupyter/lib/python3.9/site-packages (from langchain==0.0.134) (2.28.2)\n",
      "Requirement already satisfied: SQLAlchemy<2,>=1 in /Users/stephan/miniforge3/envs/jupyter/lib/python3.9/site-packages (from langchain==0.0.134) (1.4.46)\n",
      "Requirement already satisfied: async-timeout<5.0.0,>=4.0.0 in /Users/stephan/miniforge3/envs/jupyter/lib/python3.9/site-packages (from langchain==0.0.134) (4.0.2)\n",
      "Requirement already satisfied: pydantic<2,>=1 in /Users/stephan/miniforge3/envs/jupyter/lib/python3.9/site-packages (from langchain==0.0.134) (1.10.5)\n",
      "Requirement already satisfied: PyYAML>=5.4.1 in /Users/stephan/miniforge3/envs/jupyter/lib/python3.9/site-packages (from langchain==0.0.134) (6.0)\n",
      "Requirement already satisfied: tenacity<9.0.0,>=8.1.0 in /Users/stephan/miniforge3/envs/jupyter/lib/python3.9/site-packages (from langchain==0.0.134) (8.2.2)\n",
      "Requirement already satisfied: numpy<2,>=1 in /Users/stephan/miniforge3/envs/jupyter/lib/python3.9/site-packages (from langchain==0.0.134) (1.21.6)\n",
      "Collecting openapi-schema-pydantic<2.0,>=1.2\n",
      "  Downloading openapi_schema_pydantic-1.2.4-py3-none-any.whl (90 kB)\n",
      "\u001b[2K     \u001b[90m━━━━━━━━━━━━━━━━━━━━━━━━━━━━━━━━━━━━━━━━\u001b[0m \u001b[32m90.0/90.0 kB\u001b[0m \u001b[31m13.2 MB/s\u001b[0m eta \u001b[36m0:00:00\u001b[0m\n",
      "\u001b[?25hRequirement already satisfied: charset-normalizer<4.0,>=2.0 in /Users/stephan/miniforge3/envs/jupyter/lib/python3.9/site-packages (from aiohttp<4.0.0,>=3.8.3->langchain==0.0.134) (2.1.1)\n",
      "Requirement already satisfied: frozenlist>=1.1.1 in /Users/stephan/miniforge3/envs/jupyter/lib/python3.9/site-packages (from aiohttp<4.0.0,>=3.8.3->langchain==0.0.134) (1.3.3)\n",
      "Requirement already satisfied: aiosignal>=1.1.2 in /Users/stephan/miniforge3/envs/jupyter/lib/python3.9/site-packages (from aiohttp<4.0.0,>=3.8.3->langchain==0.0.134) (1.3.1)\n",
      "Requirement already satisfied: attrs>=17.3.0 in /Users/stephan/miniforge3/envs/jupyter/lib/python3.9/site-packages (from aiohttp<4.0.0,>=3.8.3->langchain==0.0.134) (22.2.0)\n",
      "Requirement already satisfied: yarl<2.0,>=1.0 in /Users/stephan/miniforge3/envs/jupyter/lib/python3.9/site-packages (from aiohttp<4.0.0,>=3.8.3->langchain==0.0.134) (1.8.2)\n",
      "Requirement already satisfied: multidict<7.0,>=4.5 in /Users/stephan/miniforge3/envs/jupyter/lib/python3.9/site-packages (from aiohttp<4.0.0,>=3.8.3->langchain==0.0.134) (6.0.4)\n",
      "Requirement already satisfied: marshmallow<4.0.0,>=3.3.0 in /Users/stephan/miniforge3/envs/jupyter/lib/python3.9/site-packages (from dataclasses-json<0.6.0,>=0.5.7->langchain==0.0.134) (3.19.0)\n",
      "Requirement already satisfied: marshmallow-enum<2.0.0,>=1.5.1 in /Users/stephan/miniforge3/envs/jupyter/lib/python3.9/site-packages (from dataclasses-json<0.6.0,>=0.5.7->langchain==0.0.134) (1.5.1)\n",
      "Requirement already satisfied: typing-inspect>=0.4.0 in /Users/stephan/miniforge3/envs/jupyter/lib/python3.9/site-packages (from dataclasses-json<0.6.0,>=0.5.7->langchain==0.0.134) (0.8.0)\n",
      "Requirement already satisfied: typing-extensions>=4.2.0 in /Users/stephan/miniforge3/envs/jupyter/lib/python3.9/site-packages (from pydantic<2,>=1->langchain==0.0.134) (4.4.0)\n",
      "Requirement already satisfied: urllib3<1.27,>=1.21.1 in /Users/stephan/miniforge3/envs/jupyter/lib/python3.9/site-packages (from requests<3,>=2->langchain==0.0.134) (1.26.14)\n",
      "Requirement already satisfied: certifi>=2017.4.17 in /Users/stephan/miniforge3/envs/jupyter/lib/python3.9/site-packages (from requests<3,>=2->langchain==0.0.134) (2022.12.7)\n",
      "Requirement already satisfied: idna<4,>=2.5 in /Users/stephan/miniforge3/envs/jupyter/lib/python3.9/site-packages (from requests<3,>=2->langchain==0.0.134) (3.4)\n",
      "Requirement already satisfied: packaging>=17.0 in /Users/stephan/miniforge3/envs/jupyter/lib/python3.9/site-packages (from marshmallow<4.0.0,>=3.3.0->dataclasses-json<0.6.0,>=0.5.7->langchain==0.0.134) (23.0)\n",
      "Requirement already satisfied: mypy-extensions>=0.3.0 in /Users/stephan/miniforge3/envs/jupyter/lib/python3.9/site-packages (from typing-inspect>=0.4.0->dataclasses-json<0.6.0,>=0.5.7->langchain==0.0.134) (1.0.0)\n",
      "Installing collected packages: openapi-schema-pydantic, langchain\n",
      "  Attempting uninstall: langchain\n",
      "    Found existing installation: langchain 0.0.103\n",
      "    Uninstalling langchain-0.0.103:\n",
      "      Successfully uninstalled langchain-0.0.103\n",
      "Successfully installed langchain-0.0.134 openapi-schema-pydantic-1.2.4\n",
      "Note: you may need to restart the kernel to use updated packages.\n"
     ]
    }
   ],
   "source": [
    "#\n",
    "# Simple OpenAI LLM question\n",
    "#\n",
    "%pip install openai==0.27.2\n",
    "%pip install python-dotenv\n",
    "%pip install langchain==0.0.134"
   ]
  },
  {
   "cell_type": "code",
   "execution_count": 3,
   "id": "df59412c-a416-44d4-9a21-2888cf229954",
   "metadata": {
    "tags": []
   },
   "outputs": [],
   "source": [
    "#\n",
    "# Setup OpenAI the API keys\n",
    "#\n",
    "from dotenv import dotenv_values\n",
    "api_keys = dotenv_values('keys.txt')\n",
    "\n",
    "import os\n",
    "os.environ['OPENAI_API_KEY'] = api_keys['OPENAI_API_KEY']"
   ]
  },
  {
   "cell_type": "code",
   "execution_count": 5,
   "id": "2df1f8d8-0921-416e-9b80-fc9e1facdb02",
   "metadata": {},
   "outputs": [],
   "source": [
    "from langchain.llms import OpenAI\n",
    "\n",
    "llm = OpenAI(verbose=True)"
   ]
  },
  {
   "cell_type": "code",
   "execution_count": 6,
   "id": "205a3e6d-b82e-45af-8e8a-3203c622458d",
   "metadata": {
    "tags": []
   },
   "outputs": [
    {
     "data": {
      "text/plain": [
       "'\\n\\nThe exact meaning of life is a subjective matter, as it can mean different things to different people. Generally, people use the phrase \"the meaning of life\" to refer to the purpose of life, or the reason why we exist. Some people find this purpose in religious or spiritual beliefs, while others may find meaning in spending time with family and friends, pursuing their passions, or helping others. Ultimately, it is up to each individual to decide what the meaning of life is for them.'"
      ]
     },
     "execution_count": 6,
     "metadata": {},
     "output_type": "execute_result"
    }
   ],
   "source": [
    "# Call OpenAI with a question\n",
    "llm(\"What is the meaning of life?\")"
   ]
  },
  {
   "cell_type": "code",
   "execution_count": null,
   "id": "e79e0307-d01c-4698-a028-5498cafb05df",
   "metadata": {},
   "outputs": [],
   "source": [
    "llm(\"When is the next Devoxx Belgium?\")"
   ]
  }
 ],
 "metadata": {
  "kernelspec": {
   "display_name": "Python 3 (ipykernel)",
   "language": "python",
   "name": "python3"
  },
  "language_info": {
   "codemirror_mode": {
    "name": "ipython",
    "version": 3
   },
   "file_extension": ".py",
   "mimetype": "text/x-python",
   "name": "python",
   "nbconvert_exporter": "python",
   "pygments_lexer": "ipython3",
   "version": "3.9.4"
  }
 },
 "nbformat": 4,
 "nbformat_minor": 5
}
