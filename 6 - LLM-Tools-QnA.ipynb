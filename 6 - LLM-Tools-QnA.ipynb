{
 "cells": [
  {
   "cell_type": "code",
   "execution_count": 1,
   "id": "f2b8348b-c299-4a7b-a18b-aa47a9a3d8e2",
   "metadata": {
    "tags": []
   },
   "outputs": [
    {
     "name": "stdout",
     "output_type": "stream",
     "text": [
      "Requirement already satisfied: openai==0.27.2 in /Users/stephan/miniforge3/envs/jupyter/lib/python3.9/site-packages (0.27.2)\n",
      "Requirement already satisfied: requests>=2.20 in /Users/stephan/miniforge3/envs/jupyter/lib/python3.9/site-packages (from openai==0.27.2) (2.28.2)\n",
      "Requirement already satisfied: tqdm in /Users/stephan/miniforge3/envs/jupyter/lib/python3.9/site-packages (from openai==0.27.2) (4.65.0)\n",
      "Requirement already satisfied: aiohttp in /Users/stephan/miniforge3/envs/jupyter/lib/python3.9/site-packages (from openai==0.27.2) (3.8.4)\n",
      "Requirement already satisfied: idna<4,>=2.5 in /Users/stephan/miniforge3/envs/jupyter/lib/python3.9/site-packages (from requests>=2.20->openai==0.27.2) (3.4)\n",
      "Requirement already satisfied: certifi>=2017.4.17 in /Users/stephan/miniforge3/envs/jupyter/lib/python3.9/site-packages (from requests>=2.20->openai==0.27.2) (2022.12.7)\n",
      "Requirement already satisfied: charset-normalizer<4,>=2 in /Users/stephan/miniforge3/envs/jupyter/lib/python3.9/site-packages (from requests>=2.20->openai==0.27.2) (2.1.1)\n",
      "Requirement already satisfied: urllib3<1.27,>=1.21.1 in /Users/stephan/miniforge3/envs/jupyter/lib/python3.9/site-packages (from requests>=2.20->openai==0.27.2) (1.26.14)\n",
      "Requirement already satisfied: frozenlist>=1.1.1 in /Users/stephan/miniforge3/envs/jupyter/lib/python3.9/site-packages (from aiohttp->openai==0.27.2) (1.3.3)\n",
      "Requirement already satisfied: attrs>=17.3.0 in /Users/stephan/miniforge3/envs/jupyter/lib/python3.9/site-packages (from aiohttp->openai==0.27.2) (22.2.0)\n",
      "Requirement already satisfied: yarl<2.0,>=1.0 in /Users/stephan/miniforge3/envs/jupyter/lib/python3.9/site-packages (from aiohttp->openai==0.27.2) (1.8.2)\n",
      "Requirement already satisfied: async-timeout<5.0,>=4.0.0a3 in /Users/stephan/miniforge3/envs/jupyter/lib/python3.9/site-packages (from aiohttp->openai==0.27.2) (4.0.2)\n",
      "Requirement already satisfied: aiosignal>=1.1.2 in /Users/stephan/miniforge3/envs/jupyter/lib/python3.9/site-packages (from aiohttp->openai==0.27.2) (1.3.1)\n",
      "Requirement already satisfied: multidict<7.0,>=4.5 in /Users/stephan/miniforge3/envs/jupyter/lib/python3.9/site-packages (from aiohttp->openai==0.27.2) (6.0.4)\n",
      "Note: you may need to restart the kernel to use updated packages.\n",
      "Requirement already satisfied: transformers==4.26.1 in /Users/stephan/miniforge3/envs/jupyter/lib/python3.9/site-packages (4.26.1)\n",
      "Requirement already satisfied: requests in /Users/stephan/miniforge3/envs/jupyter/lib/python3.9/site-packages (from transformers==4.26.1) (2.28.2)\n",
      "Requirement already satisfied: tqdm>=4.27 in /Users/stephan/miniforge3/envs/jupyter/lib/python3.9/site-packages (from transformers==4.26.1) (4.65.0)\n",
      "Requirement already satisfied: filelock in /Users/stephan/miniforge3/envs/jupyter/lib/python3.9/site-packages (from transformers==4.26.1) (3.9.0)\n",
      "Requirement already satisfied: packaging>=20.0 in /Users/stephan/miniforge3/envs/jupyter/lib/python3.9/site-packages (from transformers==4.26.1) (23.0)\n",
      "Requirement already satisfied: regex!=2019.12.17 in /Users/stephan/miniforge3/envs/jupyter/lib/python3.9/site-packages (from transformers==4.26.1) (2022.10.31)\n",
      "Requirement already satisfied: tokenizers!=0.11.3,<0.14,>=0.11.1 in /Users/stephan/miniforge3/envs/jupyter/lib/python3.9/site-packages (from transformers==4.26.1) (0.13.2)\n",
      "Requirement already satisfied: numpy>=1.17 in /Users/stephan/miniforge3/envs/jupyter/lib/python3.9/site-packages (from transformers==4.26.1) (1.21.6)\n",
      "Requirement already satisfied: huggingface-hub<1.0,>=0.11.0 in /Users/stephan/miniforge3/envs/jupyter/lib/python3.9/site-packages (from transformers==4.26.1) (0.12.1)\n",
      "Requirement already satisfied: pyyaml>=5.1 in /Users/stephan/miniforge3/envs/jupyter/lib/python3.9/site-packages (from transformers==4.26.1) (6.0)\n",
      "Requirement already satisfied: typing-extensions>=3.7.4.3 in /Users/stephan/miniforge3/envs/jupyter/lib/python3.9/site-packages (from huggingface-hub<1.0,>=0.11.0->transformers==4.26.1) (4.4.0)\n",
      "Requirement already satisfied: certifi>=2017.4.17 in /Users/stephan/miniforge3/envs/jupyter/lib/python3.9/site-packages (from requests->transformers==4.26.1) (2022.12.7)\n",
      "Requirement already satisfied: urllib3<1.27,>=1.21.1 in /Users/stephan/miniforge3/envs/jupyter/lib/python3.9/site-packages (from requests->transformers==4.26.1) (1.26.14)\n",
      "Requirement already satisfied: idna<4,>=2.5 in /Users/stephan/miniforge3/envs/jupyter/lib/python3.9/site-packages (from requests->transformers==4.26.1) (3.4)\n",
      "Requirement already satisfied: charset-normalizer<4,>=2 in /Users/stephan/miniforge3/envs/jupyter/lib/python3.9/site-packages (from requests->transformers==4.26.1) (2.1.1)\n",
      "Note: you may need to restart the kernel to use updated packages.\n",
      "Requirement already satisfied: python-dotenv==1.0.0 in /Users/stephan/miniforge3/envs/jupyter/lib/python3.9/site-packages (1.0.0)\n",
      "Note: you may need to restart the kernel to use updated packages.\n",
      "Requirement already satisfied: langchain==0.0.134 in /Users/stephan/miniforge3/envs/jupyter/lib/python3.9/site-packages (0.0.134)\n",
      "Requirement already satisfied: requests<3,>=2 in /Users/stephan/miniforge3/envs/jupyter/lib/python3.9/site-packages (from langchain==0.0.134) (2.28.2)\n",
      "Requirement already satisfied: dataclasses-json<0.6.0,>=0.5.7 in /Users/stephan/miniforge3/envs/jupyter/lib/python3.9/site-packages (from langchain==0.0.134) (0.5.7)\n",
      "Requirement already satisfied: async-timeout<5.0.0,>=4.0.0 in /Users/stephan/miniforge3/envs/jupyter/lib/python3.9/site-packages (from langchain==0.0.134) (4.0.2)\n",
      "Requirement already satisfied: aiohttp<4.0.0,>=3.8.3 in /Users/stephan/miniforge3/envs/jupyter/lib/python3.9/site-packages (from langchain==0.0.134) (3.8.4)\n",
      "Requirement already satisfied: tenacity<9.0.0,>=8.1.0 in /Users/stephan/miniforge3/envs/jupyter/lib/python3.9/site-packages (from langchain==0.0.134) (8.2.2)\n",
      "Requirement already satisfied: pydantic<2,>=1 in /Users/stephan/miniforge3/envs/jupyter/lib/python3.9/site-packages (from langchain==0.0.134) (1.10.5)\n",
      "Requirement already satisfied: PyYAML>=5.4.1 in /Users/stephan/miniforge3/envs/jupyter/lib/python3.9/site-packages (from langchain==0.0.134) (6.0)\n",
      "Requirement already satisfied: openapi-schema-pydantic<2.0,>=1.2 in /Users/stephan/miniforge3/envs/jupyter/lib/python3.9/site-packages (from langchain==0.0.134) (1.2.4)\n",
      "Requirement already satisfied: numpy<2,>=1 in /Users/stephan/miniforge3/envs/jupyter/lib/python3.9/site-packages (from langchain==0.0.134) (1.21.6)\n",
      "Requirement already satisfied: SQLAlchemy<2,>=1 in /Users/stephan/miniforge3/envs/jupyter/lib/python3.9/site-packages (from langchain==0.0.134) (1.4.46)\n",
      "Requirement already satisfied: aiosignal>=1.1.2 in /Users/stephan/miniforge3/envs/jupyter/lib/python3.9/site-packages (from aiohttp<4.0.0,>=3.8.3->langchain==0.0.134) (1.3.1)\n",
      "Requirement already satisfied: multidict<7.0,>=4.5 in /Users/stephan/miniforge3/envs/jupyter/lib/python3.9/site-packages (from aiohttp<4.0.0,>=3.8.3->langchain==0.0.134) (6.0.4)\n",
      "Requirement already satisfied: charset-normalizer<4.0,>=2.0 in /Users/stephan/miniforge3/envs/jupyter/lib/python3.9/site-packages (from aiohttp<4.0.0,>=3.8.3->langchain==0.0.134) (2.1.1)\n",
      "Requirement already satisfied: frozenlist>=1.1.1 in /Users/stephan/miniforge3/envs/jupyter/lib/python3.9/site-packages (from aiohttp<4.0.0,>=3.8.3->langchain==0.0.134) (1.3.3)\n",
      "Requirement already satisfied: attrs>=17.3.0 in /Users/stephan/miniforge3/envs/jupyter/lib/python3.9/site-packages (from aiohttp<4.0.0,>=3.8.3->langchain==0.0.134) (22.2.0)\n",
      "Requirement already satisfied: yarl<2.0,>=1.0 in /Users/stephan/miniforge3/envs/jupyter/lib/python3.9/site-packages (from aiohttp<4.0.0,>=3.8.3->langchain==0.0.134) (1.8.2)\n",
      "Requirement already satisfied: marshmallow<4.0.0,>=3.3.0 in /Users/stephan/miniforge3/envs/jupyter/lib/python3.9/site-packages (from dataclasses-json<0.6.0,>=0.5.7->langchain==0.0.134) (3.19.0)\n",
      "Requirement already satisfied: marshmallow-enum<2.0.0,>=1.5.1 in /Users/stephan/miniforge3/envs/jupyter/lib/python3.9/site-packages (from dataclasses-json<0.6.0,>=0.5.7->langchain==0.0.134) (1.5.1)\n",
      "Requirement already satisfied: typing-inspect>=0.4.0 in /Users/stephan/miniforge3/envs/jupyter/lib/python3.9/site-packages (from dataclasses-json<0.6.0,>=0.5.7->langchain==0.0.134) (0.8.0)\n",
      "Requirement already satisfied: typing-extensions>=4.2.0 in /Users/stephan/miniforge3/envs/jupyter/lib/python3.9/site-packages (from pydantic<2,>=1->langchain==0.0.134) (4.4.0)\n",
      "Requirement already satisfied: idna<4,>=2.5 in /Users/stephan/miniforge3/envs/jupyter/lib/python3.9/site-packages (from requests<3,>=2->langchain==0.0.134) (3.4)\n",
      "Requirement already satisfied: urllib3<1.27,>=1.21.1 in /Users/stephan/miniforge3/envs/jupyter/lib/python3.9/site-packages (from requests<3,>=2->langchain==0.0.134) (1.26.14)\n",
      "Requirement already satisfied: certifi>=2017.4.17 in /Users/stephan/miniforge3/envs/jupyter/lib/python3.9/site-packages (from requests<3,>=2->langchain==0.0.134) (2022.12.7)\n",
      "Requirement already satisfied: packaging>=17.0 in /Users/stephan/miniforge3/envs/jupyter/lib/python3.9/site-packages (from marshmallow<4.0.0,>=3.3.0->dataclasses-json<0.6.0,>=0.5.7->langchain==0.0.134) (23.0)\n",
      "Requirement already satisfied: mypy-extensions>=0.3.0 in /Users/stephan/miniforge3/envs/jupyter/lib/python3.9/site-packages (from typing-inspect>=0.4.0->dataclasses-json<0.6.0,>=0.5.7->langchain==0.0.134) (1.0.0)\n",
      "Note: you may need to restart the kernel to use updated packages.\n",
      "Requirement already satisfied: google-search-results in /Users/stephan/miniforge3/envs/jupyter/lib/python3.9/site-packages (2.4.1)\n",
      "Requirement already satisfied: requests in /Users/stephan/miniforge3/envs/jupyter/lib/python3.9/site-packages (from google-search-results) (2.28.2)\n",
      "Requirement already satisfied: charset-normalizer<4,>=2 in /Users/stephan/miniforge3/envs/jupyter/lib/python3.9/site-packages (from requests->google-search-results) (2.1.1)\n",
      "Requirement already satisfied: idna<4,>=2.5 in /Users/stephan/miniforge3/envs/jupyter/lib/python3.9/site-packages (from requests->google-search-results) (3.4)\n",
      "Requirement already satisfied: urllib3<1.27,>=1.21.1 in /Users/stephan/miniforge3/envs/jupyter/lib/python3.9/site-packages (from requests->google-search-results) (1.26.14)\n",
      "Requirement already satisfied: certifi>=2017.4.17 in /Users/stephan/miniforge3/envs/jupyter/lib/python3.9/site-packages (from requests->google-search-results) (2022.12.7)\n",
      "Note: you may need to restart the kernel to use updated packages.\n",
      "Requirement already satisfied: wolframalpha in /Users/stephan/miniforge3/envs/jupyter/lib/python3.9/site-packages (5.0.0)\n",
      "Requirement already satisfied: jaraco.context in /Users/stephan/miniforge3/envs/jupyter/lib/python3.9/site-packages (from wolframalpha) (4.3.0)\n",
      "Requirement already satisfied: xmltodict in /Users/stephan/miniforge3/envs/jupyter/lib/python3.9/site-packages (from wolframalpha) (0.13.0)\n",
      "Requirement already satisfied: more-itertools in /Users/stephan/miniforge3/envs/jupyter/lib/python3.9/site-packages (from wolframalpha) (9.1.0)\n",
      "Note: you may need to restart the kernel to use updated packages.\n"
     ]
    }
   ],
   "source": [
    "%pip install openai==0.27.2\n",
    "%pip install transformers==4.26.1           # Used to know the token size\n",
    "%pip install python-dotenv==1.0.0\n",
    "%pip install langchain==0.0.134\n",
    "\n",
    "%pip install google-search-results\n",
    "%pip install wolframalpha           # Required for this demo!"
   ]
  },
  {
   "cell_type": "code",
   "execution_count": 7,
   "id": "5bee1b11-283e-4e47-999b-2ff2ff28ca46",
   "metadata": {
    "tags": []
   },
   "outputs": [],
   "source": [
    "import os\n",
    "from dotenv import dotenv_values\n",
    "\n",
    "api_keys = dotenv_values('keys.txt')\n",
    "os.environ['OPENAI_API_KEY'] = api_keys['OPENAI_API_KEY']\n",
    "os.environ['SERPAPI_API_KEY'] = api_keys['SERPAPI_API_KEY']\n",
    "os.environ['WOLFRAM_ALPHA_APPID'] = api_keys['WOLFRAM_ALPHA_APPID']"
   ]
  },
  {
   "cell_type": "code",
   "execution_count": 5,
   "id": "c21e896f-4ed8-484d-9b89-b0a89f25bb0e",
   "metadata": {},
   "outputs": [],
   "source": [
    "from langchain.llms import OpenAI\n",
    "\n",
    "llm = OpenAI()"
   ]
  },
  {
   "cell_type": "code",
   "execution_count": 8,
   "id": "87bc8ca8-40c7-4e84-ac47-658ba5566f1f",
   "metadata": {},
   "outputs": [],
   "source": [
    "from langchain.agents import load_tools\n",
    "\n",
    "tools = load_tools([\"serpapi\", \"llm-math\", \"wolfram-alpha\"], \n",
    "                   llm = llm, \n",
    "                   wolfram_alpha_appid = os.environ['WOLFRAM_ALPHA_APPID'])                "
   ]
  },
  {
   "cell_type": "code",
   "execution_count": 9,
   "id": "b1760cb5-5c73-4c4a-a2e3-d9f471a26804",
   "metadata": {},
   "outputs": [],
   "source": [
    "from langchain.agents import initialize_agent\n",
    "\n",
    "agent = initialize_agent(tools, llm, agent=\"zero-shot-react-description\", verbose=True)"
   ]
  },
  {
   "cell_type": "code",
   "execution_count": 10,
   "id": "bcfb38a8-5fcc-43db-b0fe-42488f54b8e3",
   "metadata": {},
   "outputs": [
    {
     "name": "stdout",
     "output_type": "stream",
     "text": [
      "\n",
      "\n",
      "\u001b[1m> Entering new AgentExecutor chain...\u001b[0m\n",
      "\u001b[32;1m\u001b[1;3m This is a simple math question.\n",
      "Action: Calculator\n",
      "Action Input: 34 / 10\u001b[0m\n",
      "Observation: \u001b[33;1m\u001b[1;3mAnswer: 3.4\n",
      "\u001b[0m\n",
      "Thought:\u001b[32;1m\u001b[1;3m I now know the final answer.\n",
      "Final Answer: 3.4\u001b[0m\n",
      "\n",
      "\u001b[1m> Finished chain.\u001b[0m\n"
     ]
    },
    {
     "data": {
      "text/plain": [
       "'3.4'"
      ]
     },
     "execution_count": 10,
     "metadata": {},
     "output_type": "execute_result"
    }
   ],
   "source": [
    "agent.run(\"34 divided by 10?\")"
   ]
  },
  {
   "cell_type": "code",
   "execution_count": 11,
   "id": "d5b43524-135c-4c7f-bfc5-ba29c96b3abb",
   "metadata": {},
   "outputs": [
    {
     "name": "stdout",
     "output_type": "stream",
     "text": [
      "\n",
      "\n",
      "\u001b[1m> Entering new AgentExecutor chain...\u001b[0m\n",
      "\u001b[32;1m\u001b[1;3m I need to find an accurate number for this\n",
      "Action: Search\n",
      "Action Input: \"number of countries in the world\"\u001b[0m\n",
      "Observation: \u001b[36;1m\u001b[1;3m195 countries\u001b[0m\n",
      "Thought:\u001b[32;1m\u001b[1;3m This looks accurate, though I should double check\n",
      "Action: Wolfram Alpha\n",
      "Action Input: \"number of countries in the world\"\u001b[0m\n",
      "Observation: \u001b[38;5;200m\u001b[1;3mAssumption: number of sovereign states worldwide \n",
      "Answer: 206\n",
      "(according to Article 1 of the Montevideo Convention of 1933, in which a state must have: (1) a permanent population, (2) a defined territory, (3) a government, and (4) a capacity to enter into relations with the other states)\u001b[0m\n",
      "Thought:\u001b[32;1m\u001b[1;3m This appears to be the most accurate answer\n",
      "Final Answer: The number of countries in the world is 206.\u001b[0m\n",
      "\n",
      "\u001b[1m> Finished chain.\u001b[0m\n"
     ]
    },
    {
     "data": {
      "text/plain": [
       "'The number of countries in the world is 206.'"
      ]
     },
     "execution_count": 11,
     "metadata": {},
     "output_type": "execute_result"
    }
   ],
   "source": [
    "agent.run(\"How many countries are there in the world?\")"
   ]
  },
  {
   "cell_type": "code",
   "execution_count": null,
   "id": "148c0a9b-2f6f-44d9-ab9f-aed7568ecda7",
   "metadata": {},
   "outputs": [],
   "source": [
    "agent.run(\"What is the combined population of the captical of France and Belgium?\")"
   ]
  },
  {
   "cell_type": "code",
   "execution_count": 12,
   "id": "cf40b225-04ca-4c6f-838a-92e1bce9ac14",
   "metadata": {},
   "outputs": [
    {
     "name": "stdout",
     "output_type": "stream",
     "text": [
      "\n",
      "\n",
      "\u001b[1m> Entering new AgentExecutor chain...\u001b[0m\n",
      "\u001b[32;1m\u001b[1;3m I need to find the value of x. \n",
      "Action: Calculator\n",
      "Action Input: 2x + 5 = -3x + 7\u001b[0m\n",
      "Observation: \u001b[33;1m\u001b[1;3mAnswer: 0.4\n",
      "\u001b[0m\n",
      "Thought:\u001b[32;1m\u001b[1;3m I need to check if the answer is correct.\n",
      "Action: Wolfram Alpha\n",
      "Action Input: solve 2x + 5 = -3x + 7\u001b[0m\n",
      "Observation: \u001b[38;5;200m\u001b[1;3mAssumption: solve 2 x + 5 = -3 x + 7 \n",
      "Answer: x = 2/5\u001b[0m\n",
      "Thought:\u001b[32;1m\u001b[1;3m The answer is correct. \n",
      "Final Answer: x = 2/5\u001b[0m\n",
      "\n",
      "\u001b[1m> Finished chain.\u001b[0m\n"
     ]
    },
    {
     "data": {
      "text/plain": [
       "'x = 2/5'"
      ]
     },
     "execution_count": 12,
     "metadata": {},
     "output_type": "execute_result"
    }
   ],
   "source": [
    "agent.run(\"What is 2x + 5 = -3x + 7\")"
   ]
  },
  {
   "cell_type": "code",
   "execution_count": null,
   "id": "e1219a3a",
   "metadata": {},
   "outputs": [],
   "source": []
  }
 ],
 "metadata": {
  "kernelspec": {
   "display_name": "Python 3 (ipykernel)",
   "language": "python",
   "name": "python3"
  },
  "language_info": {
   "codemirror_mode": {
    "name": "ipython",
    "version": 3
   },
   "file_extension": ".py",
   "mimetype": "text/x-python",
   "name": "python",
   "nbconvert_exporter": "python",
   "pygments_lexer": "ipython3",
   "version": "3.9.4"
  }
 },
 "nbformat": 4,
 "nbformat_minor": 5
}
