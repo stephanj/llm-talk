{
 "cells": [
  {
   "cell_type": "code",
   "execution_count": null,
   "id": "f2b8348b-c299-4a7b-a18b-aa47a9a3d8e2",
   "metadata": {
    "tags": []
   },
   "outputs": [],
   "source": [
    "#\n",
    "# Zero shot react question\n",
    "#\n",
    "#\n",
    "!pip install openai                 # OpenAI GPT\n",
    "!pip install transformers           # Used to know the token size\n",
    "!pip install python-dotenv\n",
    "!pip install langchain==0.0.103\n",
    "!pip install google-search-results\n",
    "!pip install wolframalpha           # Required for this demo!"
   ]
  },
  {
   "cell_type": "code",
   "execution_count": null,
   "id": "5bee1b11-283e-4e47-999b-2ff2ff28ca46",
   "metadata": {
    "tags": []
   },
   "outputs": [],
   "source": [
    "import os\n",
    "from dotenv import dotenv_values\n",
    "\n",
    "api_keys = dotenv_values('keys.txt')\n",
    "os.environ['OPENAI_API_KEY'] = api_keys['OPENAI_API_KEY']\n",
    "os.environ['SERP_API_KEY'] = api_keys['SERP_API_KEY']\n",
    "os.environ['WOLFRAM_ALPHA_APPID'] = api_keys['WOLFRAM_ALPHA_APPID']"
   ]
  },
  {
   "cell_type": "code",
   "execution_count": null,
   "id": "a5f7664d-9cb4-4413-8b3d-42f99d33f734",
   "metadata": {
    "tags": []
   },
   "outputs": [],
   "source": [
    "from langchain.llms import OpenAI\n",
    "from langchain.agents import load_tools\n",
    "from langchain.agents import initialize_agent"
   ]
  },
  {
   "cell_type": "code",
   "execution_count": null,
   "id": "c21e896f-4ed8-484d-9b89-b0a89f25bb0e",
   "metadata": {},
   "outputs": [],
   "source": [
    "llm = OpenAI()"
   ]
  },
  {
   "cell_type": "code",
   "execution_count": null,
   "id": "87bc8ca8-40c7-4e84-ac47-658ba5566f1f",
   "metadata": {},
   "outputs": [],
   "source": [
    "tools = load_tools([\"serpapi\", \"llm-math\", \"wolfram-alpha\"], \n",
    "                   llm = llm, \n",
    "                   serpapi_api_key = os.environ['SERP_API_KEY'],\n",
    "                   wolfram_alpha_appid = os.environ['WOLFRAM_ALPHA_APPID'])                "
   ]
  },
  {
   "cell_type": "code",
   "execution_count": null,
   "id": "b1760cb5-5c73-4c4a-a2e3-d9f471a26804",
   "metadata": {},
   "outputs": [],
   "source": [
    "agent = initialize_agent(tools, llm, agent=\"zero-shot-react-description\", verbose=True)"
   ]
  },
  {
   "cell_type": "code",
   "execution_count": null,
   "id": "bcfb38a8-5fcc-43db-b0fe-42488f54b8e3",
   "metadata": {},
   "outputs": [
    {
     "name": "stdout",
     "output_type": "stream",
     "text": [
      "\n",
      "\n",
      "\u001b[1m> Entering new AgentExecutor chain...\u001b[0m\n",
      "\u001b[32;1m\u001b[1;3m I need to use a calculator\n",
      "Action: Calculator\n",
      "Action Input: 34/10\u001b[0m\n",
      "Observation: \u001b[33;1m\u001b[1;3mAnswer: 3.4\u001b[0m\n",
      "Thought:\u001b[32;1m\u001b[1;3m I now know the final answer\n",
      "Final Answer: 34 divided by 10 is 3.4.\u001b[0m\n",
      "\n",
      "\u001b[1m> Finished chain.\u001b[0m\n"
     ]
    },
    {
     "data": {
      "text/plain": [
       "'34 divided by 10 is 3.4.'"
      ]
     },
     "execution_count": 58,
     "metadata": {},
     "output_type": "execute_result"
    }
   ],
   "source": [
    "agent.run(\"34 divided by 10?\")"
   ]
  },
  {
   "cell_type": "code",
   "execution_count": null,
   "id": "d5b43524-135c-4c7f-bfc5-ba29c96b3abb",
   "metadata": {},
   "outputs": [
    {
     "name": "stdout",
     "output_type": "stream",
     "text": [
      "\n",
      "\n",
      "\u001b[1m> Entering new AgentExecutor chain...\u001b[0m\n",
      "\u001b[32;1m\u001b[1;3m I need to find out how many countries are in the world\n",
      "Action: Search\n",
      "Action Input: \"how many countries in the world\"\u001b[0m\n",
      "Observation: \u001b[36;1m\u001b[1;3m195 countries\u001b[0m\n",
      "Thought:\u001b[32;1m\u001b[1;3m I need to confirm this answer\n",
      "Action: Wolfram Alpha\n",
      "Action Input: \"how many countries in the world\"\u001b[0m\n",
      "Observation: \u001b[38;5;200m\u001b[1;3mAssumption: number of sovereign states worldwide \n",
      "Answer: 206\n",
      "(according to Article 1 of the Montevideo Convention of 1933, in which a state must have: (1) a permanent population, (2) a defined territory, (3) a government, and (4) a capacity to enter into relations with the other states)\u001b[0m\n",
      "Thought:\u001b[32;1m\u001b[1;3m I now know the final answer\n",
      "Final Answer: There are 206 countries in the world.\u001b[0m\n",
      "\n",
      "\u001b[1m> Finished chain.\u001b[0m\n"
     ]
    },
    {
     "data": {
      "text/plain": [
       "'There are 206 countries in the world.'"
      ]
     },
     "execution_count": 59,
     "metadata": {},
     "output_type": "execute_result"
    }
   ],
   "source": [
    "agent.run(\"How many countries are there in the world?\")"
   ]
  },
  {
   "cell_type": "code",
   "execution_count": null,
   "id": "148c0a9b-2f6f-44d9-ab9f-aed7568ecda7",
   "metadata": {},
   "outputs": [],
   "source": [
    "agent.run(\"What is the combined population of the captical of France and Belgium?\")"
   ]
  },
  {
   "cell_type": "code",
   "execution_count": null,
   "id": "cf40b225-04ca-4c6f-838a-92e1bce9ac14",
   "metadata": {},
   "outputs": [],
   "source": [
    "agent.run(\"What is 2x + 5 = -3x + 7\")"
   ]
  },
  {
   "cell_type": "code",
   "execution_count": 52,
   "id": "d3cb3da2-9f0e-436a-879d-a3e1a5f57d71",
   "metadata": {},
   "outputs": [
    {
     "ename": "TypeError",
     "evalue": "unhashable type: 'Tool'",
     "output_type": "error",
     "traceback": [
      "\u001b[0;31m---------------------------------------------------------------------------\u001b[0m",
      "\u001b[0;31mTypeError\u001b[0m                                 Traceback (most recent call last)",
      "Cell \u001b[0;32mIn[52], line 14\u001b[0m\n\u001b[1;32m      4\u001b[0m search \u001b[38;5;241m=\u001b[39m SerpAPIWrapper()\n\u001b[1;32m      6\u001b[0m tools \u001b[38;5;241m=\u001b[39m [\n\u001b[1;32m      7\u001b[0m     Tool(\n\u001b[1;32m      8\u001b[0m         name\u001b[38;5;241m=\u001b[39m\u001b[38;5;124m\"\u001b[39m\u001b[38;5;124mIntermediate Answer\u001b[39m\u001b[38;5;124m\"\u001b[39m,\n\u001b[0;32m   (...)\u001b[0m\n\u001b[1;32m     11\u001b[0m     )\n\u001b[1;32m     12\u001b[0m ]\n\u001b[0;32m---> 14\u001b[0m tools \u001b[38;5;241m=\u001b[39m \u001b[43mload_tools\u001b[49m\u001b[43m(\u001b[49m\u001b[43mtools\u001b[49m\u001b[43m,\u001b[49m\u001b[43m \u001b[49m\u001b[43mllm\u001b[49m\u001b[43m \u001b[49m\u001b[38;5;241;43m=\u001b[39;49m\u001b[43m \u001b[49m\u001b[43mllm\u001b[49m\u001b[43m,\u001b[49m\u001b[43m \u001b[49m\u001b[43mserpapi_api_key\u001b[49m\u001b[43m \u001b[49m\u001b[38;5;241;43m=\u001b[39;49m\u001b[43m \u001b[49m\u001b[43mos\u001b[49m\u001b[38;5;241;43m.\u001b[39;49m\u001b[43menviron\u001b[49m\u001b[43m[\u001b[49m\u001b[38;5;124;43m'\u001b[39;49m\u001b[38;5;124;43mSERP_API_KEY\u001b[39;49m\u001b[38;5;124;43m'\u001b[39;49m\u001b[43m]\u001b[49m\u001b[43m)\u001b[49m      \n\u001b[1;32m     16\u001b[0m self_ask_with_search \u001b[38;5;241m=\u001b[39m initialize_agent(tools, llm, agent\u001b[38;5;241m=\u001b[39m\u001b[38;5;124m\"\u001b[39m\u001b[38;5;124mself-ask-with-search\u001b[39m\u001b[38;5;124m\"\u001b[39m, verbose\u001b[38;5;241m=\u001b[39m\u001b[38;5;28;01mTrue\u001b[39;00m)\n\u001b[1;32m     18\u001b[0m self_ask_with_search\u001b[38;5;241m.\u001b[39mrun(\u001b[38;5;124m\"\u001b[39m\u001b[38;5;124mWhat is the hometown of the reigning men\u001b[39m\u001b[38;5;124m'\u001b[39m\u001b[38;5;124ms U.S. Open champion?\u001b[39m\u001b[38;5;124m\"\u001b[39m)\n",
      "File \u001b[0;32m~/miniforge3/envs/jupyter/lib/python3.9/site-packages/langchain/agents/load_tools.py:197\u001b[0m, in \u001b[0;36mload_tools\u001b[0;34m(tool_names, llm, callback_manager, **kwargs)\u001b[0m\n\u001b[1;32m    195\u001b[0m tools \u001b[38;5;241m=\u001b[39m []\n\u001b[1;32m    196\u001b[0m \u001b[38;5;28;01mfor\u001b[39;00m name \u001b[38;5;129;01min\u001b[39;00m tool_names:\n\u001b[0;32m--> 197\u001b[0m     \u001b[38;5;28;01mif\u001b[39;00m \u001b[43mname\u001b[49m\u001b[43m \u001b[49m\u001b[38;5;129;43;01min\u001b[39;49;00m\u001b[43m \u001b[49m\u001b[43m_BASE_TOOLS\u001b[49m:\n\u001b[1;32m    198\u001b[0m         tools\u001b[38;5;241m.\u001b[39mappend(_BASE_TOOLS[name]())\n\u001b[1;32m    199\u001b[0m     \u001b[38;5;28;01melif\u001b[39;00m name \u001b[38;5;129;01min\u001b[39;00m _LLM_TOOLS:\n",
      "\u001b[0;31mTypeError\u001b[0m: unhashable type: 'Tool'"
     ]
    }
   ],
   "source": [
    "from langchain import SerpAPIWrapper\n",
    "from langchain.agents import initialize_agent, Tool\n",
    "\n",
    "search = SerpAPIWrapper()\n",
    "\n",
    "tools = [\n",
    "    Tool(\n",
    "        name=\"Intermediate Answer\",\n",
    "        description=\"test\",\n",
    "        func=search.run\n",
    "    )\n",
    "]\n",
    "\n",
    "tools = load_tools(tools, llm = llm, serpapi_api_key = os.environ['SERP_API_KEY'])      \n",
    "\n",
    "self_ask_with_search = initialize_agent(tools, llm, agent=\"self-ask-with-search\", verbose=True)\n",
    "\n",
    "self_ask_with_search.run(\"What is the hometown of the reigning men's U.S. Open champion?\")"
   ]
  },
  {
   "cell_type": "code",
   "execution_count": null,
   "id": "acdf32e6-d774-4c89-8611-0ec7e2e5da93",
   "metadata": {},
   "outputs": [],
   "source": []
  }
 ],
 "metadata": {
  "kernelspec": {
   "display_name": "Python 3 (ipykernel)",
   "language": "python",
   "name": "python3"
  },
  "language_info": {
   "codemirror_mode": {
    "name": "ipython",
    "version": 3
   },
   "file_extension": ".py",
   "mimetype": "text/x-python",
   "name": "python",
   "nbconvert_exporter": "python",
   "pygments_lexer": "ipython3",
   "version": "3.9.4"
  }
 },
 "nbformat": 4,
 "nbformat_minor": 5
}
