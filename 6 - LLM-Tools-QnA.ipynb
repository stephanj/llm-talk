{
 "cells": [
  {
   "cell_type": "code",
   "execution_count": null,
   "id": "f2b8348b-c299-4a7b-a18b-aa47a9a3d8e2",
   "metadata": {
    "tags": []
   },
   "outputs": [],
   "source": [
    "#\n",
    "# Zero shot react question\n",
    "#\n",
    "#\n",
    "!pip install openai                 # OpenAI GPT\n",
    "!pip install transformers           # Used to know the token size\n",
    "!pip install python-dotenv\n",
    "!pip install langchain==0.0.103\n",
    "!pip install google-search-results\n",
    "!pip install wolframalpha           # Required for this demo!"
   ]
  },
  {
   "cell_type": "code",
   "execution_count": null,
   "id": "5bee1b11-283e-4e47-999b-2ff2ff28ca46",
   "metadata": {
    "tags": []
   },
   "outputs": [],
   "source": [
    "import os\n",
    "from dotenv import dotenv_values\n",
    "\n",
    "api_keys = dotenv_values('keys.txt')\n",
    "os.environ['OPENAI_API_KEY'] = api_keys['OPENAI_API_KEY']\n",
    "os.environ['WOLFRAM_ALPHA_APPID'] = api_keys['WOLFRAM_ALPHA_APPID']"
   ]
  },
  {
   "cell_type": "code",
   "execution_count": null,
   "id": "a5f7664d-9cb4-4413-8b3d-42f99d33f734",
   "metadata": {
    "tags": []
   },
   "outputs": [],
   "source": [
    "import openai\n",
    "from langchain.llms import OpenAI\n",
    "from langchain.agents import load_tools\n",
    "from langchain.agents import initialize_agent"
   ]
  },
  {
   "cell_type": "code",
   "execution_count": null,
   "id": "c21e896f-4ed8-484d-9b89-b0a89f25bb0e",
   "metadata": {},
   "outputs": [],
   "source": [
    "llm = OpenAI()"
   ]
  },
  {
   "cell_type": "code",
   "execution_count": null,
   "id": "87bc8ca8-40c7-4e84-ac47-658ba5566f1f",
   "metadata": {},
   "outputs": [],
   "source": [
    "tools = load_tools([\"serpapi\", \"llm-math\", \"wolfram-alpha\"], \n",
    "                   llm = llm, \n",
    "                   wolfram_alpha_appid = os.environ['WOLFRAM_ALPHA_APPID'])                "
   ]
  },
  {
   "cell_type": "code",
   "execution_count": null,
   "id": "b1760cb5-5c73-4c4a-a2e3-d9f471a26804",
   "metadata": {},
   "outputs": [],
   "source": [
    "agent = initialize_agent(tools, llm, agent=\"zero-shot-react-description\", verbose=True)"
   ]
  },
  {
   "cell_type": "code",
   "execution_count": null,
   "id": "bcfb38a8-5fcc-43db-b0fe-42488f54b8e3",
   "metadata": {},
   "outputs": [],
   "source": [
    "agent.run(\"34 divided by 10?\")"
   ]
  },
  {
   "cell_type": "code",
   "execution_count": null,
   "id": "d5b43524-135c-4c7f-bfc5-ba29c96b3abb",
   "metadata": {},
   "outputs": [],
   "source": [
    "agent.run(\"How many countries are there in the world?\")"
   ]
  },
  {
   "cell_type": "code",
   "execution_count": null,
   "id": "148c0a9b-2f6f-44d9-ab9f-aed7568ecda7",
   "metadata": {},
   "outputs": [],
   "source": [
    "agent.run(\"What is the combined population of the captical of France and Belgium?\")"
   ]
  },
  {
   "cell_type": "code",
   "execution_count": null,
   "id": "cf40b225-04ca-4c6f-838a-92e1bce9ac14",
   "metadata": {},
   "outputs": [],
   "source": [
    "agent.run(\"What is 2x + 5 = -3x + 7\")"
   ]
  }
 ],
 "metadata": {
  "kernelspec": {
   "display_name": "Python 3 (ipykernel)",
   "language": "python",
   "name": "python3"
  },
  "language_info": {
   "codemirror_mode": {
    "name": "ipython",
    "version": 3
   },
   "file_extension": ".py",
   "mimetype": "text/x-python",
   "name": "python",
   "nbconvert_exporter": "python",
   "pygments_lexer": "ipython3",
   "version": "3.9.4"
  }
 },
 "nbformat": 4,
 "nbformat_minor": 5
}
