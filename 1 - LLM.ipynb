{
 "cells": [
  {
   "cell_type": "code",
   "execution_count": null,
   "id": "5d26558c-2ca4-4c6c-86fc-e97771468713",
   "metadata": {
    "tags": []
   },
   "outputs": [],
   "source": [
    "#\n",
    "# Simple OpenAI LLM question\n",
    "#\n",
    "!pip install openai                 # OpenAI library\n",
    "!pip install python-dotenv"
   ]
  },
  {
   "cell_type": "code",
   "execution_count": null,
   "id": "1d2372e5-c6ba-4eb1-9bcb-a14078a95def",
   "metadata": {},
   "outputs": [],
   "source": [
    "# Clone the LLM framework : LangChain"
   ]
  },
  {
   "cell_type": "code",
   "execution_count": null,
   "id": "d90949c6-64e7-45a1-a0be-df0ddedab0b0",
   "metadata": {
    "tags": []
   },
   "outputs": [],
   "source": [
    "!git clone https://github.com/hwchase17/langchain.git"
   ]
  },
  {
   "cell_type": "code",
   "execution_count": null,
   "id": "e29a576a-549b-47f2-96bb-5a19bf97cfba",
   "metadata": {},
   "outputs": [],
   "source": [
    "# Setup OpenAI the API keys\n",
    "!pip install python-dotenv"
   ]
  },
  {
   "cell_type": "code",
   "execution_count": null,
   "id": "df59412c-a416-44d4-9a21-2888cf229954",
   "metadata": {
    "tags": []
   },
   "outputs": [],
   "source": [
    "from dotenv import dotenv_values\n",
    "api_keys = dotenv_values('keys.txt')"
   ]
  },
  {
   "cell_type": "code",
   "execution_count": null,
   "id": "6049b655-4cab-418a-8ae4-a28d0660411f",
   "metadata": {},
   "outputs": [],
   "source": [
    "# Create an OpenAI instance"
   ]
  },
  {
   "cell_type": "code",
   "execution_count": null,
   "id": "c73fff4b-677a-47f8-bfba-3070a78fc6ac",
   "metadata": {
    "tags": []
   },
   "outputs": [],
   "source": [
    "from langchain.llms import OpenAI\n",
    "\n",
    "llm = OpenAI(openai_api_key=api_keys['OPENAI_API_KEY'])"
   ]
  },
  {
   "cell_type": "code",
   "execution_count": null,
   "id": "e59faa72-2cd8-4dff-88f7-3488329e708a",
   "metadata": {},
   "outputs": [],
   "source": [
    "# Call OpenAI with a question"
   ]
  },
  {
   "cell_type": "code",
   "execution_count": null,
   "id": "205a3e6d-b82e-45af-8e8a-3203c622458d",
   "metadata": {
    "tags": []
   },
   "outputs": [],
   "source": [
    "llm(\"What is the meaning of life?\")"
   ]
  },
  {
   "cell_type": "code",
   "execution_count": null,
   "id": "e79e0307-d01c-4698-a028-5498cafb05df",
   "metadata": {},
   "outputs": [],
   "source": [
    "llm(\"When is the next Devoxx Belgium?\")"
   ]
  },
  {
   "cell_type": "code",
   "execution_count": null,
   "id": "c8f1acf4-b622-4736-8fcf-2a5abb42a7b1",
   "metadata": {},
   "outputs": [],
   "source": []
  }
 ],
 "metadata": {
  "kernelspec": {
   "display_name": "Python 3 (ipykernel)",
   "language": "python",
   "name": "python3"
  },
  "language_info": {
   "codemirror_mode": {
    "name": "ipython",
    "version": 3
   },
   "file_extension": ".py",
   "mimetype": "text/x-python",
   "name": "python",
   "nbconvert_exporter": "python",
   "pygments_lexer": "ipython3",
   "version": "3.9.4"
  }
 },
 "nbformat": 4,
 "nbformat_minor": 5
}
