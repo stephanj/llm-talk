{
 "cells": [
  {
   "cell_type": "code",
   "execution_count": 1,
   "id": "5d26558c-2ca4-4c6c-86fc-e97771468713",
   "metadata": {
    "tags": []
   },
   "outputs": [
    {
     "name": "stdout",
     "output_type": "stream",
     "text": [
      "Requirement already satisfied: openai in /Users/stephan/mambaforge/lib/python3.9/site-packages (0.25.0)\n",
      "Requirement already satisfied: pandas-stubs>=1.1.0.11 in /Users/stephan/mambaforge/lib/python3.9/site-packages (from openai) (1.5.3.230214)\n",
      "Requirement already satisfied: tqdm in /Users/stephan/mambaforge/lib/python3.9/site-packages (from openai) (4.59.0)\n",
      "Requirement already satisfied: requests>=2.20 in /Users/stephan/mambaforge/lib/python3.9/site-packages (from openai) (2.25.1)\n",
      "Requirement already satisfied: typing-extensions in /Users/stephan/mambaforge/lib/python3.9/site-packages (from openai) (4.4.0)\n",
      "Requirement already satisfied: openpyxl>=3.0.7 in /Users/stephan/mambaforge/lib/python3.9/site-packages (from openai) (3.1.1)\n",
      "Requirement already satisfied: numpy in /Users/stephan/mambaforge/lib/python3.9/site-packages (from openai) (1.23.5)\n",
      "Requirement already satisfied: pandas>=1.2.3 in /Users/stephan/mambaforge/lib/python3.9/site-packages (from openai) (1.5.2)\n",
      "Requirement already satisfied: et-xmlfile in /Users/stephan/mambaforge/lib/python3.9/site-packages (from openpyxl>=3.0.7->openai) (1.1.0)\n",
      "Requirement already satisfied: python-dateutil>=2.8.1 in /Users/stephan/mambaforge/lib/python3.9/site-packages (from pandas>=1.2.3->openai) (2.8.2)\n",
      "Requirement already satisfied: pytz>=2020.1 in /Users/stephan/mambaforge/lib/python3.9/site-packages (from pandas>=1.2.3->openai) (2022.6)\n",
      "Requirement already satisfied: types-pytz>=2022.1.1 in /Users/stephan/mambaforge/lib/python3.9/site-packages (from pandas-stubs>=1.1.0.11->openai) (2022.7.1.0)\n",
      "Requirement already satisfied: six>=1.5 in /Users/stephan/mambaforge/lib/python3.9/site-packages (from python-dateutil>=2.8.1->pandas>=1.2.3->openai) (1.15.0)\n",
      "Requirement already satisfied: urllib3<1.27,>=1.21.1 in /Users/stephan/mambaforge/lib/python3.9/site-packages (from requests>=2.20->openai) (1.26.4)\n",
      "Requirement already satisfied: chardet<5,>=3.0.2 in /Users/stephan/mambaforge/lib/python3.9/site-packages (from requests>=2.20->openai) (4.0.0)\n",
      "Requirement already satisfied: certifi>=2017.4.17 in /Users/stephan/mambaforge/lib/python3.9/site-packages (from requests>=2.20->openai) (2020.12.5)\n",
      "Requirement already satisfied: idna<3,>=2.5 in /Users/stephan/mambaforge/lib/python3.9/site-packages (from requests>=2.20->openai) (2.10)\n",
      "Collecting python-dotenv\n",
      "  Using cached python_dotenv-1.0.0-py3-none-any.whl (19 kB)\n",
      "Installing collected packages: python-dotenv\n",
      "Successfully installed python-dotenv-1.0.0\n"
     ]
    }
   ],
   "source": [
    "#\n",
    "# Simple OpenAI LLM question\n",
    "#\n",
    "!pip install openai                 # OpenAI library\n",
    "!pip install python-dotenv"
   ]
  },
  {
   "cell_type": "code",
   "execution_count": null,
   "id": "1d2372e5-c6ba-4eb1-9bcb-a14078a95def",
   "metadata": {},
   "outputs": [],
   "source": [
    "# Clone the LLM framework : LangChain"
   ]
  },
  {
   "cell_type": "code",
   "execution_count": 12,
   "id": "d90949c6-64e7-45a1-a0be-df0ddedab0b0",
   "metadata": {
    "tags": []
   },
   "outputs": [
    {
     "name": "stdout",
     "output_type": "stream",
     "text": [
      "fatal: destination path 'langchain' already exists and is not an empty directory.\n"
     ]
    }
   ],
   "source": [
    "!git clone --depth 1  --shallow-exclude=2023-03-08T12:50:00Z  https://github.com/hwchase17/langchain.git"
   ]
  },
  {
   "cell_type": "code",
   "execution_count": null,
   "id": "e29a576a-549b-47f2-96bb-5a19bf97cfba",
   "metadata": {},
   "outputs": [],
   "source": [
    "# Setup OpenAI the API keys"
   ]
  },
  {
   "cell_type": "code",
   "execution_count": 2,
   "id": "df59412c-a416-44d4-9a21-2888cf229954",
   "metadata": {
    "tags": []
   },
   "outputs": [],
   "source": [
    "from dotenv import dotenv_values\n",
    "api_keys = dotenv_values('keys.txt')"
   ]
  },
  {
   "cell_type": "code",
   "execution_count": 3,
   "id": "6049b655-4cab-418a-8ae4-a28d0660411f",
   "metadata": {},
   "outputs": [],
   "source": [
    "# Create an OpenAI instance"
   ]
  },
  {
   "cell_type": "code",
   "execution_count": 4,
   "id": "c73fff4b-677a-47f8-bfba-3070a78fc6ac",
   "metadata": {
    "tags": []
   },
   "outputs": [],
   "source": [
    "from langchain.llms import OpenAI\n",
    "\n",
    "llm = OpenAI(openai_api_key=api_keys['OPENAI_API_KEY'])"
   ]
  },
  {
   "cell_type": "code",
   "execution_count": 5,
   "id": "e59faa72-2cd8-4dff-88f7-3488329e708a",
   "metadata": {},
   "outputs": [],
   "source": [
    "# Call OpenAI with a question"
   ]
  },
  {
   "cell_type": "code",
   "execution_count": 7,
   "id": "205a3e6d-b82e-45af-8e8a-3203c622458d",
   "metadata": {
    "tags": []
   },
   "outputs": [
    {
     "data": {
      "text/plain": [
       "\"\\n\\nThe meaning of life is subjective and can vary depending on one's beliefs, values, and experiences. For some, it can mean finding purpose and fulfillment in life, while for others it can mean finding joy in everyday moments and relationships. Ultimately, the meaning of life is something that each individual must decide for themselves.\""
      ]
     },
     "execution_count": 7,
     "metadata": {},
     "output_type": "execute_result"
    }
   ],
   "source": [
    "llm(\"What is the meaning of life?\")"
   ]
  },
  {
   "cell_type": "code",
   "execution_count": null,
   "id": "e79e0307-d01c-4698-a028-5498cafb05df",
   "metadata": {},
   "outputs": [],
   "source": [
    "llm(\"When is the next Devoxx Belgium?\")"
   ]
  }
 ],
 "metadata": {
  "kernelspec": {
   "display_name": "Python 3 (ipykernel)",
   "language": "python",
   "name": "python3"
  },
  "language_info": {
   "codemirror_mode": {
    "name": "ipython",
    "version": 3
   },
   "file_extension": ".py",
   "mimetype": "text/x-python",
   "name": "python",
   "nbconvert_exporter": "python",
   "pygments_lexer": "ipython3",
   "version": "3.10.9"
  }
 },
 "nbformat": 4,
 "nbformat_minor": 5
}
