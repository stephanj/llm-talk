{
 "cells": [
  {
   "cell_type": "code",
   "execution_count": null,
   "id": "5d26558c-2ca4-4c6c-86fc-e97771468713",
   "metadata": {
    "tags": []
   },
   "outputs": [],
   "source": [
    "#\n",
    "# Simple OpenAI LLM question\n",
    "#\n",
    "%pip install openai                 # OpenAI library\n",
    "%pip install python-dotenv"
   ]
  },
  {
   "cell_type": "code",
   "execution_count": null,
   "id": "1d2372e5-c6ba-4eb1-9bcb-a14078a95def",
   "metadata": {},
   "outputs": [],
   "source": [
    "# Clone the LLM framework : LangChain"
   ]
  },
  {
   "cell_type": "code",
   "execution_count": null,
   "id": "d90949c6-64e7-45a1-a0be-df0ddedab0b0",
   "metadata": {
    "tags": []
   },
   "outputs": [],
   "source": [
    "%git clone https://github.com/hwchase17/langchain.git"
   ]
  },
  {
   "cell_type": "code",
   "execution_count": 2,
   "id": "e29a576a-549b-47f2-96bb-5a19bf97cfba",
   "metadata": {},
   "outputs": [
    {
     "name": "stdout",
     "output_type": "stream",
     "text": [
      "Requirement already satisfied: python-dotenv in /Users/stephan/miniforge3/envs/youtube-qa/lib/python3.9/site-packages (1.0.0)\n"
     ]
    }
   ],
   "source": [
    "# Setup OpenAI the API keys\n"
   ]
  },
  {
   "cell_type": "code",
   "execution_count": 3,
   "id": "df59412c-a416-44d4-9a21-2888cf229954",
   "metadata": {
    "tags": []
   },
   "outputs": [],
   "source": [
    "from dotenv import dotenv_values\n",
    "api_keys = dotenv_values('keys.txt')"
   ]
  },
  {
   "cell_type": "code",
   "execution_count": null,
   "id": "6049b655-4cab-418a-8ae4-a28d0660411f",
   "metadata": {},
   "outputs": [],
   "source": [
    "# Create an OpenAI instance"
   ]
  },
  {
   "cell_type": "code",
   "execution_count": 4,
   "id": "c73fff4b-677a-47f8-bfba-3070a78fc6ac",
   "metadata": {
    "tags": []
   },
   "outputs": [],
   "source": [
    "from langchain.llms import OpenAI\n",
    "\n",
    "llm = OpenAI(openai_api_key=api_keys['OPENAI_API_KEY'])"
   ]
  },
  {
   "cell_type": "code",
   "execution_count": null,
   "id": "e59faa72-2cd8-4dff-88f7-3488329e708a",
   "metadata": {},
   "outputs": [],
   "source": [
    "# Call OpenAI with a question"
   ]
  },
  {
   "cell_type": "code",
   "execution_count": 5,
   "id": "205a3e6d-b82e-45af-8e8a-3203c622458d",
   "metadata": {
    "tags": []
   },
   "outputs": [
    {
     "data": {
      "text/plain": [
       "'\\n\\nThe meaning of life is subjective and will vary from person to person. Ultimately, it is up to each individual to decide what the meaning of life is for them.'"
      ]
     },
     "execution_count": 5,
     "metadata": {},
     "output_type": "execute_result"
    }
   ],
   "source": [
    "llm(\"What is the meaning of life?\")"
   ]
  },
  {
   "cell_type": "code",
   "execution_count": null,
   "id": "e79e0307-d01c-4698-a028-5498cafb05df",
   "metadata": {},
   "outputs": [],
   "source": [
    "llm(\"When is the next Devoxx Belgium?\")"
   ]
  }
 ],
 "metadata": {
  "kernelspec": {
   "display_name": "Python 3 (ipykernel)",
   "language": "python",
   "name": "python3"
  },
  "language_info": {
   "codemirror_mode": {
    "name": "ipython",
    "version": 3
   },
   "file_extension": ".py",
   "mimetype": "text/x-python",
   "name": "python",
   "nbconvert_exporter": "python",
   "pygments_lexer": "ipython3",
   "version": "3.9.16"
  }
 },
 "nbformat": 4,
 "nbformat_minor": 5
}
