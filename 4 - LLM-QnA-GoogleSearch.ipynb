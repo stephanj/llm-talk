{
 "cells": [
  {
   "cell_type": "code",
   "execution_count": null,
   "id": "5d26558c-2ca4-4c6c-86fc-e97771468713",
   "metadata": {
    "tags": []
   },
   "outputs": [],
   "source": [
    "#\n",
    "# LLM with QnA and Google Search\n",
    "#\n",
    "#\n",
    "!pip install youtube-transcript-api # YouTube lib to get transcript\n",
    "!pip install pytube                 # YouTube lib\n",
    "!pip install openai                 # OpenAI GPT\n",
    "!pip install transformers           # Used to know the token size\n",
    "!pip install chromadb\n",
    "!pip install python-dotenv"
   ]
  },
  {
   "cell_type": "code",
   "execution_count": null,
   "id": "d90949c6-64e7-45a1-a0be-df0ddedab0b0",
   "metadata": {
    "tags": []
   },
   "outputs": [],
   "source": [
    "!git clone https://github.com/hwchase17/langchain.git"
   ]
  },
  {
   "cell_type": "code",
   "execution_count": 31,
   "id": "df59412c-a416-44d4-9a21-2888cf229954",
   "metadata": {
    "tags": []
   },
   "outputs": [],
   "source": [
    "from dotenv import dotenv_values\n",
    "import os\n",
    "\n",
    "api_keys = dotenv_values('keys.txt')\n",
    "os.environ['OPENAI_API_KEY'] = api_keys['OPENAI_API_KEY']\n",
    "os.environ['SERPER_API_KEY'] = api_keys['SERPER_API_KEY']"
   ]
  },
  {
   "cell_type": "code",
   "execution_count": 8,
   "id": "c73fff4b-677a-47f8-bfba-3070a78fc6ac",
   "metadata": {
    "tags": []
   },
   "outputs": [],
   "source": [
    "from langchain.llms import OpenAI\n",
    "\n",
    "llm = OpenAI(temperature=0.7, openai_api_key=api_keys['OPENAI_API_KEY'])"
   ]
  },
  {
   "cell_type": "code",
   "execution_count": null,
   "id": "9870bbac-f351-4e75-8288-2d801ae14550",
   "metadata": {
    "tags": []
   },
   "outputs": [],
   "source": [
    "from langchain.text_splitter import RecursiveCharacterTextSplitter\n",
    "\n",
    "text_splitter = RecursiveCharacterTextSplitter(chunk_size=2000, chunk_overlap=0)"
   ]
  },
  {
   "cell_type": "code",
   "execution_count": 18,
   "id": "1d3bfed5-465a-424c-bacb-bf592caad860",
   "metadata": {
    "tags": []
   },
   "outputs": [],
   "source": [
    "from langchain.document_loaders.unstructured import UnstructuredFileLoader\n",
    "from langchain.document_loaders import YoutubeLoader"
   ]
  },
  {
   "cell_type": "code",
   "execution_count": 19,
   "id": "94bdc6db-156f-413a-b75c-e88360dc4676",
   "metadata": {
    "tags": []
   },
   "outputs": [],
   "source": [
    "loader = YoutubeLoader.from_youtube_url(\"https://www.youtube.com/watch?v=FtyKgybYkaE\", add_video_info=False)\n",
    "result = loader.load()"
   ]
  },
  {
   "cell_type": "code",
   "execution_count": 21,
   "id": "4a81cca2-8136-41bf-b55c-ce1249e04dd3",
   "metadata": {},
   "outputs": [],
   "source": [
    "from langchain.text_splitter import RecursiveCharacterTextSplitter\n",
    "\n",
    "text_splitter = RecursiveCharacterTextSplitter(chunk_size=2000, chunk_overlap=0)\n",
    "\n",
    "docs = text_splitter.split_documents(result)"
   ]
  },
  {
   "cell_type": "code",
   "execution_count": 22,
   "id": "d25017e0-c9e4-42a8-a70f-263cf5367331",
   "metadata": {
    "tags": []
   },
   "outputs": [],
   "source": [
    "from langchain.embeddings.openai import OpenAIEmbeddings\n",
    "from langchain.text_splitter import CharacterTextSplitter\n",
    "from langchain.vectorstores import Chroma\n",
    "from langchain.document_loaders import TextLoader"
   ]
  },
  {
   "cell_type": "code",
   "execution_count": 23,
   "id": "14ed9db3-abe4-4e66-9055-9dce1163c339",
   "metadata": {
    "tags": []
   },
   "outputs": [],
   "source": [
    "embeddings = OpenAIEmbeddings()"
   ]
  },
  {
   "cell_type": "code",
   "execution_count": 24,
   "id": "8b9b0da8-ef4c-49cc-82d0-d0849a0dc97f",
   "metadata": {
    "tags": []
   },
   "outputs": [
    {
     "name": "stdout",
     "output_type": "stream",
     "text": [
      "Running Chroma using direct local API.\n",
      "loaded in 15 embeddings\n",
      "loaded in 1 collections\n",
      "No embedding_function provided, using default embedding function: SentenceTransformerEmbeddingFunction\n",
      "No embedding_function provided, using default embedding function: SentenceTransformerEmbeddingFunction\n"
     ]
    }
   ],
   "source": [
    "db = Chroma.from_documents(docs, embeddings, persist_directory='db')"
   ]
  },
  {
   "cell_type": "code",
   "execution_count": 25,
   "id": "3735d95f-b9e3-4161-8fce-1f33b4066036",
   "metadata": {
    "tags": []
   },
   "outputs": [],
   "source": [
    "query = \"When is the next Devoxx Belgium? Answer truthfully and when you don't know the answer say : 'I don't know'\""
   ]
  },
  {
   "cell_type": "code",
   "execution_count": 27,
   "id": "e8a3b14e-fb79-4f96-8757-9c30c516fbe2",
   "metadata": {},
   "outputs": [
    {
     "data": {
      "text/plain": [
       "[Document(page_content=\"perspective so they rescheduled it to the 23rd of May 2023 so if you are from from Belgium it's I mean Vox day is for the people who don't know this these are like the incubators for devox so there's basically an event from java user groups who organize a one day or a two-day event and a few of those their aim is to become a devoxx now of course here it's a bit of a special situation because we already have a devops um but yeah it's it's uh it will be in in Brussels brussels.voxdays.com and the ticket sales already open and it is a one-day event to just get together and at least you know we sometimes get some I call it the devox blues so like we work nine months to this event and then on Monday I more or less fall in a depression for a week or so because you just missed this energy Etc so luckily in May I can just get it up again and then go back and then socialize so I'm looking forward to that so staying all best best of luck with organizing this and then next year it's our 20th Edition 20th so we're brainstorming about what else we can do and we hopefully we'll come up with a few interesting things um but I think my main focus will be just to make sure the movie trailer prays completely I think that will be my main focus for the 20th Edition but other than that the dates is important to know so I've actually decided to move it even one week sooner so it will be from the second till the 6th of October and again the main reason is to be in front of the covet Spike because we are still starting to see that it's picking up again so if we're getting closer to the summer the closer to the summer the safer we will be so the second to the sixth and I think registrations will be open or we will open it around may we will definitely communicate about communicate it good enough and we will work again with two batches and just please just take your time to register you'll be fine you know like okay should be good anyway that's me so it's my pleasure now to [Music]\", lookup_str='', metadata={'source': 'FtyKgybYkaE'}, lookup_index=0),\n",
       " Document(page_content=\"perspective so they rescheduled it to the 23rd of May 2023 so if you are from from Belgium it's I mean Vox day is for the people who don't know this these are like the incubators for devox so there's basically an event from java user groups who organize a one day or a two-day event and a few of those their aim is to become a devoxx now of course here it's a bit of a special situation because we already have a devops um but yeah it's it's uh it will be in in Brussels brussels.voxdays.com and the ticket sales already open and it is a one-day event to just get together and at least you know we sometimes get some I call it the devox blues so like we work nine months to this event and then on Monday I more or less fall in a depression for a week or so because you just missed this energy Etc so luckily in May I can just get it up again and then go back and then socialize so I'm looking forward to that so staying all best best of luck with organizing this and then next year it's our 20th Edition 20th so we're brainstorming about what else we can do and we hopefully we'll come up with a few interesting things um but I think my main focus will be just to make sure the movie trailer prays completely I think that will be my main focus for the 20th Edition but other than that the dates is important to know so I've actually decided to move it even one week sooner so it will be from the second till the 6th of October and again the main reason is to be in front of the covet Spike because we are still starting to see that it's picking up again so if we're getting closer to the summer the closer to the summer the safer we will be so the second to the sixth and I think registrations will be open or we will open it around may we will definitely communicate about communicate it good enough and we will work again with two batches and just please just take your time to register you'll be fine you know like okay should be good anyway that's me so it's my pleasure now to [Music]\", lookup_str='', metadata={'source': 'FtyKgybYkaE'}, lookup_index=0)]"
      ]
     },
     "execution_count": 27,
     "metadata": {},
     "output_type": "execute_result"
    }
   ],
   "source": [
    "docs = db.similarity_search(query)\n",
    "docs"
   ]
  },
  {
   "cell_type": "code",
   "execution_count": 28,
   "id": "187aac36-b549-4d5a-9514-7132068b8804",
   "metadata": {},
   "outputs": [
    {
     "data": {
      "text/plain": [
       "' The next Devoxx Belgium is from the 2nd to the 6th of October 2021.'"
      ]
     },
     "execution_count": 28,
     "metadata": {},
     "output_type": "execute_result"
    }
   ],
   "source": [
    "from langchain.chains.question_answering import load_qa_chain\n",
    "\n",
    "chain = load_qa_chain(llm, chain_type=\"stuff\")\n",
    "chain.run(input_documents=docs, question=query)"
   ]
  },
  {
   "cell_type": "code",
   "execution_count": 32,
   "id": "b8be27c0-01b4-4175-988f-f2e203264de1",
   "metadata": {
    "tags": []
   },
   "outputs": [],
   "source": [
    "from langchain.agents import load_tools\n",
    "from langchain.agents import initialize_agent\n",
    "\n",
    "tools = load_tools([\"google-serper\"], llm=llm)"
   ]
  },
  {
   "cell_type": "code",
   "execution_count": 29,
   "id": "e5aa35a5-4cfc-4550-b863-cb64b3d49430",
   "metadata": {
    "tags": []
   },
   "outputs": [],
   "source": [
    "query = \"When is the next Devoxx Belgium?\""
   ]
  },
  {
   "cell_type": "code",
   "execution_count": 33,
   "id": "72a122d8-6e94-4bfd-adbe-9f41ffb626ae",
   "metadata": {
    "tags": []
   },
   "outputs": [
    {
     "name": "stdout",
     "output_type": "stream",
     "text": [
      "\n",
      "\n",
      "\u001b[1m> Entering new AgentExecutor chain...\u001b[0m\n",
      "\u001b[32;1m\u001b[1;3m I need to find out when this event is happening\n",
      "Action: Serper Search\n",
      "Action Input: \"Devoxx Belgium 2021\"\u001b[0m\n",
      "Observation: \u001b[36;1m\u001b[1;3mDevoxx: Event management company in Antwerp, Belgium. Devoxx Address: Groenendaallaan 394, 2030 Antwerpen, Belgium. Devoxx Hours: Open ⋅ Closes 8 PM. Devoxx Phone: +32 50 67 57 91. Devoxx is a conference by developers, for developers. It is offered at an affordable price so that every developer can enjoy the experience. 2022 Schedule ; Registration & Breakfast. 08:30 09:30 ; Lunch. 12:30 13:30 ; Break. 16:30 16:50 ; Break. 17:20 17:35 ; Break. 18:05 18:20. Devoxx are annual technology conferences organised by developers for developers around the world. More About Us. Filter by Category. Devoxx Events. Devoxx Belgium 2022 AI trailer · Welcome to 19th edition of Devoxx Belgium by Stephan Janssen · Artificial Intelligence: You Are Here by Alan D Thompson · Java *is ... We'll decide end of august if a Devoxx Belgium 2021 edition will take place as a hybrid event. If so, CFP and registrations will open in September. We'll decide end of august if a Devoxx Belgium 2021 edition will take place as a hybrid event. If so, CFP and registrations will open in September. More... 2023 edition of Devoxx Belgium will be held at Kinepolis Antwerpen, Antwerp starting on 02nd October. It is a 5 day event organised by The Java Community ... Missing: 2021 | Must include:2021. The 19th edition of Devoxx Belgium welcomed over 230 speakers from around the world. Almost 100 talks received a minimum average rating ... We're excited to welcome Ron Pressler (the Oracle leader of OpenJDK's Project Loom) and Alan Bateman (Project Loom engineer) at Devoxx Belgium. What an event Devoxx Belgium is! ... Kinepolis in Antwerp during Devoxx is definitely the place to be if you ... JakartaOne Livestream 2021.\u001b[0m\n",
      "Thought:\u001b[32;1m\u001b[1;3m Devoxx Belgium 2021 will likely take place as a hybrid event with CFP and registrations opening in September\n",
      "Final Answer: Devoxx Belgium 2021 is likely to take place as a hybrid event with CFP and registrations opening in September.\u001b[0m\n",
      "\n",
      "\u001b[1m> Finished chain.\u001b[0m\n"
     ]
    },
    {
     "data": {
      "text/plain": [
       "'Devoxx Belgium 2021 is likely to take place as a hybrid event with CFP and registrations opening in September.'"
      ]
     },
     "execution_count": 33,
     "metadata": {},
     "output_type": "execute_result"
    }
   ],
   "source": [
    "agent = initialize_agent(tools, llm, agent=\"zero-shot-react-description\", verbose=True)\n",
    "agent.run(query)"
   ]
  },
  {
   "cell_type": "code",
   "execution_count": 34,
   "id": "2e1f5305-0b5d-4db1-83f1-52185504bc3a",
   "metadata": {
    "tags": []
   },
   "outputs": [
    {
     "name": "stdout",
     "output_type": "stream",
     "text": [
      "\n",
      "\n",
      "\u001b[1m> Entering new AgentExecutor chain...\u001b[0m\n",
      "\u001b[32;1m\u001b[1;3m I should find a source with reliable information.\n",
      "Action: Serper Search\n",
      "Action Input: Devoxx Belgium 2023\u001b[0m\n",
      "Observation: \u001b[36;1m\u001b[1;3m20th edition : 2 - 6 October 2023. Devoxx Belgium. The 19th edition of Devoxx Belgium, a 5-days technology conference, saw over 3,200 attendees. CFP will open in June and run until mid July 2023. Registrations. UPDATE: We'll release two batches of tickets, one on August 16th at 9h00 AM CEST and another ... Devoxx ; 31 May - 2 Jun 2023. Devoxx Poland 2023 ; 2 - 6 Oct 2023. Devoxx Belgium 2023 ; 10 - 12 Oct 2023. Devoxx Morocco 2023. 2023 edition of Devoxx Belgium will be held at Kinepolis Antwerpen, Antwerp starting on 02nd October. It is a 5 day event organised by The Java Community ... Devoxx Belgium 2023 will take place from October 2nd to the 6th in Antwerp. Science & Technology ... Voxxed Days Brussels 2023 ... Voxxed Days, a spin-off of Devoxx, is coming to Brussels! Yes, you're reading it right, we're talking about a big in-person, first ... Voxxed Days, a spin-off of Devoxx, is coming to Brussels! Yes, you're reading it right, we're talking about the a big in-person, first class tech-community ... The Devoxx Belgium is a conference where developers and architects come together and explore the latest technology advancements and fascinating ideas, with some ... Devoxx Insights * Devoxx Greece * VoxxedDays Brussels · REDIRECT.DEVOXX.BE. Devoxx Belgium 2023 - the 20th edition. It's again our aim to bring together ... Welcome to the 19th edition of Devoxx Belgium.STEPHAN ... Duration: 28:26. Posted: Oct 13, 2022.\u001b[0m\n",
      "Thought:\u001b[32;1m\u001b[1;3m Devoxx Belgium 2023 will take place from October 2nd to the 6th in Antwerp.\n",
      "Final Answer: Devoxx Belgium 2023 will take place from October 2nd to the 6th in Antwerp.\u001b[0m\n",
      "\n",
      "\u001b[1m> Finished chain.\u001b[0m\n"
     ]
    },
    {
     "data": {
      "text/plain": [
       "'Devoxx Belgium 2023 will take place from October 2nd to the 6th in Antwerp.'"
      ]
     },
     "execution_count": 34,
     "metadata": {},
     "output_type": "execute_result"
    }
   ],
   "source": [
    "query = \"When is Devoxx Belgium in 2023?\"\n",
    "agent.run(query)"
   ]
  },
  {
   "cell_type": "code",
   "execution_count": null,
   "id": "52769c62-b920-43c9-adce-f715ec1a076d",
   "metadata": {},
   "outputs": [],
   "source": []
  }
 ],
 "metadata": {
  "kernelspec": {
   "display_name": "Python 3 (ipykernel)",
   "language": "python",
   "name": "python3"
  },
  "language_info": {
   "codemirror_mode": {
    "name": "ipython",
    "version": 3
   },
   "file_extension": ".py",
   "mimetype": "text/x-python",
   "name": "python",
   "nbconvert_exporter": "python",
   "pygments_lexer": "ipython3",
   "version": "3.10.9"
  }
 },
 "nbformat": 4,
 "nbformat_minor": 5
}
