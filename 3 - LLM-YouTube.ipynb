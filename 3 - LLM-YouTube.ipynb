{
 "cells": [
  {
   "cell_type": "code",
   "execution_count": null,
   "id": "5d26558c-2ca4-4c6c-86fc-e97771468713",
   "metadata": {
    "tags": []
   },
   "outputs": [],
   "source": [
    "!pip install youtube-transcript-api # YouTube lib to get transcript\n",
    "!pip install pytube                 # YouTube lib\n",
    "!pip install openai                 # OpenAI GPT\n",
    "!pip install transformers           # Used to know the token size\n",
    "!pip install python-dotenv\n",
    "!pip install langchain==0.0.103"
   ]
  },
  {
   "cell_type": "code",
   "execution_count": null,
   "id": "df59412c-a416-44d4-9a21-2888cf229954",
   "metadata": {
    "tags": []
   },
   "outputs": [],
   "source": [
    "from dotenv import dotenv_values\n",
    "api_keys = dotenv_values('keys.txt')\n",
    "\n",
    "import os\n",
    "os.environ['OPENAI_API_KEY'] = api_keys['OPENAI_API_KEY']"
   ]
  },
  {
   "cell_type": "code",
   "execution_count": null,
   "id": "c73fff4b-677a-47f8-bfba-3070a78fc6ac",
   "metadata": {
    "tags": []
   },
   "outputs": [],
   "source": [
    "from langchain.llms import OpenAI\n",
    "\n",
    "llm = OpenAI()"
   ]
  },
  {
   "cell_type": "code",
   "execution_count": null,
   "id": "9870bbac-f351-4e75-8288-2d801ae14550",
   "metadata": {},
   "outputs": [],
   "source": [
    "from langchain.text_splitter import RecursiveCharacterTextSplitter\n",
    "\n",
    "text_splitter = RecursiveCharacterTextSplitter(chunk_size=2000, chunk_overlap=0)"
   ]
  },
  {
   "cell_type": "code",
   "execution_count": null,
   "id": "1d3bfed5-465a-424c-bacb-bf592caad860",
   "metadata": {
    "tags": []
   },
   "outputs": [],
   "source": [
    "from langchain.document_loaders.unstructured import UnstructuredFileLoader\n",
    "from langchain.document_loaders import YoutubeLoader\n",
    "\n",
    "loader = YoutubeLoader.from_youtube_url(\"https://www.youtube.com/watch?v=FtyKgybYkaE\", add_video_info=True)\n",
    "result = loader.load()"
   ]
  },
  {
   "cell_type": "code",
   "execution_count": null,
   "id": "05105bcb-7666-47f4-a9ee-2cd4e3225c2d",
   "metadata": {},
   "outputs": [],
   "source": [
    "docs = text_splitter.split_documents(result)\n",
    "docs"
   ]
  },
  {
   "cell_type": "code",
   "execution_count": null,
   "id": "564119c4-4dcb-4e53-8614-98b0664d9faf",
   "metadata": {},
   "outputs": [],
   "source": [
    "len(docs)"
   ]
  },
  {
   "cell_type": "code",
   "execution_count": null,
   "id": "29280c02-ffff-4685-87cd-bca6fb2d3245",
   "metadata": {},
   "outputs": [],
   "source": [
    "#\n",
    "# STUFF-ing is the simplest method, whereby you simply stuff all the related data \n",
    "# into the prompt as context to pass to the language model. \n",
    "# \n",
    "# Will fail because text is too big\n",
    "from langchain.chains.summarize import load_summarize_chain\n",
    "\n",
    "chain = load_summarize_chain(llm, chain_type=\"stuff\", verbose=True)\n",
    "chain.run(result)   "
   ]
  },
  {
   "cell_type": "code",
   "execution_count": null,
   "id": "4a81cca2-8136-41bf-b55c-ce1249e04dd3",
   "metadata": {},
   "outputs": [],
   "source": [
    "#\n",
    "# MAP REDUCE : involves an initial prompt on each chunk of data \n",
    "# \n",
    "chain = load_summarize_chain(llm, chain_type=\"map_reduce\", verbose=True)\n",
    "chain.run(docs)"
   ]
  }
 ],
 "metadata": {
  "kernelspec": {
   "display_name": "Python 3 (ipykernel)",
   "language": "python",
   "name": "python3"
  },
  "language_info": {
   "codemirror_mode": {
    "name": "ipython",
    "version": 3
   },
   "file_extension": ".py",
   "mimetype": "text/x-python",
   "name": "python",
   "nbconvert_exporter": "python",
   "pygments_lexer": "ipython3",
   "version": "3.9.4"
  }
 },
 "nbformat": 4,
 "nbformat_minor": 5
}
