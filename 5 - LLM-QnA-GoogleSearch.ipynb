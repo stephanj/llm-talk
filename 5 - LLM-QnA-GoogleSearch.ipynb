{
 "cells": [
  {
   "cell_type": "code",
   "execution_count": null,
   "id": "5d26558c-2ca4-4c6c-86fc-e97771468713",
   "metadata": {
    "tags": []
   },
   "outputs": [],
   "source": [
    "#\n",
    "# LLM with QnA and Google Search\n",
    "#\n",
    "#\n",
    "!pip install youtube-transcript-api==0.5.0) # YouTube lib to get transcript\n",
    "!pip install pytube==12.1.2                 # YouTube lib\n",
    "!pip install openai==0.27.0                 # OpenAI GPT\n",
    "!pip install transformers==4.26.1           \n",
    "!pip install chromadb==0.3.21\n",
    "!pip install python-dotenv==1.0.0\n",
    "!pip install langchain==0.0.130\n",
    "!pip install tiktoken==0.3.3\n",
    "!pip install faiss-cpu==1.7.3"
   ]
  },
  {
   "cell_type": "code",
   "execution_count": null,
   "id": "df59412c-a416-44d4-9a21-2888cf229954",
   "metadata": {
    "tags": []
   },
   "outputs": [],
   "source": [
    "from dotenv import dotenv_values\n",
    "api_keys = dotenv_values('keys.txt')\n",
    "\n",
    "import os\n",
    "os.environ['OPENAI_API_KEY'] = api_keys['OPENAI_API_KEY']\n",
    "os.environ['SERPER_API_KEY'] = api_keys['SERPER_API_KEY']"
   ]
  },
  {
   "cell_type": "code",
   "execution_count": null,
   "id": "c73fff4b-677a-47f8-bfba-3070a78fc6ac",
   "metadata": {
    "tags": []
   },
   "outputs": [],
   "source": [
    "import openai\n",
    "from langchain.llms import OpenAI\n",
    "\n",
    "llm = OpenAI()"
   ]
  },
  {
   "cell_type": "code",
   "execution_count": 23,
   "id": "1e91e178-b1bc-48f1-b5fc-d2183fc78c61",
   "metadata": {},
   "outputs": [],
   "source": [
    "from langchain.text_splitter import CharacterTextSplitter\n",
    "from langchain.document_loaders import TextLoader\n",
    "from langchain.text_splitter import RecursiveCharacterTextSplitter\n",
    "from langchain.document_loaders import YoutubeLoader\n",
    "\n",
    "loader = YoutubeLoader(\"FtyKgybYkaE\", True)\n",
    "result = loader.load()"
   ]
  },
  {
   "cell_type": "code",
   "execution_count": 24,
   "id": "545a6284-18a3-4d86-8d2e-866d63c12669",
   "metadata": {},
   "outputs": [
    {
     "data": {
      "text/plain": [
       "11"
      ]
     },
     "execution_count": 24,
     "metadata": {},
     "output_type": "execute_result"
    }
   ],
   "source": [
    "text_splitter = RecursiveCharacterTextSplitter(chunk_size=2000, chunk_overlap=0)\n",
    "docs = text_splitter.split_documents(result)\n",
    "len(docs)"
   ]
  },
  {
   "cell_type": "code",
   "execution_count": 25,
   "id": "14ed9db3-abe4-4e66-9055-9dce1163c339",
   "metadata": {
    "tags": []
   },
   "outputs": [],
   "source": [
    "from langchain.embeddings.openai import OpenAIEmbeddings\n",
    "\n",
    "embeddings = OpenAIEmbeddings()"
   ]
  },
  {
   "cell_type": "code",
   "execution_count": 26,
   "id": "8b9b0da8-ef4c-49cc-82d0-d0849a0dc97f",
   "metadata": {
    "tags": []
   },
   "outputs": [],
   "source": [
    "from langchain.vectorstores import FAISS\n",
    "\n",
    "vectorstore = FAISS.from_documents(docs, embeddings)"
   ]
  },
  {
   "cell_type": "code",
   "execution_count": 27,
   "id": "3735d95f-b9e3-4161-8fce-1f33b4066036",
   "metadata": {
    "tags": []
   },
   "outputs": [],
   "source": [
    "query = \"When is the next Devoxx Belgium? Answer truthfully and when you don't know the answer say : 'I don't know'\""
   ]
  },
  {
   "cell_type": "code",
   "execution_count": 28,
   "id": "e8a3b14e-fb79-4f96-8757-9c30c516fbe2",
   "metadata": {},
   "outputs": [
    {
     "data": {
      "text/plain": [
       "4"
      ]
     },
     "execution_count": 28,
     "metadata": {},
     "output_type": "execute_result"
    }
   ],
   "source": [
    "search_results = vectorstore.similarity_search(query)\n",
    "search_results\n",
    "len(search_results)"
   ]
  },
  {
   "cell_type": "code",
   "execution_count": 29,
   "id": "187aac36-b549-4d5a-9514-7132068b8804",
   "metadata": {},
   "outputs": [
    {
     "data": {
      "text/plain": [
       "\" I don't know.\""
      ]
     },
     "execution_count": 29,
     "metadata": {},
     "output_type": "execute_result"
    }
   ],
   "source": [
    "from langchain.chains.question_answering import load_qa_chain\n",
    "\n",
    "chain = load_qa_chain(llm, chain_type=\"stuff\")\n",
    "chain.run(input_documents=search_results, question=query)"
   ]
  },
  {
   "cell_type": "code",
   "execution_count": 30,
   "id": "b8be27c0-01b4-4175-988f-f2e203264de1",
   "metadata": {
    "tags": []
   },
   "outputs": [],
   "source": [
    "#\n",
    "# Let's use Google\n",
    "#\n",
    "from langchain.agents import load_tools\n",
    "from langchain.agents import initialize_agent\n",
    "\n",
    "tools = load_tools([\"google-serper\"], llm=llm)"
   ]
  },
  {
   "cell_type": "code",
   "execution_count": 31,
   "id": "e5aa35a5-4cfc-4550-b863-cb64b3d49430",
   "metadata": {
    "tags": []
   },
   "outputs": [],
   "source": [
    "query = \"When is the next Devoxx Belgium?\""
   ]
  },
  {
   "cell_type": "code",
   "execution_count": 32,
   "id": "72a122d8-6e94-4bfd-adbe-9f41ffb626ae",
   "metadata": {
    "tags": []
   },
   "outputs": [
    {
     "name": "stdout",
     "output_type": "stream",
     "text": [
      "\n",
      "\n",
      "\u001b[1m> Entering new AgentExecutor chain...\u001b[0m\n",
      "\u001b[32;1m\u001b[1;3m I should look for when the next Devoxx Belgium event is taking place.\n",
      "Action: Serper Search\n",
      "Action Input: \"Devoxx Belgium next event\"\u001b[0m\n",
      "Observation: \u001b[36;1m\u001b[1;3mDevoxx Belgium 2022 takes place from October 10th until the 14th. Oct 10, 2022\u001b[0m\n",
      "Thought:\u001b[32;1m\u001b[1;3m This is the next upcoming event.\n",
      "Final Answer: Devoxx Belgium 2022 takes place from October 10th until the 14th. Oct 10, 2022\u001b[0m\n",
      "\n",
      "\u001b[1m> Finished chain.\u001b[0m\n"
     ]
    },
    {
     "data": {
      "text/plain": [
       "'Devoxx Belgium 2022 takes place from October 10th until the 14th. Oct 10, 2022'"
      ]
     },
     "execution_count": 32,
     "metadata": {},
     "output_type": "execute_result"
    }
   ],
   "source": [
    "agent = initialize_agent(tools, llm, agent=\"zero-shot-react-description\", verbose=True)\n",
    "agent.run(query)"
   ]
  },
  {
   "cell_type": "code",
   "execution_count": 33,
   "id": "2e1f5305-0b5d-4db1-83f1-52185504bc3a",
   "metadata": {
    "tags": []
   },
   "outputs": [
    {
     "name": "stdout",
     "output_type": "stream",
     "text": [
      "\n",
      "\n",
      "\u001b[1m> Entering new AgentExecutor chain...\u001b[0m\n",
      "\u001b[32;1m\u001b[1;3m I should do a search for the event\n",
      "Action: Serper Search\n",
      "Action Input: \"Devoxx Belgium 2023\"\u001b[0m\n",
      "Observation: \u001b[36;1m\u001b[1;3m20th edition : 2 - 6 October 2023. Devoxx Belgium. The 19th edition of Devoxx Belgium, a 5-days technology conference, saw over 3,200 attendees. CFP will open in June and run until mid July 2023. Registrations. UPDATE: We'll release two batches of tickets, one on August 16th at 9h00 AM CEST and another ... Devoxx Events. VoxxxedDays. Add all events to your calendar. Past Events. VOXXED. 16 Mar 2023. Voxxed Days Zurich 2023. More details. 2023 edition of Devoxx Belgium will be held at Kinepolis Antwerpen, Antwerp starting on 02nd October. It is a 5 day event organised by The Java Community ... Voxxed Days Brussels 2023 ... Voxxed Days, a spin-off of Devoxx, is coming to Brussels! Yes, you're reading it right, we're talking about a big in-person, first ... Voxxed Days, a spin-off of Devoxx, is coming to Brussels! Yes, you're reading it right, we're talking about the a big in-person, first class tech-community ... 5070 likes · 13 talking about this. Devoxx, the biggest Java Community conference in the world! ... DEVOXX.BE. Devoxx Belgium 2023 - the 20th edition. The Devoxx Belgium is a conference where developers and architects come together and explore the latest technology advancements and fascinating ideas, with some ... 131 Followers, 13 Following, 22 Posts - See Instagram photos and videos from Devoxx Belgium (@devoxxbe)\u001b[0m\n",
      "Thought:\u001b[32;1m\u001b[1;3m Devoxx Belgium in 2023 will be held on October 2 - 6\n",
      "Final Answer: Devoxx Belgium in 2023 will be held on October 2 - 6.\u001b[0m\n",
      "\n",
      "\u001b[1m> Finished chain.\u001b[0m\n"
     ]
    },
    {
     "data": {
      "text/plain": [
       "'Devoxx Belgium in 2023 will be held on October 2 - 6.'"
      ]
     },
     "execution_count": 33,
     "metadata": {},
     "output_type": "execute_result"
    }
   ],
   "source": [
    "query = \"When is Devoxx Belgium in 2023?\"\n",
    "agent.run(query)"
   ]
  },
  {
   "cell_type": "code",
   "execution_count": null,
   "id": "ecf703e1-9af7-4e4d-884a-3b4744fe67b8",
   "metadata": {},
   "outputs": [],
   "source": []
  }
 ],
 "metadata": {
  "kernelspec": {
   "display_name": "Python 3 (ipykernel)",
   "language": "python",
   "name": "python3"
  },
  "language_info": {
   "codemirror_mode": {
    "name": "ipython",
    "version": 3
   },
   "file_extension": ".py",
   "mimetype": "text/x-python",
   "name": "python",
   "nbconvert_exporter": "python",
   "pygments_lexer": "ipython3",
   "version": "3.9.4"
  }
 },
 "nbformat": 4,
 "nbformat_minor": 5
}
