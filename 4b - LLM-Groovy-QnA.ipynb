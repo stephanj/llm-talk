{
 "cells": [
  {
   "cell_type": "code",
   "execution_count": 1,
   "id": "5d26558c-2ca4-4c6c-86fc-e97771468713",
   "metadata": {
    "tags": []
   },
   "outputs": [
    {
     "name": "stdout",
     "output_type": "stream",
     "text": [
      "Requirement already satisfied: langchain==0.0.134 in /Users/stephan/miniforge3/envs/jupyter/lib/python3.9/site-packages (0.0.134)\n",
      "Requirement already satisfied: async-timeout<5.0.0,>=4.0.0 in /Users/stephan/miniforge3/envs/jupyter/lib/python3.9/site-packages (from langchain==0.0.134) (4.0.2)\n",
      "Requirement already satisfied: dataclasses-json<0.6.0,>=0.5.7 in /Users/stephan/miniforge3/envs/jupyter/lib/python3.9/site-packages (from langchain==0.0.134) (0.5.7)\n",
      "Requirement already satisfied: PyYAML>=5.4.1 in /Users/stephan/miniforge3/envs/jupyter/lib/python3.9/site-packages (from langchain==0.0.134) (6.0)\n",
      "Requirement already satisfied: openapi-schema-pydantic<2.0,>=1.2 in /Users/stephan/miniforge3/envs/jupyter/lib/python3.9/site-packages (from langchain==0.0.134) (1.2.4)\n",
      "Requirement already satisfied: pydantic<2,>=1 in /Users/stephan/miniforge3/envs/jupyter/lib/python3.9/site-packages (from langchain==0.0.134) (1.10.5)\n",
      "Requirement already satisfied: requests<3,>=2 in /Users/stephan/miniforge3/envs/jupyter/lib/python3.9/site-packages (from langchain==0.0.134) (2.28.2)\n",
      "Requirement already satisfied: tenacity<9.0.0,>=8.1.0 in /Users/stephan/miniforge3/envs/jupyter/lib/python3.9/site-packages (from langchain==0.0.134) (8.2.2)\n",
      "Requirement already satisfied: numpy<2,>=1 in /Users/stephan/miniforge3/envs/jupyter/lib/python3.9/site-packages (from langchain==0.0.134) (1.21.6)\n",
      "Requirement already satisfied: aiohttp<4.0.0,>=3.8.3 in /Users/stephan/miniforge3/envs/jupyter/lib/python3.9/site-packages (from langchain==0.0.134) (3.8.4)\n",
      "Requirement already satisfied: SQLAlchemy<2,>=1 in /Users/stephan/miniforge3/envs/jupyter/lib/python3.9/site-packages (from langchain==0.0.134) (1.4.46)\n",
      "Requirement already satisfied: yarl<2.0,>=1.0 in /Users/stephan/miniforge3/envs/jupyter/lib/python3.9/site-packages (from aiohttp<4.0.0,>=3.8.3->langchain==0.0.134) (1.8.2)\n",
      "Requirement already satisfied: charset-normalizer<4.0,>=2.0 in /Users/stephan/miniforge3/envs/jupyter/lib/python3.9/site-packages (from aiohttp<4.0.0,>=3.8.3->langchain==0.0.134) (2.1.1)\n",
      "Requirement already satisfied: attrs>=17.3.0 in /Users/stephan/miniforge3/envs/jupyter/lib/python3.9/site-packages (from aiohttp<4.0.0,>=3.8.3->langchain==0.0.134) (22.2.0)\n",
      "Requirement already satisfied: aiosignal>=1.1.2 in /Users/stephan/miniforge3/envs/jupyter/lib/python3.9/site-packages (from aiohttp<4.0.0,>=3.8.3->langchain==0.0.134) (1.3.1)\n",
      "Requirement already satisfied: multidict<7.0,>=4.5 in /Users/stephan/miniforge3/envs/jupyter/lib/python3.9/site-packages (from aiohttp<4.0.0,>=3.8.3->langchain==0.0.134) (6.0.4)\n",
      "Requirement already satisfied: frozenlist>=1.1.1 in /Users/stephan/miniforge3/envs/jupyter/lib/python3.9/site-packages (from aiohttp<4.0.0,>=3.8.3->langchain==0.0.134) (1.3.3)\n",
      "Requirement already satisfied: marshmallow<4.0.0,>=3.3.0 in /Users/stephan/miniforge3/envs/jupyter/lib/python3.9/site-packages (from dataclasses-json<0.6.0,>=0.5.7->langchain==0.0.134) (3.19.0)\n",
      "Requirement already satisfied: typing-inspect>=0.4.0 in /Users/stephan/miniforge3/envs/jupyter/lib/python3.9/site-packages (from dataclasses-json<0.6.0,>=0.5.7->langchain==0.0.134) (0.8.0)\n",
      "Requirement already satisfied: marshmallow-enum<2.0.0,>=1.5.1 in /Users/stephan/miniforge3/envs/jupyter/lib/python3.9/site-packages (from dataclasses-json<0.6.0,>=0.5.7->langchain==0.0.134) (1.5.1)\n",
      "Requirement already satisfied: typing-extensions>=4.2.0 in /Users/stephan/miniforge3/envs/jupyter/lib/python3.9/site-packages (from pydantic<2,>=1->langchain==0.0.134) (4.4.0)\n",
      "Requirement already satisfied: idna<4,>=2.5 in /Users/stephan/miniforge3/envs/jupyter/lib/python3.9/site-packages (from requests<3,>=2->langchain==0.0.134) (3.4)\n",
      "Requirement already satisfied: urllib3<1.27,>=1.21.1 in /Users/stephan/miniforge3/envs/jupyter/lib/python3.9/site-packages (from requests<3,>=2->langchain==0.0.134) (1.26.14)\n",
      "Requirement already satisfied: certifi>=2017.4.17 in /Users/stephan/miniforge3/envs/jupyter/lib/python3.9/site-packages (from requests<3,>=2->langchain==0.0.134) (2022.12.7)\n",
      "Requirement already satisfied: packaging>=17.0 in /Users/stephan/miniforge3/envs/jupyter/lib/python3.9/site-packages (from marshmallow<4.0.0,>=3.3.0->dataclasses-json<0.6.0,>=0.5.7->langchain==0.0.134) (23.0)\n",
      "Requirement already satisfied: mypy-extensions>=0.3.0 in /Users/stephan/miniforge3/envs/jupyter/lib/python3.9/site-packages (from typing-inspect>=0.4.0->dataclasses-json<0.6.0,>=0.5.7->langchain==0.0.134) (1.0.0)\n",
      "Note: you may need to restart the kernel to use updated packages.\n",
      "Requirement already satisfied: python-dotenv==1.0.0 in /Users/stephan/miniforge3/envs/jupyter/lib/python3.9/site-packages (1.0.0)\n",
      "Note: you may need to restart the kernel to use updated packages.\n",
      "Requirement already satisfied: faiss-cpu==1.7.3 in /Users/stephan/miniforge3/envs/jupyter/lib/python3.9/site-packages (1.7.3)\n",
      "Note: you may need to restart the kernel to use updated packages.\n"
     ]
    }
   ],
   "source": [
    "# %pip install transformers==4.26.1           # Used to know the token size\n",
    "# %pip install tiktoken==0.3.3\n",
    "# %pip install openai==0.27.2\n",
    "%pip install langchain==0.0.134\n",
    "%pip install python-dotenv==1.0.0\n",
    "%pip install faiss-cpu==1.7.3"
   ]
  },
  {
   "cell_type": "code",
   "execution_count": 2,
   "id": "df59412c-a416-44d4-9a21-2888cf229954",
   "metadata": {
    "tags": []
   },
   "outputs": [],
   "source": [
    "from dotenv import dotenv_values\n",
    "import os\n",
    "\n",
    "api_keys = dotenv_values('keys.txt')\n",
    "os.environ['OPENAI_API_KEY']=api_keys['OPENAI_API_KEY']"
   ]
  },
  {
   "cell_type": "code",
   "execution_count": 3,
   "id": "94bdc6db-156f-413a-b75c-e88360dc4676",
   "metadata": {
    "tags": []
   },
   "outputs": [],
   "source": [
    "# Load the Groovy HTML documentation and clean it up\n",
    "import re\n",
    "\n",
    "# Load a local html file\n",
    "with open('groovy.html', 'r') as f:\n",
    "    text = f.read()\n",
    "\n",
    "# Remove all HTML tags\n",
    "cleaned_groovy = re.sub(r'<[^>]*>', '', text)    \n",
    "\n",
    "# Remove blank lines\n",
    "cleaned_groovy = re.sub(r'^\\s*$', '', cleaned_groovy, flags=re.MULTILINE)\n",
    "\n",
    "# Remove the \\n\\n that are left over\n",
    "cleaned_groovy = cleaned_groovy.replace('\\n\\n', '\\n')\n",
    "\n",
    "# Save the text\n",
    "with open('groovy.txt', 'w') as f:\n",
    "    f.write(cleaned_groovy)\n"
   ]
  },
  {
   "cell_type": "code",
   "execution_count": 4,
   "id": "c73fff4b-677a-47f8-bfba-3070a78fc6ac",
   "metadata": {
    "tags": []
   },
   "outputs": [],
   "source": [
    "# from langchain.llms import OpenAI\n",
    "# llm = OpenAI()"
   ]
  },
  {
   "cell_type": "code",
   "execution_count": 6,
   "id": "6b47a048",
   "metadata": {},
   "outputs": [
    {
     "data": {
      "text/plain": [
       "591"
      ]
     },
     "execution_count": 6,
     "metadata": {},
     "output_type": "execute_result"
    }
   ],
   "source": [
    "from langchain.text_splitter import RecursiveCharacterTextSplitter\n",
    "\n",
    "text_splitter = RecursiveCharacterTextSplitter(\n",
    "    chunk_size = 2000,\n",
    "    chunk_overlap  = 20,\n",
    "    length_function = len,\n",
    ")\n",
    "\n",
    "texts = text_splitter.create_documents([cleaned_groovy])\n",
    "\n",
    "len(texts)"
   ]
  },
  {
   "cell_type": "code",
   "execution_count": 7,
   "id": "4a84d4ff",
   "metadata": {},
   "outputs": [
    {
     "name": "stdout",
     "output_type": "stream",
     "text": [
      "page_content='Groovy Language Documentation\\n.listingblock a.view-result{float:right;font-weight:normal;text-decoration:none;font-size:.9em;line-height:1.4;margin-top:.15em}.exampleblock.result{display:none}\\n//[ view example ]\\');view_result_link=p.children().last();view_result_link.on(\\'click\\',$.proxy(toggle_result_block,znode));});}$(\\'document\\').ready(insert_result_links);\\n//]]>\\nIntroduction\\nGroovy…\\u200b\\nis an agile and dynamic language for the Java Virtual Machine\\nbuilds upon the strengths of Java but has additional power features inspired by languages like Python, Ruby and Smalltalk\\nmakes modern programming features available to Java developers with almost-zero learning curve\\nprovides the ability to statically type check and statically compile your code for robustness and performance\\nsupports Domain-Specific Languages and other compact syntax so your code becomes easy to read and maintain\\nmakes writing shell and build scripts easy with its powerful processing primitives, OO abilities and an Ant DSL\\nincreases developer productivity by reducing scaffolding code when developing web, GUI, database or console applications\\nsimplifies testing by supporting unit testing and mocking out-of-the-box\\nseamlessly integrates with all existing Java classes and libraries\\ncompiles straight to Java bytecode so you can use it anywhere you can use Java\\n1. Groovy Language Specification\\n1.1. Syntax\\nThis chapter covers the syntax of the Groovy programming language.\\nThe grammar of the language derives from the Java grammar,\\nbut enhances it with specific constructs for Groovy, and allows certain simplifications.\\n1.1.1. Comments\\nSingle-line comment\\nSingle-line comments start with // and can be found at any position in the line.\\nThe characters following //, until the end of the line, are considered part of the comment.\\n// a standalone single line comment\\nprintln \"hello\" // a comment till the end of the line\\nMultiline comment\\nA multiline comment starts with /* and can be found at any position in the line.' metadata={}\n",
      "page_content='The characters following /* will be considered part of the comment, including new line characters,\\nup to the first */ closing the comment.\\nMultiline comments can thus be put at the end of a statement, or even inside a statement.\\n/* a standalone multiline comment\\n   spanning two lines */\\nprintln \"hello\" /* a multiline comment starting\\n                   at the end of a statement */\\nprintln 1 /* one */ + 2 /* two */\\nGroovydoc comment\\nSimilarly to multiline comments, Groovydoc comments are multiline, but start with /** and end with */.\\nLines following the first Groovydoc comment line can optionally start with a star *.\\nThose comments are associated with:\\ntype definitions (classes, interfaces, enums, annotations),\\nfields and properties definitions\\nmethods definitions\\nAlthough the compiler will not complain about Groovydoc comments not being associated with the above language elements,\\nyou should prepend those constructs with the comment right before it.\\n/**\\n * A Class description\\n */\\nclass Person {\\n    /** the name of the person */\\n    String name\\n    /**\\n     * Creates a greeting method for a certain person.\\n     *\\n     * @param otherPerson the person to greet\\n     * @return a greeting message\\n     */\\n    String greet(String otherPerson) {\\n       \"Hello ${otherPerson}\"\\n    }\\n}\\nGroovydoc follows the same conventions as Java’s own Javadoc.\\nSo you’ll be able to use the same tags as with Javadoc.\\nIn addition, Groovy supports Runtime Groovydoc since 3.0.0, i.e. Groovydoc can be retained at runtime.\\nRuntime Groovydoc is disabled by default. It can be enabled by adding JVM option -Dgroovy.attach.runtime.groovydoc=true\\nThe Runtime Groovydoc starts with /**@ and ends with */, for example:\\n/**@\\n * Some class groovydoc for Foo\\n */\\nclass Foo {\\n    /**@\\n     * Some method groovydoc for bar\\n     */\\n    void bar() {\\n    }\\n}\\nassert Foo.class.groovydoc.content.contains(\\'Some class groovydoc for Foo\\') (1)' metadata={}\n"
     ]
    }
   ],
   "source": [
    "print(texts[0])\n",
    "print(texts[1])"
   ]
  },
  {
   "cell_type": "code",
   "execution_count": 5,
   "id": "d25017e0-c9e4-42a8-a70f-263cf5367331",
   "metadata": {
    "tags": []
   },
   "outputs": [],
   "source": [
    "from langchain.embeddings.openai import OpenAIEmbeddings\n",
    "\n",
    "embeddings = OpenAIEmbeddings()"
   ]
  },
  {
   "cell_type": "code",
   "execution_count": 8,
   "id": "8b9b0da8-ef4c-49cc-82d0-d0849a0dc97f",
   "metadata": {
    "tags": []
   },
   "outputs": [],
   "source": [
    "# Embed and store the texts\n",
    "from langchain.vectorstores import FAISS\n",
    "\n",
    "vectorstore = FAISS.from_documents(texts, embeddings)"
   ]
  },
  {
   "cell_type": "code",
   "execution_count": 9,
   "id": "e8a3b14e-fb79-4f96-8757-9c30c516fbe2",
   "metadata": {},
   "outputs": [
    {
     "data": {
      "text/plain": [
       "4"
      ]
     },
     "execution_count": 9,
     "metadata": {},
     "output_type": "execute_result"
    }
   ],
   "source": [
    "query = \"How do I use groovy?\"\n",
    "\n",
    "search_results = vectorstore.similarity_search(query)\n",
    "len(search_results)"
   ]
  },
  {
   "cell_type": "code",
   "execution_count": 10,
   "id": "75244020-118e-4d51-8c88-6ad9f2d48b94",
   "metadata": {},
   "outputs": [
    {
     "data": {
      "text/plain": [
       "[Document(page_content='Download a binary distribution of Groovy and unpack it into some folder on your local file system.\\nSet your GROOVY_HOME environment variable to the directory where you unpacked the distribution.\\nAdd GROOVY_HOME/bin to your PATH environment variable.\\nSet your JAVA_HOME environment variable to point to your JDK. On OS X this is /Library/Java/Home, on other unixes its often /usr/java etc. If you’ve already installed tools like Ant or Maven you’ve probably already done this step.\\nYou should now have Groovy installed properly. You can test this by typing the following in a command shell:\\ngroovysh\\nWhich should create an interactive groovy shell where you can type Groovy statements. Or to run the Swing interactive console type:\\ngroovyConsole\\nTo run a specific Groovy script type:\\ngroovy SomeScript\\n3.2. Differences with Java\\nGroovy tries to be as natural as possible for Java developers. We’ve\\ntried to follow the principle of least surprise when designing Groovy,\\nparticularly for developers learning Groovy who’ve come from a Java\\nbackground.\\nHere we list all the major differences between Java and Groovy.\\n3.2.1. Default imports\\nAll these packages and classes are imported by default, i.e. you do not\\nhave to use an explicit import statement to use them:\\njava.io.*\\njava.lang.*\\njava.math.BigDecimal\\njava.math.BigInteger\\njava.net.*\\njava.util.*\\ngroovy.lang.*\\ngroovy.util.*\\n3.2.2. Multi-methods\\nIn Groovy, the methods which will be invoked are chosen at runtime. This is called runtime dispatch or multi-methods. It\\nmeans that the method will be chosen based on the types of the arguments at runtime. In Java, this is the opposite: methods\\nare chosen at compile time, based on the declared types.\\nThe following code, written as Java code, can be compiled in both Java and Groovy, but it will behave differently:\\nint method(String arg) {\\n    return 1;\\n}\\nint method(Object arg) {\\n    return 2;\\n}\\nObject o = \"Object\";\\nint result = method(o);\\nIn Java, you would have:\\nassertEquals(2, result);', metadata={}),\n",
       " Document(page_content='Prerequisites\\nGroovy 4.0 requires Java 8+ with support for up to Java 16.\\nVarious Groovy CI servers run the test suite (with more than 10000 tests) across numerous versions of Java.\\nThose servers are also useful to look at to confirm supported Java versions for different Groovy releases.\\n3.1.2. Maven Repository\\nIf you wish to embed Groovy in your application, you may just prefer to point your build\\nto your favourite maven repository or the Groovy artifactory instance.\\nPlease see the download page for available modules for each Groovy version.\\n3.1.3. SDKMAN! (The Software Development Kit Manager)\\nThis tool makes installing Groovy on any Bash platform (Mac OSX, Linux, Cygwin, Solaris or FreeBSD) very easy.\\nSimply open a new terminal and enter:\\n$ curl -s get.sdkman.io | bash\\nFollow the instructions on-screen to complete installation.\\nOpen a new terminal or type the command:\\n$ source \"$HOME/.sdkman/bin/sdkman-init.sh\"\\nThen install the latest stable Groovy:\\n$ sdk install groovy\\nAfter installation is complete and you’ve made it your default version, test it with:\\n$ groovy -version\\nThat’s all there is to it!\\n3.1.4. Other ways to get Groovy\\nInstallation on Mac OS X\\nMacPorts\\nIf you’re on macOS and have MacPorts installed, you can run:\\nsudo port install groovy\\nHomebrew\\nIf you’re on macOS and have Homebrew installed, you can run:\\nbrew install groovy\\nInstallation on Windows\\nIf you’re on Windows, you can also use the Windows installer.\\nOther Distributions\\nYou may download other distributions of Groovy from the ASF\\narchive repository\\nor from the Groovy\\nartifactory instance (also includes pre-ASF versions).\\nSource Code\\nIf you prefer to live on the bleeding edge, you can also grab the source code from GitHub.\\nIDE plugin\\nIf you are an IDE user, you can just grab the latest IDE plugin and follow the plugin installation instructions.\\n3.1.5. Install Binary\\nThese instructions describe how to install a binary distribution of Groovy:', metadata={}),\n",
       " Document(page_content='Groovy Language Documentation\\n.listingblock a.view-result{float:right;font-weight:normal;text-decoration:none;font-size:.9em;line-height:1.4;margin-top:.15em}.exampleblock.result{display:none}\\n//[ view example ]\\');view_result_link=p.children().last();view_result_link.on(\\'click\\',$.proxy(toggle_result_block,znode));});}$(\\'document\\').ready(insert_result_links);\\n//]]>\\nIntroduction\\nGroovy…\\u200b\\nis an agile and dynamic language for the Java Virtual Machine\\nbuilds upon the strengths of Java but has additional power features inspired by languages like Python, Ruby and Smalltalk\\nmakes modern programming features available to Java developers with almost-zero learning curve\\nprovides the ability to statically type check and statically compile your code for robustness and performance\\nsupports Domain-Specific Languages and other compact syntax so your code becomes easy to read and maintain\\nmakes writing shell and build scripts easy with its powerful processing primitives, OO abilities and an Ant DSL\\nincreases developer productivity by reducing scaffolding code when developing web, GUI, database or console applications\\nsimplifies testing by supporting unit testing and mocking out-of-the-box\\nseamlessly integrates with all existing Java classes and libraries\\ncompiles straight to Java bytecode so you can use it anywhere you can use Java\\n1. Groovy Language Specification\\n1.1. Syntax\\nThis chapter covers the syntax of the Groovy programming language.\\nThe grammar of the language derives from the Java grammar,\\nbut enhances it with specific constructs for Groovy, and allows certain simplifications.\\n1.1.1. Comments\\nSingle-line comment\\nSingle-line comments start with // and can be found at any position in the line.\\nThe characters following //, until the end of the line, are considered part of the comment.\\n// a standalone single line comment\\nprintln \"hello\" // a comment till the end of the line\\nMultiline comment\\nA multiline comment starts with /* and can be found at any position in the line.', metadata={}),\n",
       " Document(page_content=\"Groovy supports the Simple Logging Facade for Java (SLF4J) framework using the\\n@Slf4j annotation. Writing:\\n@groovy.util.logging.Slf4j\\nclass Greeter {\\n    void greet() {\\n        log.debug 'Called greeter'\\n        println 'Hello, world!'\\n    }\\n}\\nis equivalent to writing:\\nimport org.slf4j.LoggerFactory\\nimport org.slf4j.Logger\\nclass Greeter {\\n    private static final Logger log = LoggerFactory.getLogger(Greeter)\\n    void greet() {\\n        if (log.isDebugEnabled()) {\\n            log.debug 'Called greeter'\\n        }\\n        println 'Hello, world!'\\n    }\\n}\\nYou still need to add the appropriate slf4j jar(s) to your classpath.\\n@groovy.util.logging.PlatformLog\\nGroovy supports the Java Platform Logging API and Service\\nframework using the @PlatformLog annotation. Writing:\\n@groovy.util.logging.PlatformLog\\nclass Greeter {\\n    void greet() {\\n        log.info 'Called greeter'\\n        println 'Hello, world!'\\n    }\\n}\\nis equivalent to writing:\\nimport java.lang.System.Logger\\nimport java.lang.System.LoggerFinder\\nimport static java.lang.System.Logger.Level.INFO\\nclass Greeter {\\n    private static final transient Logger log =\\n        LoggerFinder.loggerFinder.getLogger(Greeter.class.name, Greeter.class.module)\\n    void greet() {\\n        log.log INFO, 'Called greeter'\\n        println 'Hello, world!'\\n    }\\n}\\nYou need to be using JDK 9+ to use this capability.\\nDeclarative concurrency\\nThe Groovy language provides a set of annotations aimed at simplifying common concurrency patterns in a declarative\\napproach.\\n@groovy.transform.Synchronized\\nThe @Synchronized AST transformations works in a similar way to the synchronized keyword but locks on different\\nobjects for safer concurrency. It can be applied on any method or static method:\\nimport groovy.transform.Synchronized\\nimport java.util.concurrent.Executors\\nimport java.util.concurrent.TimeUnit\\nclass Counter {\\n    int cpt\\n    @Synchronized\\n    int incrementAndGet() {\\n        cpt++\\n    }\\n    int get() {\\n        cpt\\n    }\\n}\", metadata={})]"
      ]
     },
     "execution_count": 10,
     "metadata": {},
     "output_type": "execute_result"
    }
   ],
   "source": [
    "search_results"
   ]
  },
  {
   "cell_type": "code",
   "execution_count": 11,
   "id": "063a3fea",
   "metadata": {},
   "outputs": [],
   "source": [
    "from langchain.llms import OpenAI\n",
    "\n",
    "llm = OpenAI()"
   ]
  },
  {
   "cell_type": "code",
   "execution_count": 35,
   "id": "187aac36-b549-4d5a-9514-7132068b8804",
   "metadata": {},
   "outputs": [
    {
     "data": {
      "text/plain": [
       "' You can use Groovy by integrating it with Java applications using the GroovyServlet. You can use the Eval class to evaluate Groovy code, or the GroovyShell or GroovyScriptEngine to execute Groovy scripts. You can also utilize the type checking extensions to make scripts safer. In addition, you can use Grape to download Jetty and its dependencies, and the TemplateServlet to display template pages.'"
      ]
     },
     "execution_count": 35,
     "metadata": {},
     "output_type": "execute_result"
    }
   ],
   "source": [
    "from langchain.chains.question_answering import load_qa_chain\n",
    "\n",
    "chain = load_qa_chain(llm, chain_type=\"stuff\")\n",
    "chain.run(input_documents=search_results, question=query)"
   ]
  },
  {
   "cell_type": "code",
   "execution_count": 36,
   "id": "e3fd77e1-39a5-4505-ba80-f23481ad6300",
   "metadata": {},
   "outputs": [
    {
     "data": {
      "text/plain": [
       "(Document(page_content='Now put the .groovy files in, say, the root directory (i.e. where you would put your html files). The GroovyServlet takes care of compiling the .groovy files.\\n\\nSo for example using tomcat you could edit tomcat/conf/server.xml like this:\\n\\n&lt;Context path=\"/groovy\" docBase=\"c:/groovy-servlet\"/&gt;\\n\\nThen access it with http://localhost:8080/groovy/hello.groovy\\n\\n3.20. Integrating Groovy in a Java application\\n\\n3.20.1. Groovy integration mechanisms\\n\\nThe Groovy language proposes several ways to integrate itself into applications (Java or even Groovy) at runtime, from\\nthe most basic, simple code execution to the most complete, integrating caching and compiler customization.\\n\\nAll the examples written in this section are using Groovy, but the same integration mechanisms can be used from\\nJava.\\n\\nEval\\n\\nThe groovy.util.Eval class is the simplest way to execute Groovy dynamically at runtime. This can be done by calling the me\\nmethod:\\n\\nimport groovy.util.Eval\\n\\nassert Eval.me(\\'33*3\\') == 99\\nassert Eval.me(\\'\"foo\".toUpperCase()\\') == \\'FOO\\'\\n\\nEval supports multiple variants that accept parameters for simple evaluation:\\n\\nassert Eval.x(4, \\'2*x\\') == 8                (1)\\nassert Eval.me(\\'k\\', 4, \\'2*k\\') == 8          (2)\\nassert Eval.xy(4, 5, \\'x*y\\') == 20           (3)\\nassert Eval.xyz(4, 5, 6, \\'x*y+z\\') == 26     (4)\\n\\n1\\nSimple evaluation with one bound parameter named x\\n\\n2\\nSame evaluation, with a custom bound parameter named k\\n\\n3\\nSimple evaluation with two bound parameters named x and y\\n\\n4\\nSimple evaluation with three bound parameters named x, y and z\\n\\nThe Eval class makes it very easy to evaluate simple scripts, but doesn’t scale: there is no caching of the script, and\\nit isn’t meant to evaluate more than one-liners.\\n\\nGroovyShell\\n\\nMultiple sources', metadata={}),\n",
       " 0.27538332)"
      ]
     },
     "execution_count": 36,
     "metadata": {},
     "output_type": "execute_result"
    }
   ],
   "source": [
    "docs_and_scores = vectorstore.similarity_search_with_score(query)\n",
    "docs_and_scores[0]"
   ]
  }
 ],
 "metadata": {
  "kernelspec": {
   "display_name": "Python 3 (ipykernel)",
   "language": "python",
   "name": "python3"
  },
  "language_info": {
   "codemirror_mode": {
    "name": "ipython",
    "version": 3
   },
   "file_extension": ".py",
   "mimetype": "text/x-python",
   "name": "python",
   "nbconvert_exporter": "python",
   "pygments_lexer": "ipython3",
   "version": "3.9.4"
  }
 },
 "nbformat": 4,
 "nbformat_minor": 5
}
