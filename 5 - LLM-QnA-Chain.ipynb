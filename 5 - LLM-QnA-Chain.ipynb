{
 "cells": [
  {
   "cell_type": "code",
   "execution_count": null,
   "id": "5d26558c-2ca4-4c6c-86fc-e97771468713",
   "metadata": {
    "tags": []
   },
   "outputs": [],
   "source": [
    "#\n",
    "# LLM with QnA and Chain\n",
    "#\n",
    "!pip install youtube-transcript-api # YouTube lib to get transcript\n",
    "!pip install pytube                 # YouTube lib\n",
    "!pip install openai                 # OpenAI GPT\n",
    "!pip install transformers           # Used to know the token size\n",
    "!pip install python-dotenv\n",
    "!pip install chromadb==0.3.2\n",
    "!pip install langchain==0.0.103"
   ]
  },
  {
   "cell_type": "code",
   "execution_count": null,
   "id": "d90949c6-64e7-45a1-a0be-df0ddedab0b0",
   "metadata": {
    "tags": []
   },
   "outputs": [],
   "source": [
    "!git clone https://github.com/hwchase17/langchain.git"
   ]
  },
  {
   "cell_type": "code",
   "execution_count": null,
   "id": "df59412c-a416-44d4-9a21-2888cf229954",
   "metadata": {
    "tags": []
   },
   "outputs": [],
   "source": [
    "from dotenv import dotenv_values\n",
    "api_keys = dotenv_values('keys.txt')\n",
    "\n",
    "import os\n",
    "os.environ['OPENAI_API_KEY'] = api_keys['OPENAI_API_KEY']\n",
    "os.environ['SERPER_API_KEY'] = api_keys['SERPER_API_KEY']"
   ]
  },
  {
   "cell_type": "code",
   "execution_count": null,
   "id": "c73fff4b-677a-47f8-bfba-3070a78fc6ac",
   "metadata": {
    "tags": []
   },
   "outputs": [],
   "source": [
    "from langchain.llms import OpenAI\n",
    "\n",
    "llm = OpenAI()"
   ]
  },
  {
   "cell_type": "code",
   "execution_count": null,
   "id": "9870bbac-f351-4e75-8288-2d801ae14550",
   "metadata": {},
   "outputs": [],
   "source": [
    "from langchain.text_splitter import RecursiveCharacterTextSplitter\n",
    "text_splitter = RecursiveCharacterTextSplitter(chunk_size=2000, chunk_overlap=0)"
   ]
  },
  {
   "cell_type": "code",
   "execution_count": null,
   "id": "1d3bfed5-465a-424c-bacb-bf592caad860",
   "metadata": {
    "tags": []
   },
   "outputs": [],
   "source": [
    "from langchain.document_loaders.unstructured import UnstructuredFileLoader\n",
    "from langchain.document_loaders import YoutubeLoader"
   ]
  },
  {
   "cell_type": "code",
   "execution_count": null,
   "id": "94bdc6db-156f-413a-b75c-e88360dc4676",
   "metadata": {
    "tags": []
   },
   "outputs": [],
   "source": [
    "loader = YoutubeLoader.from_youtube_url(\"https://www.youtube.com/watch?v=FtyKgybYkaE\", add_video_info=False)\n",
    "result = loader.load()"
   ]
  },
  {
   "cell_type": "code",
   "execution_count": null,
   "id": "4a81cca2-8136-41bf-b55c-ce1249e04dd3",
   "metadata": {},
   "outputs": [],
   "source": [
    "from langchain.text_splitter import RecursiveCharacterTextSplitter\n",
    "text_splitter = RecursiveCharacterTextSplitter(chunk_size=2000, chunk_overlap=0)\n",
    "\n",
    "docs = text_splitter.split_documents(result)\n",
    "docs"
   ]
  },
  {
   "cell_type": "code",
   "execution_count": null,
   "id": "d25017e0-c9e4-42a8-a70f-263cf5367331",
   "metadata": {
    "tags": []
   },
   "outputs": [],
   "source": [
    "from langchain.embeddings.openai import OpenAIEmbeddings\n",
    "from langchain.text_splitter import CharacterTextSplitter\n",
    "from langchain.vectorstores import Chroma\n",
    "from langchain.document_loaders import TextLoader"
   ]
  },
  {
   "cell_type": "code",
   "execution_count": null,
   "id": "14ed9db3-abe4-4e66-9055-9dce1163c339",
   "metadata": {
    "tags": []
   },
   "outputs": [],
   "source": [
    "embeddings = OpenAIEmbeddings()"
   ]
  },
  {
   "cell_type": "code",
   "execution_count": null,
   "id": "8b9b0da8-ef4c-49cc-82d0-d0849a0dc97f",
   "metadata": {
    "tags": []
   },
   "outputs": [],
   "source": [
    "db = Chroma.from_documents(docs, embeddings, persist_directory='db')"
   ]
  },
  {
   "cell_type": "code",
   "execution_count": null,
   "id": "3735d95f-b9e3-4161-8fce-1f33b4066036",
   "metadata": {
    "tags": []
   },
   "outputs": [],
   "source": [
    "query = \"What's the Devoxx Belgium 2022 movie? Only answer with the movie name nothing else.\""
   ]
  },
  {
   "cell_type": "code",
   "execution_count": null,
   "id": "e8a3b14e-fb79-4f96-8757-9c30c516fbe2",
   "metadata": {},
   "outputs": [],
   "source": [
    "search_results = db.similarity_search(query)"
   ]
  },
  {
   "cell_type": "code",
   "execution_count": null,
   "id": "187aac36-b549-4d5a-9514-7132068b8804",
   "metadata": {},
   "outputs": [],
   "source": [
    "from langchain.chains.question_answering import load_qa_chain\n",
    "\n",
    "chain = load_qa_chain(llm, chain_type=\"stuff\")\n",
    "chain.run(input_documents=search_results, question=query)"
   ]
  },
  {
   "cell_type": "code",
   "execution_count": null,
   "id": "e5aa35a5-4cfc-4550-b863-cb64b3d49430",
   "metadata": {
    "tags": []
   },
   "outputs": [],
   "source": [
    "query = \"When is the next Devoxx Belgium?\""
   ]
  },
  {
   "cell_type": "code",
   "execution_count": null,
   "id": "b8be27c0-01b4-4175-988f-f2e203264de1",
   "metadata": {
    "tags": []
   },
   "outputs": [],
   "source": [
    "from langchain.agents import load_tools\n",
    "from langchain.agents import initialize_agent\n",
    "\n",
    "tools = load_tools([\"google-serper\"], llm=llm)"
   ]
  },
  {
   "cell_type": "code",
   "execution_count": null,
   "id": "72a122d8-6e94-4bfd-adbe-9f41ffb626ae",
   "metadata": {
    "tags": []
   },
   "outputs": [
    {
     "name": "stdout",
     "output_type": "stream",
     "text": [
      "\n",
      "\n",
      "\u001b[1m> Entering new LLMCheckerChain chain...\u001b[0m\n",
      "\n",
      "\n",
      "\u001b[1m> Entering new SequentialChain chain...\u001b[0m\n",
      "\n",
      "\u001b[1m> Finished chain.\u001b[0m\n",
      "\n",
      "\u001b[1m> Finished chain.\u001b[0m\n"
     ]
    },
    {
     "data": {
      "text/plain": [
       "' The next Devoxx Belgium event is scheduled to take place in 2022, not in 2023.'"
      ]
     },
     "execution_count": 67,
     "metadata": {},
     "output_type": "execute_result"
    }
   ],
   "source": [
    "from langchain.chains import LLMCheckerChain\n",
    "from langchain.llms import OpenAI\n",
    "\n",
    "llm = OpenAI()\n",
    "\n",
    "text = \"When is the next Devoxx Belgium event in 2023?\"\n",
    "\n",
    "checker_chain = LLMCheckerChain(llm=llm, verbose=True)\n",
    "\n",
    "checker_chain.run(text)"
   ]
  },
  {
   "cell_type": "code",
   "execution_count": null,
   "id": "d3bcf99d-a580-48b0-8c83-cffd0090e719",
   "metadata": {},
   "outputs": [],
   "source": []
  }
 ],
 "metadata": {
  "kernelspec": {
   "display_name": "Python 3 (ipykernel)",
   "language": "python",
   "name": "python3"
  },
  "language_info": {
   "codemirror_mode": {
    "name": "ipython",
    "version": 3
   },
   "file_extension": ".py",
   "mimetype": "text/x-python",
   "name": "python",
   "nbconvert_exporter": "python",
   "pygments_lexer": "ipython3",
   "version": "3.9.4"
  }
 },
 "nbformat": 4,
 "nbformat_minor": 5
}
