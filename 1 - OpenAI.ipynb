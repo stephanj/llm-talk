{
 "cells": [
  {
   "cell_type": "code",
   "execution_count": 7,
   "id": "737b2480-39f7-46ba-a2d7-5d6c10000c86",
   "metadata": {},
   "outputs": [
    {
     "name": "stdout",
     "output_type": "stream",
     "text": [
      "Collecting openai==0.27.2\n",
      "  Using cached openai-0.27.2-py3-none-any.whl (70 kB)\n",
      "Requirement already satisfied: aiohttp in /Users/stephan/miniforge3/envs/jupyter/lib/python3.9/site-packages (from openai==0.27.2) (3.8.4)\n",
      "Requirement already satisfied: tqdm in /Users/stephan/miniforge3/envs/jupyter/lib/python3.9/site-packages (from openai==0.27.2) (4.65.0)\n",
      "Requirement already satisfied: requests>=2.20 in /Users/stephan/miniforge3/envs/jupyter/lib/python3.9/site-packages (from openai==0.27.2) (2.28.2)\n",
      "Requirement already satisfied: charset-normalizer<4,>=2 in /Users/stephan/miniforge3/envs/jupyter/lib/python3.9/site-packages (from requests>=2.20->openai==0.27.2) (2.1.1)\n",
      "Requirement already satisfied: certifi>=2017.4.17 in /Users/stephan/miniforge3/envs/jupyter/lib/python3.9/site-packages (from requests>=2.20->openai==0.27.2) (2022.12.7)\n",
      "Requirement already satisfied: idna<4,>=2.5 in /Users/stephan/miniforge3/envs/jupyter/lib/python3.9/site-packages (from requests>=2.20->openai==0.27.2) (3.4)\n",
      "Requirement already satisfied: urllib3<1.27,>=1.21.1 in /Users/stephan/miniforge3/envs/jupyter/lib/python3.9/site-packages (from requests>=2.20->openai==0.27.2) (1.26.14)\n",
      "Requirement already satisfied: async-timeout<5.0,>=4.0.0a3 in /Users/stephan/miniforge3/envs/jupyter/lib/python3.9/site-packages (from aiohttp->openai==0.27.2) (4.0.2)\n",
      "Requirement already satisfied: yarl<2.0,>=1.0 in /Users/stephan/miniforge3/envs/jupyter/lib/python3.9/site-packages (from aiohttp->openai==0.27.2) (1.8.2)\n",
      "Requirement already satisfied: aiosignal>=1.1.2 in /Users/stephan/miniforge3/envs/jupyter/lib/python3.9/site-packages (from aiohttp->openai==0.27.2) (1.3.1)\n",
      "Requirement already satisfied: attrs>=17.3.0 in /Users/stephan/miniforge3/envs/jupyter/lib/python3.9/site-packages (from aiohttp->openai==0.27.2) (22.2.0)\n",
      "Requirement already satisfied: frozenlist>=1.1.1 in /Users/stephan/miniforge3/envs/jupyter/lib/python3.9/site-packages (from aiohttp->openai==0.27.2) (1.3.3)\n",
      "Requirement already satisfied: multidict<7.0,>=4.5 in /Users/stephan/miniforge3/envs/jupyter/lib/python3.9/site-packages (from aiohttp->openai==0.27.2) (6.0.4)\n",
      "Installing collected packages: openai\n",
      "  Attempting uninstall: openai\n",
      "    Found existing installation: openai 0.27.0\n",
      "    Uninstalling openai-0.27.0:\n",
      "      Successfully uninstalled openai-0.27.0\n",
      "Successfully installed openai-0.27.2\n",
      "Note: you may need to restart the kernel to use updated packages.\n",
      "Requirement already satisfied: python-dotenv in /Users/stephan/miniforge3/envs/jupyter/lib/python3.9/site-packages (1.0.0)\n",
      "Note: you may need to restart the kernel to use updated packages.\n"
     ]
    }
   ],
   "source": [
    "%pip install openai==0.27.2\n",
    "%pip install python-dotenv"
   ]
  },
  {
   "cell_type": "code",
   "execution_count": 3,
   "id": "541d72ef-daa3-461f-8040-ee09822f8258",
   "metadata": {},
   "outputs": [],
   "source": [
    "import openai\n",
    "from dotenv import dotenv_values\n",
    "api_keys = dotenv_values('keys.txt')\n",
    "\n",
    "openai.api_key = api_keys['OPENAI_API_KEY']"
   ]
  },
  {
   "cell_type": "code",
   "execution_count": 4,
   "id": "a3283b8a-b82f-49c2-a694-993119706cc5",
   "metadata": {},
   "outputs": [],
   "source": [
    "def call_gpt(prompt):\n",
    "    # Generate text completion\n",
    "    response = openai.Completion.create(\n",
    "        engine=\"text-davinci-003\",\n",
    "        prompt=prompt,\n",
    "        max_tokens=100\n",
    "    )\n",
    "\n",
    "    # Print generated text\n",
    "    print(response.choices[0].text)"
   ]
  },
  {
   "cell_type": "code",
   "execution_count": 5,
   "id": "9f7632af-942a-4c1f-9a9b-55b90267967f",
   "metadata": {},
   "outputs": [
    {
     "name": "stdout",
     "output_type": "stream",
     "text": [
      "\n",
      "\n",
      "Devoxx Belgium is an annual international software development conference held in Antwerp, Belgium. It features over 250 keynotes, presentations and hands-on workshops by top software development experts. It is known for its focus on new techniques, solutions and technologies and as one of the best destinations for developers, software engineers, and technology professionals. Devoxx Belgium is organized and hosted by the Belgian Java User Group (BeJUG).\n"
     ]
    }
   ],
   "source": [
    "import openai\n",
    "import os\n",
    "\n",
    "# Prompt for text completion\n",
    "prompt = \"Devoxx Belgium is a conference... \"\n",
    "\n",
    "call_gpt(prompt)"
   ]
  },
  {
   "cell_type": "code",
   "execution_count": null,
   "id": "c874868d-1907-4894-a179-5f16ad52fd3a",
   "metadata": {},
   "outputs": [],
   "source": [
    "prompt = \"\"\"\n",
    "Create a tweet with following info.\n",
    "\n",
    "title: Welcome to 19th edition of Devoxx Belgium\n",
    "\n",
    "Abstract:It's been 3 years since our last Devoxx Belgium edition and we're of course excited to welcome everybody to the 19th edition.\n",
    "During this welcome you'll receive some practical info, stats etc.\n",
    "\n",
    "Speaker: Stephan Janssen, twitter handle is @Stephan007\n",
    "\"\"\"\n",
    "\n",
    "call_gpt(prompt)"
   ]
  },
  {
   "cell_type": "code",
   "execution_count": null,
   "id": "0a00ba54-0f71-40fc-98f7-5692e409e384",
   "metadata": {},
   "outputs": [],
   "source": [
    "prompt = prompt + \" Make sure to include the link to the talk is https://devoxx.be/talk/?id=50751\"\n",
    "\n",
    "call_gpt(prompt)"
   ]
  },
  {
   "cell_type": "code",
   "execution_count": null,
   "id": "bee35de4-5b94-4c56-938a-05957e67d339",
   "metadata": {},
   "outputs": [],
   "source": [
    "prompt = prompt + \" Add some emojo's\"\n",
    "\n",
    "call_gpt(prompt)"
   ]
  }
 ],
 "metadata": {
  "kernelspec": {
   "display_name": "Python 3 (ipykernel)",
   "language": "python",
   "name": "python3"
  },
  "language_info": {
   "codemirror_mode": {
    "name": "ipython",
    "version": 3
   },
   "file_extension": ".py",
   "mimetype": "text/x-python",
   "name": "python",
   "nbconvert_exporter": "python",
   "pygments_lexer": "ipython3",
   "version": "3.9.4"
  }
 },
 "nbformat": 4,
 "nbformat_minor": 5
}
