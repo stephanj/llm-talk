{
 "cells": [
  {
   "cell_type": "code",
   "execution_count": null,
   "id": "737b2480-39f7-46ba-a2d7-5d6c10000c86",
   "metadata": {},
   "outputs": [],
   "source": [
    "!pip install openai\n",
    "!pip install python-dotenv"
   ]
  },
  {
   "cell_type": "code",
   "execution_count": null,
   "id": "541d72ef-daa3-461f-8040-ee09822f8258",
   "metadata": {},
   "outputs": [],
   "source": [
    "import openai\n",
    "from dotenv import dotenv_values\n",
    "api_keys = dotenv_values('keys.txt')\n",
    "\n",
    "openai.api_key = api_keys['OPENAI_API_KEY']"
   ]
  },
  {
   "cell_type": "code",
   "execution_count": null,
   "id": "a3283b8a-b82f-49c2-a694-993119706cc5",
   "metadata": {},
   "outputs": [],
   "source": [
    "def call_gpt(prompt):\n",
    "    # Generate text completion\n",
    "    response = openai.Completion.create(\n",
    "        engine=\"text-davinci-003\",\n",
    "        prompt=prompt,\n",
    "        max_tokens=100\n",
    "    )\n",
    "\n",
    "    # Print generated text\n",
    "    print(response.choices[0].text)"
   ]
  },
  {
   "cell_type": "code",
   "execution_count": null,
   "id": "9f7632af-942a-4c1f-9a9b-55b90267967f",
   "metadata": {},
   "outputs": [],
   "source": [
    "import openai\n",
    "import os\n",
    "\n",
    "# Prompt for text completion\n",
    "prompt = \"Devoxx Belgium is a conference... \"\n",
    "\n",
    "call_gpt(prompt)"
   ]
  },
  {
   "cell_type": "code",
   "execution_count": null,
   "id": "c874868d-1907-4894-a179-5f16ad52fd3a",
   "metadata": {},
   "outputs": [],
   "source": [
    "prompt = \"\"\"\n",
    "Create a tweet with following info.\n",
    "\n",
    "title: Welcome to 19th edition of Devoxx Belgium\n",
    "\n",
    "Abstract:It's been 3 years since our last Devoxx Belgium edition and we're of course excited to welcome everybody to the 19th edition.\n",
    "During this welcome you'll receive some practical info, stats etc.\n",
    "\n",
    "Speaker: Stephan Janssen, twitter handle is @Stephan007\n",
    "\"\"\"\n",
    "\n",
    "call_gpt(prompt)"
   ]
  },
  {
   "cell_type": "code",
   "execution_count": null,
   "id": "0a00ba54-0f71-40fc-98f7-5692e409e384",
   "metadata": {},
   "outputs": [],
   "source": [
    "prompt = prompt + \" Make sure to include the link to the talk is https://devoxx.be/talk/?id=50751\"\n",
    "\n",
    "call_gpt(prompt)"
   ]
  },
  {
   "cell_type": "code",
   "execution_count": null,
   "id": "bee35de4-5b94-4c56-938a-05957e67d339",
   "metadata": {},
   "outputs": [],
   "source": [
    "prompt = prompt + \" Add some emojo's\"\n",
    "\n",
    "call_gpt(prompt)"
   ]
  }
 ],
 "metadata": {
  "kernelspec": {
   "display_name": "Python 3 (ipykernel)",
   "language": "python",
   "name": "python3"
  },
  "language_info": {
   "codemirror_mode": {
    "name": "ipython",
    "version": 3
   },
   "file_extension": ".py",
   "mimetype": "text/x-python",
   "name": "python",
   "nbconvert_exporter": "python",
   "pygments_lexer": "ipython3",
   "version": "3.9.4"
  }
 },
 "nbformat": 4,
 "nbformat_minor": 5
}
