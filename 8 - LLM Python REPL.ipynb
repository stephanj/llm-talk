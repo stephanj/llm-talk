{
 "cells": [
  {
   "cell_type": "code",
   "execution_count": 1,
   "id": "d6fdae47-6253-4699-82c1-d8654cf89b54",
   "metadata": {},
   "outputs": [],
   "source": [
    "import os\n",
    "from dotenv import dotenv_values\n",
    "\n",
    "api_keys = dotenv_values('keys.txt')\n",
    "os.environ['OPENAI_API_KEY'] = api_keys['OPENAI_API_KEY']"
   ]
  },
  {
   "cell_type": "code",
   "execution_count": 2,
   "id": "13a960a0-389d-4f3d-b4fc-0bb5057a8cf6",
   "metadata": {},
   "outputs": [],
   "source": [
    "from langchain.llms import OpenAI\n",
    "\n",
    "llm = OpenAI()"
   ]
  },
  {
   "cell_type": "code",
   "execution_count": 3,
   "id": "2a51687f-935b-4547-ab14-d8856aaa33b3",
   "metadata": {},
   "outputs": [],
   "source": [
    "from langchain.agents import load_tools\n",
    "\n",
    "tools = load_tools([\"python_repl\"], llm = llm)"
   ]
  },
  {
   "cell_type": "code",
   "execution_count": 4,
   "id": "dbd7d828-286b-427e-98ba-bdc73f33d9b4",
   "metadata": {},
   "outputs": [],
   "source": [
    "from langchain.agents import initialize_agent, Tool\n",
    "\n",
    "agent = initialize_agent(tools, llm, agent=\"zero-shot-react-description\", verbose=True)"
   ]
  },
  {
   "cell_type": "code",
   "execution_count": 5,
   "id": "de030320-bec1-4fd4-a999-8265dbd269a1",
   "metadata": {},
   "outputs": [
    {
     "name": "stdout",
     "output_type": "stream",
     "text": [
      "\n",
      "\n",
      "\u001b[1m> Entering new AgentExecutor chain...\u001b[0m\n",
      "\u001b[32;1m\u001b[1;3m I need to write a function that compiles and prints the word DEVOXX using ascii-art\n",
      "Action: Python REPL\n",
      "Action Input: \n",
      "def devoxx():\n",
      "    print(\"D    D  EEEEE  V   V  OOOO  X   X  X   X\")\n",
      "    print(\"D    D  E      V   V  O   O  X X X  X X X\")\n",
      "    print(\"D    D  EEEEE  V   V  O   O  XXXXX  XXXXX\")\n",
      "    print(\"D    D  E      V   V  O   O  X X X  X X X\")\n",
      "    print(\"D    D  EEEEE   V V   OOOO  X   X  X   X\")\n",
      "\n",
      "devoxx()\u001b[0m\n",
      "Observation: \u001b[36;1m\u001b[1;3mD    D  EEEEE  V   V  OOOO  X   X  X   X\n",
      "D    D  E      V   V  O   O  X X X  X X X\n",
      "D    D  EEEEE  V   V  O   O  XXXXX  XXXXX\n",
      "D    D  E      V   V  O   O  X X X  X X X\n",
      "D    D  EEEEE   V V   OOOO  X   X  X   X\n",
      "\u001b[0m\n",
      "Thought:\u001b[32;1m\u001b[1;3m I now know the final answer\n",
      "Final Answer: The function prints out the word DEVOXX using ascii-art.\u001b[0m\n",
      "\n",
      "\u001b[1m> Finished chain.\u001b[0m\n"
     ]
    },
    {
     "data": {
      "text/plain": [
       "'The function prints out the word DEVOXX using ascii-art.'"
      ]
     },
     "execution_count": 5,
     "metadata": {},
     "output_type": "execute_result"
    }
   ],
   "source": [
    "agent.run(\"Write a python function that compiles and prints the word DEVOXX using ascii-art and run it\")"
   ]
  },
  {
   "cell_type": "code",
   "execution_count": null,
   "id": "9f852222",
   "metadata": {},
   "outputs": [],
   "source": []
  }
 ],
 "metadata": {
  "kernelspec": {
   "display_name": "Python 3 (ipykernel)",
   "language": "python",
   "name": "python3"
  },
  "language_info": {
   "codemirror_mode": {
    "name": "ipython",
    "version": 3
   },
   "file_extension": ".py",
   "mimetype": "text/x-python",
   "name": "python",
   "nbconvert_exporter": "python",
   "pygments_lexer": "ipython3",
   "version": "3.9.4"
  }
 },
 "nbformat": 4,
 "nbformat_minor": 5
}
