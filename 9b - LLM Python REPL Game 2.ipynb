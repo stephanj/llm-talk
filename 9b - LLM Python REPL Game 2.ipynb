{
 "cells": [
  {
   "cell_type": "code",
   "execution_count": null,
   "id": "d6fdae47-6253-4699-82c1-d8654cf89b54",
   "metadata": {},
   "outputs": [],
   "source": [
    "import os\n",
    "from dotenv import dotenv_values\n",
    "\n",
    "api_keys = dotenv_values('keys.txt')\n",
    "os.environ['OPENAI_API_KEY'] = api_keys['OPENAI_API_KEY']"
   ]
  },
  {
   "cell_type": "code",
   "execution_count": null,
   "id": "03129ff6-ec9a-4244-b12a-7dd6b11d450d",
   "metadata": {},
   "outputs": [],
   "source": [
    "from langchain.agents import tool, initialize_agent\n",
    "from langchain.llms import OpenAI\n",
    "# from langchain.python import PythonREPL"
   ]
  },
  {
   "cell_type": "code",
   "execution_count": null,
   "id": "77b60fd3-e326-4264-9bdd-d890fdb2dbc3",
   "metadata": {},
   "outputs": [],
   "source": [
    "state = ''\n",
    "\n",
    "@tool\n",
    "def ResetGame(query):\n",
    "    \"\"\"Calling this function resets the state to be blank\"\"\"\n",
    "    global state\n",
    "    state = \"\" \n",
    "    return 'output;' + state\n",
    "\n",
    "\n",
    "@tool\n",
    "def TakeTurn(query):\n",
    "    \"\"\"Calling this function appends the first letter of query to the state.\"\"\"\n",
    "    global state\n",
    "    state += query[:1]\n",
    "    return 'output: ' + state"
   ]
  },
  {
   "cell_type": "code",
   "execution_count": null,
   "id": "13a960a0-389d-4f3d-b4fc-0bb5057a8cf6",
   "metadata": {},
   "outputs": [],
   "source": [
    "llm = OpenAI()"
   ]
  },
  {
   "cell_type": "code",
   "execution_count": null,
   "id": "2a51687f-935b-4547-ab14-d8856aaa33b3",
   "metadata": {},
   "outputs": [],
   "source": [
    "tools = [ResetGame, TakeTurn]"
   ]
  },
  {
   "cell_type": "code",
   "execution_count": null,
   "id": "dbd7d828-286b-427e-98ba-bdc73f33d9b4",
   "metadata": {},
   "outputs": [],
   "source": [
    "agent = initialize_agent(tools, llm, \"zero-shot-react-description\", verbose = True)"
   ]
  },
  {
   "cell_type": "code",
   "execution_count": null,
   "id": "de030320-bec1-4fd4-a999-8265dbd269a1",
   "metadata": {},
   "outputs": [],
   "source": [
    "agent.run(\"Play the game and get the exact state output 'devoxx'\")"
   ]
  },
  {
   "cell_type": "code",
   "execution_count": null,
   "id": "29204d3f-cf54-4371-973e-2d28f3b8c247",
   "metadata": {},
   "outputs": [],
   "source": []
  }
 ],
 "metadata": {
  "kernelspec": {
   "display_name": "Python 3 (ipykernel)",
   "language": "python",
   "name": "python3"
  },
  "language_info": {
   "codemirror_mode": {
    "name": "ipython",
    "version": 3
   },
   "file_extension": ".py",
   "mimetype": "text/x-python",
   "name": "python",
   "nbconvert_exporter": "python",
   "pygments_lexer": "ipython3",
   "version": "3.9.4"
  }
 },
 "nbformat": 4,
 "nbformat_minor": 5
}
